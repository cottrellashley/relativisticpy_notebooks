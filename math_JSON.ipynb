{
 "cells": [
  {
   "cell_type": "code",
   "execution_count": 278,
   "id": "e26a6bff-1b43-4acb-8cf1-919d01cabd53",
   "metadata": {},
   "outputs": [],
   "source": [
    "import json\n",
    "import re\n",
    "import pickle\n",
    "import sympy as smp\n",
    "from types import SimpleNamespace"
   ]
  },
  {
   "cell_type": "code",
   "execution_count": 284,
   "id": "19bd448c",
   "metadata": {},
   "outputs": [],
   "source": [
    "\n",
    "class MathJSON:\n",
    "    def __init__(self, objectJson):\n",
    "        self.objectJson = objectJson\n",
    "        \n",
    "    def __add__(self, other):\n",
    "        return MathJSON({ 'Add' : [self.objectJson, other.objectJson] })\n",
    "    \n",
    "    def __mul__(self, other):\n",
    "        return MathJSON({ 'Mul' : [self.objectJson, other.objectJson] })\n",
    "    \n",
    "    def __sub__(self, other):\n",
    "        return MathJSON({ 'Sub' : [self.objectJson, other.objectJson] })\n",
    "    \n",
    "    def __truediv__(self, other):\n",
    "        return MathJSON({ 'Div' : [self.objectJson, other.objectJson] })\n",
    "\n",
    "    def __eq__(self, other):\n",
    "        return MathJSON({ 'Eq' : [self.objectJson, other.objectJson] })\n",
    "\n",
    "class TensorStringParser:\n",
    "    def __init__(self, string_representation):\n",
    "        self.string_representation = string_representation\n"
   ]
  },
  {
   "cell_type": "code",
   "execution_count": 312,
   "id": "52094063",
   "metadata": {},
   "outputs": [],
   "source": [
    "# Imagine the user enters a string for the equation for the Christofel Symbols:\n",
    "\n",
    "# He can either A: assign it with an equals sign or B: simply input the string\n",
    "\n",
    "input_box = ' integrate(diff(G^{a=4}^{=0}, x), x)*(1/2)*G^{a=4}^{=0}*(D_{c}*G_{b}_{d} + D_{d}*G_{b}_{c} - D_{b}*G_{c}_{d}) '\n",
    "\n",
    "# Steps:\n",
    "\n",
    "tokens  = ['(','1','/','2',')','*','G^{a}^{b}','*','(','D_{c}','*','G_{b}_{d}',' +','D_{d}','*','G_{b}_{c}',' - ','D_{b}','*','G_{c}_{d}',')']\n",
    "\n",
    "parsed_tokens = [\n",
    "                '(',\n",
    "                 MathJSON({'integer' : '1'}),\n",
    "                 '/',\n",
    "                 MathJSON({'integer' : '2'}),\n",
    "                 ')',\n",
    "                 '*',\n",
    "                 MathJSON({'tensor_string_representation' : 'G^{a}^{b}'}),\n",
    "                 '*',\n",
    "                 '(',\n",
    "                 MathJSON({'tensor_string_representation' : 'D_{c}'}),\n",
    "                 '*',\n",
    "                 MathJSON({'tensor_string_representation' : 'G_{b}_{d}'}),\n",
    "                 '+',\n",
    "                 MathJSON({'tensor_string_representation' : 'D_{d}'}),\n",
    "                 '*',\n",
    "                 MathJSON({'tensor_string_representation' : 'G_{b}_{c}'}),\n",
    "                 '-',\n",
    "                 MathJSON({'tensor_string_representation' : 'D_{b}'}),\n",
    "                 '*',\n",
    "                 MathJSON({'tensor_string_representation' : 'G_{c}_{d}'}),\n",
    "                 ')'\n",
    "                 ]\n",
    "\n",
    "# It is at this point which if the user has entered a value which is in the store. In this case, the TensorStringParser will look for value in database \n",
    "# and use those values stored as its components.\n",
    "\n",
    "\"\"\"\n",
    "----- SHUTTING YARD ALGORITHM: ------\n",
    "\n",
    "1.  While there are tokens to be read:\n",
    "2.        Read a token\n",
    "3.        If it's a MathJSON, add it to queue\n",
    "4.        If it's an operator\n",
    "5.               While there's an operator on the top of the stack with greater precedence:\n",
    "6.                       Pop operators from the stack onto the output queue\n",
    "7.               Push the current operator onto the stack\n",
    "8.        If it's a left bracket push it onto the stack\n",
    "9.        If it's a right bracket \n",
    "10.            While there's not a left bracket at the top of the stack:\n",
    "11.                     Pop operators from the stack onto the output queue.\n",
    "12.             Pop the left bracket from the stack and discard it\n",
    "13. While there are operators on the stack, pop them to the queue\n",
    "\"\"\"\n",
    "\n",
    "# We now have a consistent list type -> operations and objects wrapped around the MathJSON class.\n",
    "# We then perform an algorithm in this list to perform the calculations in the correct order.\n",
    "\n",
    "MathJson = {'Mul': [{'Mul': [{'Div': [{'integer': '1'}, {'integer': '2'}]},\n",
    "    {'tensor_string_representation': 'G^{a}^{b}'}]},\n",
    "  {'Sub': [{'Add': [{'Mul': [{'tensor_string_representation': 'D_{c}'},\n",
    "        {'tensor_string_representation': 'G_{b}_{d}'}]},\n",
    "      {'Mul': [{'tensor_string_representation': 'D_{d}'},\n",
    "        {'tensor_string_representation': 'G_{b}_{c}'}]}]},\n",
    "    {'Mul': [{'tensor_string_representation': 'D_{b}'},\n",
    "      {'tensor_string_representation': 'G_{c}_{d}'}]}]}]}\n",
    "\n",
    "# Next we parse this into ComputeMathJson object which will, depending on the key value of the object, return the object we want:\n",
    "# integers -> convert to integer -> return integer\n",
    "# tensor_string_representation -> return TensorStringParser( tensor string )\n",
    "# tensor_json_object -> return TensorJsonParser( json object )\n",
    "\n",
    "# LAST STEP: Pass the MathJson object into ComputeMathJson object, which should return the answer of the expression AND/OR store \n"
   ]
  },
  {
   "cell_type": "code",
   "execution_count": 297,
   "id": "00b7196c",
   "metadata": {},
   "outputs": [
    {
     "data": {
      "text/plain": [
       "['T_{a=4}',\n",
       " 'R_{a}_{s}',\n",
       " 'Ricci_{a=2}_{s=3}_{d}',\n",
       " 'Ricci_{a=2}_{s=3}_{d}',\n",
       " 'I_{mu}^{g}_{f}_{s}']"
      ]
     },
     "execution_count": 297,
     "metadata": {},
     "output_type": "execute_result"
    }
   ],
   "source": [
    "class Tokenizer:\n",
    "\n",
    "    def __init__(self, string_expression):\n",
    "        self.string_expression = string_expression\n",
    "\n",
    "    def match_tensors(self):\n",
    "        string = self.string_expression\n",
    "        pattern = lambda x : \"([a-zA-Z]+)([_^]\\{[a-zA-Z]+\\}|[_^]\\{[a-zA-Z]+\\=[0-9]}){\" + str(x) + \"}(?=(\\*|\\)|\\+|\\-|\\/|$))\"\n",
    "        Total = [[x for x in re.finditer(pattern(j), string)] for j in range(1, 11)]\n",
    "        return [tensor.group() for nested in Total for tensor in nested]\n",
    "\n",
    "    def match_operators(self):\n",
    "        \"\"\"\n",
    "            Make checks as to what the name of the function is:\n",
    "                - Integrate\n",
    "                - solve\n",
    "                - diff\n",
    "                - subs\n",
    "                or just declared functions\n",
    "                - f(x)\n",
    "                - etc...\n",
    "            Then, make checks on the names and structure of the parameters.\n",
    "            And finally parse the object into the relevant sympy object and return it into the MathJSON object.\n",
    "        \"\"\"\n",
    "        Input = self.string_expression.replace(' ', '')\n",
    "        Function = '(?<![a-zA-Z])' + '([a-zA-Z]+)' + '(\\(([a-z]+\\))' + '|' + '\\(([a-z]+\\,)*[a-z]\\))'\n",
    "        return [x for x in re.finditer(Function, Input)]\n",
    "\n",
    "Tensors_list = Tokenizer(\"R_{a}_{s}+T_{a=4}+Ricci_{a=2}_{s=3}_{d}*f(t,f)+Ricci_{a=2}_{s=3}_{d}-I_{mu}^{g}_{f}_{s}\").match_tensors()\n",
    "Tensors_list\n"
   ]
  },
  {
   "cell_type": "code",
   "execution_count": 359,
   "id": "fa9b59c8-cc68-41ad-9887-4bd473c09bae",
   "metadata": {},
   "outputs": [
    {
     "data": {
      "text/plain": [
       "['T_{a=4}',\n",
       " 'Ricci_{a=0}_{s=1}',\n",
       " 'Ricci_{a=2}_{s=3}_{d}',\n",
       " 'Ricci_{a=2}_{s=3}_{d}',\n",
       " 'I_{mu}^{g}_{f}_{s}']"
      ]
     },
     "execution_count": 359,
     "metadata": {},
     "output_type": "execute_result"
    }
   ],
   "source": [
    "class DataBase:\n",
    "\n",
    "    def __init__(self):\n",
    "        self.data = {}\n",
    "\n",
    "database = DataBase()\n",
    "\n",
    "class MathJSON:\n",
    "    def __init__(self, objectJson):\n",
    "        self.objectJson = objectJson\n",
    "        \n",
    "    def __add__(self, other):\n",
    "        return MathJSON({ 'Add' : [self.objectJson, other.objectJson] })\n",
    "    \n",
    "    def __mul__(self, other):\n",
    "        return MathJSON({ 'Mul' : [self.objectJson, other.objectJson] })\n",
    "    \n",
    "    def __sub__(self, other):\n",
    "        return MathJSON({ 'Sub' : [self.objectJson, other.objectJson] })\n",
    "    \n",
    "    def __truediv__(self, other):\n",
    "        return MathJSON({ 'Div' : [self.objectJson, other.objectJson] })\n",
    "\n",
    "    def __eq__(self, other):\n",
    "        return MathJSON({ 'Eq' : [self.objectJson, other.objectJson] })\n",
    "    \n",
    "class ComputeMathJson:\n",
    "    def __init__(self, x):\n",
    "        self.operations = {\"Add\" : lambda List : ComputeMathJson(List[0])+ComputeMathJson(List[1]),\n",
    "                           \"Mul\" : lambda List : ComputeMathJson(List[0])*ComputeMathJson(List[1]),\n",
    "                           \"Sub\" : lambda List : ComputeMathJson(List[0])-ComputeMathJson(List[1]),\n",
    "                           \"Div\" : lambda List : ComputeMathJson(List[0])/ComputeMathJson(List[1]),\n",
    "                           \"Diff\" : lambda List : smp.diff(List[0], List[1]),\n",
    "                           \"Int\" : lambda List : smp.integrate(List[0], List[1]),\n",
    "                           \"Eq\" : lambda List : database.data.update({List[0] : ComputeMathJson(List[1]).x}),\n",
    "                           \"integer\" : lambda x : int(x),\n",
    "                           \"tensor\" : lambda x : TensorStringParser(x)}\n",
    "        \n",
    "        if isinstance(x, dict):\n",
    "            if [i for i in x][0] == \"Diff\":\n",
    "                self.x = self.operations[\"Diff\"](x[\"Diff\"])\n",
    "            elif [i for i in x][0] == \"Int\":\n",
    "                self.x = self.operations[\"Int\"](x[\"Int\"])\n",
    "            elif [i for i in x][0] == \"integer\":\n",
    "                self.x = self.operations[\"integer\"](x[\"integer\"])\n",
    "            else:\n",
    "                self.x = self.operations[[i for i in x][0]](x[[i for i in x][0]])\n",
    "        else:\n",
    "            self.x = x\n",
    "            \n",
    "            \n",
    "    def __add__(self, other):\n",
    "        return self.x + other.x\n",
    "    \n",
    "    def __mul__(self, other):\n",
    "        return self.x*other.x\n",
    "    \n",
    "    def __sub__(self, other):\n",
    "        return self.x-other.x\n",
    "    \n",
    "    def __truediv__(self, other):\n",
    "        return self.x/other.x\n",
    "    \n",
    "\n",
    "class MathJsonToString:\n",
    "    def __init__(self, x):\n",
    "        self.operations = {\"Add\" : lambda List : \"(\" + str(List[0]) + \"+\" + str(List[1]) + \")\",\n",
    "                           \"Mul\" : lambda List : \"(\" + str(List[0]) + \"+\" + str(List[1]) + \")\",\n",
    "                           \"Sub\" : lambda List : \"(\" + str(List[0]) + \"+\" + str(List[1]) + \")\",\n",
    "                           \"Div\" : lambda List : \"(\" + str(List[0]) + \"+\" + str(List[1]) + \")\",\n",
    "                           \"Diff\" : lambda List : \"diff(\" + str(List[0]) + \",\" + str(List[1]) + \")\",\n",
    "                           \"Int\" : lambda List : \"integrate(\" + str(List[0]) + \",\" + str(List[1]) + \")\",\n",
    "                           \"Eq\" : lambda List : str(List[0]) + \" = \" + str(List[1]),\n",
    "                           \"integer\" : lambda x : str(x),\n",
    "                           \"tensor\" : lambda x : x}\n",
    "        \n",
    "        if isinstance(x, dict):\n",
    "            if [i for i in x][0] == \"Diff\":\n",
    "                self.x = self.operations[\"Diff\"](x[\"Diff\"])\n",
    "            elif [i for i in x][0] == \"Int\":\n",
    "                self.x = self.operations[\"Int\"](x[\"Int\"])\n",
    "            elif [i for i in x][0] == \"integer\":\n",
    "                self.x = self.operations[\"integer\"](x[\"integer\"])\n",
    "            else:\n",
    "                self.x = self.operations[[i for i in x][0]](x[[i for i in x][0]])\n",
    "        else:\n",
    "            self.x = x\n",
    "\n",
    "    def get_string(self):\n",
    "        return self.x\n",
    "\n",
    "class TensorTokenParser:\n",
    "    \n",
    "    \"\"\"\n",
    "    Class which converts:\n",
    "    \n",
    "    string tensor representation -> Tensor Object\n",
    "    \n",
    "    \"\"\"\n",
    "    \n",
    "    def __init__(self, tensor_token):\n",
    "        self.tensor_string = tensor_string\n",
    "        \n",
    "    \n",
    "    \n",
    "string = \"Ricci_{a=0}_{s=1}+T_{a=4}+Ricci_{a=2}_{s=3}_{d}+Ricci_{a=2}_{s=3}_{d}-I_{mu}^{g}_{f}_{s}\"\n",
    "string1 = \"Ricci(fbv,f) fr\"\n",
    "\n",
    "def Functions(Input):\n",
    "    \"\"\"\n",
    "        Make checks as to what the name of the function is:\n",
    "            - Integrate\n",
    "            - solve\n",
    "            - diff\n",
    "            - subs\n",
    "            or just declared functions\n",
    "            - f(x)\n",
    "            - etc...\n",
    "        Then, make checks on the names and structure of the parameters.\n",
    "        And finally parse the object into the relevant sympy object and return it into the MathJSON object.\n",
    "    \"\"\"\n",
    "    Function = '(?<![a-zA-Z])' + '([a-zA-Z]+)' + '(\\(([a-z]+\\))' + '|' + '\\(([a-z]+\\,)*[a-z]\\))'\n",
    "    RemoveSpaces = Input.replace(' ', '')\n",
    "    FunctionList = []\n",
    "    return [x for x in re.finditer(Function, RemoveSpaces)]\n",
    "    \n",
    "def rank_tensor_match(string):\n",
    "    pattern = lambda x : \"([a-zA-Z]+)([_^]\\{[a-zA-Z]+\\}|[_^]\\{[a-zA-Z]+\\=[0-9]}){\" + str(x) + \"}(?=(\\*|\\)|\\+|\\-|\\/|$))\"\n",
    "    Total = [[x for x in re.finditer(pattern(j), string)] for j in range(1, 11)]\n",
    "    return [tensor.group() for nested in Total for tensor in nested]\n",
    "\n",
    "rank_tensor_match(string)"
   ]
  },
  {
   "cell_type": "code",
   "execution_count": 354,
   "id": "484f7001-36e6-4eed-9fdb-7274eeab0991",
   "metadata": {},
   "outputs": [
    {
     "data": {
      "text/plain": [
       "<re.Match object; span=(5, 26), match='integrate(f,ff,f,f,f)'>"
      ]
     },
     "execution_count": 354,
     "metadata": {},
     "output_type": "execute_result"
    }
   ],
   "source": [
    "re.search('(?<![a-zA-Z])' + '([a-zA-Z]+)' + '(\\(([a-z]+\\))' + '|' + '\\(([a-z]+\\,)*[a-z]\\))', \"dwdm+integrate(f,ff,f,f,f)\")"
   ]
  },
  {
   "cell_type": "code",
   "execution_count": 355,
   "id": "0a5e5367-eea7-4a3a-bcad-3fe1da03b2e4",
   "metadata": {},
   "outputs": [
    {
     "data": {
      "text/plain": [
       "'([a-zA-Z]+)([_^]\\\\{[a-z]+\\\\}|[_^]\\\\{[a-z]+\\\\=[0-9]}){3}(?=(\\\\*|\\\\)|\\\\+|\\\\-|\\\\/|$))'"
      ]
     },
     "execution_count": 355,
     "metadata": {},
     "output_type": "execute_result"
    }
   ],
   "source": [
    "pattern2 = lambda x : \"([a-zA-Z]+)([_^]\\{[a-z]+\\}|[_^]\\{[a-z]+\\=[0-9]}){\" + str(x) + \"}(?=(\\*|\\)|\\+|\\-|\\/|$))\"\n",
    "pattern2(3)"
   ]
  },
  {
   "cell_type": "code",
   "execution_count": 361,
   "id": "ac6b63da-a70b-42b6-9939-ac70d9ccaa4a",
   "metadata": {},
   "outputs": [
    {
     "data": {
      "text/plain": [
       "\"New = {'Add': [{'Add': [{'Mul': [3, {'Add': [{'Diff': [x**2, x]}, 4]}]}, 4]}, 7]}\""
      ]
     },
     "execution_count": 361,
     "metadata": {},
     "output_type": "execute_result"
    }
   ],
   "source": [
    "f = MathJSON(\"New\") == MathJSON(3)*(MathJSON({\"Diff\" : [smp.symbols('x')**2, smp.symbols('x')]})+MathJSON(4))+MathJSON(4)+MathJSON(7)\n",
    "MathJsonToString(f.objectJson).get_string()"
   ]
  },
  {
   "cell_type": "code",
   "execution_count": 317,
   "id": "10a7cf62-f848-4bc4-98cb-d844b93ba660",
   "metadata": {},
   "outputs": [
    {
     "data": {
      "text/latex": [
       "$\\displaystyle 6 x + 23$"
      ],
      "text/plain": [
       "6*x + 23"
      ]
     },
     "execution_count": 317,
     "metadata": {},
     "output_type": "execute_result"
    }
   ],
   "source": [
    "ComputeMathJson(f.objectJson)\n",
    "database.data['New']"
   ]
  },
  {
   "cell_type": "code",
   "execution_count": 318,
   "id": "82fcc107-8649-4ed0-addb-8108fc22bec6",
   "metadata": {},
   "outputs": [
    {
     "data": {
      "text/plain": [
       "0.5"
      ]
     },
     "execution_count": 318,
     "metadata": {},
     "output_type": "execute_result"
    }
   ],
   "source": [
    "ComputeMathJson({'Div': [{'integer': '1'}, {'integer': '2'}]}).x"
   ]
  },
  {
   "cell_type": "code",
   "execution_count": 319,
   "id": "b2ce80e1-8ae3-4a1a-b46f-e1c0a7db4087",
   "metadata": {},
   "outputs": [
    {
     "data": {
      "text/plain": [
       "[['Cheese', 72], ['Milk', 45], ['Bread', 22]]"
      ]
     },
     "execution_count": 319,
     "metadata": {},
     "output_type": "execute_result"
    }
   ],
   "source": [
    "import ast\n",
    "foo = \"[['Cheese', 72], ['Milk', 45], ['Bread', 22]]\"\n",
    "ast.literal_eval(foo)\n",
    "[['Cheese', 72], ['Milk', 45], ['Bread', 22]]"
   ]
  },
  {
   "cell_type": "code",
   "execution_count": 320,
   "id": "8fdcb371-8619-438f-8579-abf8a7240ba4",
   "metadata": {},
   "outputs": [
    {
     "data": {
      "text/plain": [
       "<ast.Module at 0x10aa79130>"
      ]
     },
     "execution_count": 320,
     "metadata": {},
     "output_type": "execute_result"
    }
   ],
   "source": [
    "ast.parse(\"\"\"5+3\"\"\")"
   ]
  },
  {
   "cell_type": "code",
   "execution_count": null,
   "id": "54bfbae6-e9c8-4abb-b217-0d9c686fa917",
   "metadata": {},
   "outputs": [],
   "source": []
  }
 ],
 "metadata": {
  "kernelspec": {
   "display_name": "Python 3 (ipykernel)",
   "language": "python",
   "name": "python3"
  },
  "language_info": {
   "codemirror_mode": {
    "name": "ipython",
    "version": 3
   },
   "file_extension": ".py",
   "mimetype": "text/x-python",
   "name": "python",
   "nbconvert_exporter": "python",
   "pygments_lexer": "ipython3",
   "version": "3.9.13"
  }
 },
 "nbformat": 4,
 "nbformat_minor": 5
}
