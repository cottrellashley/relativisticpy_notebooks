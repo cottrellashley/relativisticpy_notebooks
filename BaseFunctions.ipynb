{
 "cells": [
  {
   "cell_type": "code",
   "execution_count": 36,
   "id": "83a12d1b-1008-4cc6-9e91-2986714c886f",
   "metadata": {},
   "outputs": [],
   "source": [
    "import sympy as smp\n",
    "import itertools as it\n",
    "from sympy.tensor.array.dense_ndim_array import MutableDenseNDimArray\n",
    "import numpy as np\n",
    "import re\n",
    "from src.RelativisticPy.general_relativity.direct_computations.gr_computations import GrComputations\n",
    "from src.RelativisticPy.general_relativity.string_to_sympy.sympy_parser import SympyParser\n",
    "from src.RelativisticPy.general_relativity.tensor.gr_tensor import GrTensor\n",
    "from src.RelativisticPy.general_relativity.tensor.tensor import Tensor\n",
    "from src.RelativisticPy.general_relativity.index.gr_index import GrIndex\n",
    "from src.RelativisticPy.general_relativity.indices.gr_indices import GrIndices\n",
    "from src.RelativisticPy.general_relativity.index.index import Index\n",
    "from src.RelativisticPy.general_relativity.tensor_operation.index_product import IndexProduct\n",
    "from src.RelativisticPy.general_relativity.tensor_operation.gr_tensor_product import GrTensorProduct\n",
    "from src.RelativisticPy.math_json.to_math_json.string_to_math_json.interpreter import Interpreter\n",
    "from src.RelativisticPy.math_json.to_math_json.string_to_math_json.lexer import Lexer\n",
    "from src.RelativisticPy.math_json.to_math_json.string_to_math_json.parser_ import Parser"
   ]
  },
  {
   "cell_type": "code",
   "execution_count": 38,
   "id": "fb865c93-6fe6-4507-b9cf-27235ac1e2f3",
   "metadata": {},
   "outputs": [],
   "source": [
    "SympyParser(\"[[-A,0,0,0],[0,B,0,0],[0,0,r**2,0],[0,0,0,r**2*smp.sin(theta)**2]]\").convertToSympyObject()\n",
    "m, sigma, C_0, alpha, beta, r_s, M, t, r, theta, phi, tau, x, y, z, l, E = smp.symbols('m sigma C_0 alpha beta r_s M t r theta phi tau x y z l E', float = True)\n",
    "\n",
    "t_p, r_p, theta_p, phi_p = smp.symbols('t_p r_p theta_p phi_p', cls = smp.Function)\n",
    "\n",
    "t_p = t_p(tau)\n",
    "r_p = r_p(tau)\n",
    "theta_p = theta_p(tau)\n",
    "phi_p = phi_p(tau)\n",
    "\n",
    "\n",
    "A , B = smp.symbols('A B', cls = smp.Function)\n",
    "A = A(r)\n",
    "B = B(r)\n",
    "\n",
    "Metric = smp.MutableDenseNDimArray([[-A,0,0,0],[0,B,0,0],[0,0,r**2,0],[0,0,0,r**2*smp.sin(theta)**2]])\n",
    "InvMetric = smp.MutableDenseNDimArray([[-1/A,0,0,0],[0,1/B,0,0],[0,0,1/r**2,0],[0,0,0,1/(r**2*smp.sin(theta)**2)]])\n",
    "Base = smp.Array([t,r,theta,phi])\n",
    "Dimention = 4\n",
    "GR_General_Metric = GrComputations(Metric, Base)\n",
    "MS = smp.Array([[-(1 - (r_s)/(r_p)),0,0,0],[0,1/(1 - (r_s)/(r_p)),0,0],[0,0,r_p**2,0],[0,0,0,r_p**2*smp.sin(theta_p)**2]])\n",
    "\n",
    "Ricci = GR_General_Metric.Ricci()\n",
    "RimannCov = GR_General_Metric.Riemann0000()"
   ]
  },
  {
   "cell_type": "code",
   "execution_count": 50,
   "id": "c7563785",
   "metadata": {},
   "outputs": [],
   "source": [
    "class Workspace:\n",
    "\n",
    "    def __init__(self, tensor_string):\n",
    "        self.database = {'G' : { 'Components' : Metric , 'Basis' : Base},\n",
    "                         'Ginv' : { 'Components' : InvMetric , 'Basis' : Base},\n",
    "                         'Ricci' : { 'Components' : Ricci , 'Basis' : Base},\n",
    "                         'CovRiemann' : { 'Components' : RimannCov , 'Basis' : Base}}\n",
    "        self.tensor_string = tensor_string\n",
    "        self.tensor_object = GrTensor(self.database[self.representation_one()['name']]['Components'], GrIndices(self.representation_one()['indices'], self.database[self.representation_one()['name']]['Basis']))\n",
    "\n",
    "    def representation_one(self):\n",
    "        string = self.tensor_string\n",
    "        name = re.match('([a-zA-Z]+)', string).group()\n",
    "        indices = string.replace(name, '')\n",
    "        return {'name' : name, 'indices' : indices}\n",
    "\n",
    "class ComputeMathJson:\n",
    "    def __init__(self, x):\n",
    "        database = {}\n",
    "        self.operations = {\"ADD\" : lambda List : ComputeMathJson(List[0])+ComputeMathJson(List[1]),\n",
    "                           \"MUL\" : lambda List : ComputeMathJson(List[0])*ComputeMathJson(List[1]),\n",
    "                           \"MINUS\" : lambda List : ComputeMathJson(List[0])-ComputeMathJson(List[1]),\n",
    "                           \"DIV\" : lambda List : ComputeMathJson(List[0])/ComputeMathJson(List[1]),\n",
    "                           \"DIFF\" : lambda List : smp.diff(List[0], List[1]),\n",
    "                           \"INT\" : lambda List : smp.integrate(List[0], List[1]),\n",
    "                           \"EQUALS\" : lambda List : database.update({List[0] : ComputeMathJson(List[1]).x}),\n",
    "                           \"NUMBER_INT\" : lambda x : int(x),\n",
    "                           \"POW\" : lambda List : ComputeMathJson(List[0])**ComputeMathJson(List[1]),\n",
    "                           \"TENSOR\" : lambda x : Workspace(x).tensor_object,\n",
    "                           \"sympy_array\" : lambda x : MutableDenseNDimArray(self.Generate(x)),\n",
    "                           \"sympy_variable\" : lambda x : smp.symbols(x),\n",
    "                           \"sympy_function\" : lambda List : smp.symbols(List[0] , cls = smp.Function)(*tuple([ComputeMathJson(List[1][i]).x for i in range(len(List[1]))]))}\n",
    "        \n",
    "        if isinstance(x, dict):\n",
    "            if [i for i in x][0] == \"DIFF\":\n",
    "                self.x = self.operations[\"DIFF\"](x[\"DIFF\"])\n",
    "            elif [i for i in x][0] == \"sympy_variable\":\n",
    "                self.x = self.operations[\"sympy_variable\"](x[\"sympy_variable\"])\n",
    "            elif [i for i in x][0] == \"sympy_function\":\n",
    "                self.x = self.operations[\"sympy_function\"](x[\"sympy_function\"])\n",
    "            elif [i for i in x][0] == \"sympy_array\":\n",
    "                self.x = self.operations[\"sympy_array\"](x[\"sympy_array\"])\n",
    "            elif [i for i in x][0] == \"INT\":\n",
    "                self.x = self.operations[\"INT\"](x[\"INT\"])\n",
    "            elif [i for i in x][0] == \"POW\":\n",
    "                self.x = self.operations[\"POW\"](x[\"POW\"])\n",
    "            elif [i for i in x][0] == \"NUMBER_INT\":\n",
    "                self.x = self.operations[\"NUMBER_INT\"](x[\"NUMBER_INT\"])\n",
    "            elif [i for i in x][0] == \"TENSOR\":\n",
    "                self.x = self.operations[\"TENSOR\"](x[\"TENSOR\"])\n",
    "            else:\n",
    "                self.x = self.operations[[i for i in x][0]](x[[i for i in x][0]])\n",
    "        else:\n",
    "            self.x = x\n",
    "            \n",
    "    def Generate(self, arr):\n",
    "        IterableComponentsForArray = lambda Array : list(it.product(np.arange(np.array(Array).shape[0]), repeat = len(np.array(Array).shape)))\n",
    "        new = np.array(arr)\n",
    "        for i in IterableComponentsForArray(arr):\n",
    "            new[i] = ComputeMathJson(np.array(arr)[i]).x\n",
    "        return new\n",
    "            \n",
    "    def __add__(self, other):\n",
    "        return self.x + other.x\n",
    "    \n",
    "    def __mul__(self, other):\n",
    "        return self.x*other.x\n",
    "    \n",
    "    def __sub__(self, other):\n",
    "        return self.x-other.x\n",
    "    \n",
    "    def __truediv__(self, other):\n",
    "        return self.x/other.x\n",
    "\n",
    "    def __pow__(self, other):\n",
    "        return self.x**other.x"
   ]
  },
  {
   "cell_type": "code",
   "execution_count": 61,
   "id": "8612c888",
   "metadata": {},
   "outputs": [
    {
     "data": {
      "text/plain": [
       "{'MUL': [{'NUMBER_INT': '12'}, {'NUMBER_INT': '3'}]}"
      ]
     },
     "execution_count": 61,
     "metadata": {},
     "output_type": "execute_result"
    }
   ],
   "source": [
    "text = '12*3'\n",
    "lexerr = Lexer(text)\n",
    "tokens = lexerr.generate_tokens()\n",
    "parser = Parser(tokens)\n",
    "tree = parser.parse()\n",
    "inter = Interpreter()\n",
    "math_json = inter.visit(tree)\n",
    "math_json.dict"
   ]
  },
  {
   "cell_type": "code",
   "execution_count": 63,
   "id": "5fb3ff6d",
   "metadata": {},
   "outputs": [
    {
     "data": {
      "text/plain": [
       "36"
      ]
     },
     "execution_count": 63,
     "metadata": {},
     "output_type": "execute_result"
    }
   ],
   "source": [
    "ComputeMathJson(math_json.dict).x"
   ]
  },
  {
   "cell_type": "code",
   "execution_count": 149,
   "id": "0651a92f",
   "metadata": {},
   "outputs": [
    {
     "ename": "AttributeError",
     "evalue": "'GrTensorProduct' object has no attribute 'return_tensor'",
     "output_type": "error",
     "traceback": [
      "\u001b[0;31m---------------------------------------------------------------------------\u001b[0m",
      "\u001b[0;31mAttributeError\u001b[0m                            Traceback (most recent call last)",
      "\u001b[0;32m/var/folders/1g/_127qcc13ll334lvd9yl9vdc0000gn/T/ipykernel_13106/248394457.py\u001b[0m in \u001b[0;36m<module>\u001b[0;34m\u001b[0m\n\u001b[1;32m      1\u001b[0m \u001b[0minput_box\u001b[0m \u001b[0;34m=\u001b[0m \u001b[0;34m'G^{a}^{b}*G_{b}_{d}'\u001b[0m\u001b[0;34m\u001b[0m\u001b[0;34m\u001b[0m\u001b[0m\n\u001b[0;32m----> 2\u001b[0;31m \u001b[0mComputeMathJson\u001b[0m\u001b[0;34m(\u001b[0m\u001b[0mStringToMathJson\u001b[0m\u001b[0;34m(\u001b[0m\u001b[0minput_box\u001b[0m\u001b[0;34m)\u001b[0m\u001b[0;34m.\u001b[0m\u001b[0mcalculate\u001b[0m\u001b[0;34m(\u001b[0m\u001b[0;34m)\u001b[0m\u001b[0;34m.\u001b[0m\u001b[0mobjectJson\u001b[0m\u001b[0;34m)\u001b[0m\u001b[0;34m\u001b[0m\u001b[0;34m\u001b[0m\u001b[0m\n\u001b[0m",
      "\u001b[0;32m/var/folders/1g/_127qcc13ll334lvd9yl9vdc0000gn/T/ipykernel_13106/3076250892.py\u001b[0m in \u001b[0;36m__init__\u001b[0;34m(self, x)\u001b[0m\n\u001b[1;32m     35\u001b[0m                 \u001b[0mself\u001b[0m\u001b[0;34m.\u001b[0m\u001b[0mx\u001b[0m \u001b[0;34m=\u001b[0m \u001b[0mself\u001b[0m\u001b[0;34m.\u001b[0m\u001b[0moperations\u001b[0m\u001b[0;34m[\u001b[0m\u001b[0;34m\"tensor_string_representation\"\u001b[0m\u001b[0;34m]\u001b[0m\u001b[0;34m(\u001b[0m\u001b[0mx\u001b[0m\u001b[0;34m[\u001b[0m\u001b[0;34m\"tensor_string_representation\"\u001b[0m\u001b[0;34m]\u001b[0m\u001b[0;34m)\u001b[0m\u001b[0;34m\u001b[0m\u001b[0;34m\u001b[0m\u001b[0m\n\u001b[1;32m     36\u001b[0m             \u001b[0;32melse\u001b[0m\u001b[0;34m:\u001b[0m\u001b[0;34m\u001b[0m\u001b[0;34m\u001b[0m\u001b[0m\n\u001b[0;32m---> 37\u001b[0;31m                 \u001b[0mself\u001b[0m\u001b[0;34m.\u001b[0m\u001b[0mx\u001b[0m \u001b[0;34m=\u001b[0m \u001b[0mself\u001b[0m\u001b[0;34m.\u001b[0m\u001b[0moperations\u001b[0m\u001b[0;34m[\u001b[0m\u001b[0;34m[\u001b[0m\u001b[0mi\u001b[0m \u001b[0;32mfor\u001b[0m \u001b[0mi\u001b[0m \u001b[0;32min\u001b[0m \u001b[0mx\u001b[0m\u001b[0;34m]\u001b[0m\u001b[0;34m[\u001b[0m\u001b[0;36m0\u001b[0m\u001b[0;34m]\u001b[0m\u001b[0;34m]\u001b[0m\u001b[0;34m(\u001b[0m\u001b[0mx\u001b[0m\u001b[0;34m[\u001b[0m\u001b[0;34m[\u001b[0m\u001b[0mi\u001b[0m \u001b[0;32mfor\u001b[0m \u001b[0mi\u001b[0m \u001b[0;32min\u001b[0m \u001b[0mx\u001b[0m\u001b[0;34m]\u001b[0m\u001b[0;34m[\u001b[0m\u001b[0;36m0\u001b[0m\u001b[0;34m]\u001b[0m\u001b[0;34m]\u001b[0m\u001b[0;34m)\u001b[0m\u001b[0;34m\u001b[0m\u001b[0;34m\u001b[0m\u001b[0m\n\u001b[0m\u001b[1;32m     38\u001b[0m         \u001b[0;32melse\u001b[0m\u001b[0;34m:\u001b[0m\u001b[0;34m\u001b[0m\u001b[0;34m\u001b[0m\u001b[0m\n\u001b[1;32m     39\u001b[0m             \u001b[0mself\u001b[0m\u001b[0;34m.\u001b[0m\u001b[0mx\u001b[0m \u001b[0;34m=\u001b[0m \u001b[0mx\u001b[0m\u001b[0;34m\u001b[0m\u001b[0;34m\u001b[0m\u001b[0m\n",
      "\u001b[0;32m/var/folders/1g/_127qcc13ll334lvd9yl9vdc0000gn/T/ipykernel_13106/3076250892.py\u001b[0m in \u001b[0;36m<lambda>\u001b[0;34m(List)\u001b[0m\n\u001b[1;32m     16\u001b[0m         \u001b[0mdatabase\u001b[0m \u001b[0;34m=\u001b[0m \u001b[0;34m{\u001b[0m\u001b[0;34m}\u001b[0m\u001b[0;34m\u001b[0m\u001b[0;34m\u001b[0m\u001b[0m\n\u001b[1;32m     17\u001b[0m         self.operations = {\"Add\" : lambda List : ComputeMathJson(List[0])+ComputeMathJson(List[1]),\n\u001b[0;32m---> 18\u001b[0;31m                            \u001b[0;34m\"Mul\"\u001b[0m \u001b[0;34m:\u001b[0m \u001b[0;32mlambda\u001b[0m \u001b[0mList\u001b[0m \u001b[0;34m:\u001b[0m \u001b[0mComputeMathJson\u001b[0m\u001b[0;34m(\u001b[0m\u001b[0mList\u001b[0m\u001b[0;34m[\u001b[0m\u001b[0;36m0\u001b[0m\u001b[0;34m]\u001b[0m\u001b[0;34m)\u001b[0m\u001b[0;34m*\u001b[0m\u001b[0mComputeMathJson\u001b[0m\u001b[0;34m(\u001b[0m\u001b[0mList\u001b[0m\u001b[0;34m[\u001b[0m\u001b[0;36m1\u001b[0m\u001b[0;34m]\u001b[0m\u001b[0;34m)\u001b[0m\u001b[0;34m,\u001b[0m\u001b[0;34m\u001b[0m\u001b[0;34m\u001b[0m\u001b[0m\n\u001b[0m\u001b[1;32m     19\u001b[0m                            \u001b[0;34m\"Sub\"\u001b[0m \u001b[0;34m:\u001b[0m \u001b[0;32mlambda\u001b[0m \u001b[0mList\u001b[0m \u001b[0;34m:\u001b[0m \u001b[0mComputeMathJson\u001b[0m\u001b[0;34m(\u001b[0m\u001b[0mList\u001b[0m\u001b[0;34m[\u001b[0m\u001b[0;36m0\u001b[0m\u001b[0;34m]\u001b[0m\u001b[0;34m)\u001b[0m\u001b[0;34m-\u001b[0m\u001b[0mComputeMathJson\u001b[0m\u001b[0;34m(\u001b[0m\u001b[0mList\u001b[0m\u001b[0;34m[\u001b[0m\u001b[0;36m1\u001b[0m\u001b[0;34m]\u001b[0m\u001b[0;34m)\u001b[0m\u001b[0;34m,\u001b[0m\u001b[0;34m\u001b[0m\u001b[0;34m\u001b[0m\u001b[0m\n\u001b[1;32m     20\u001b[0m                            \u001b[0;34m\"Div\"\u001b[0m \u001b[0;34m:\u001b[0m \u001b[0;32mlambda\u001b[0m \u001b[0mList\u001b[0m \u001b[0;34m:\u001b[0m \u001b[0mComputeMathJson\u001b[0m\u001b[0;34m(\u001b[0m\u001b[0mList\u001b[0m\u001b[0;34m[\u001b[0m\u001b[0;36m0\u001b[0m\u001b[0;34m]\u001b[0m\u001b[0;34m)\u001b[0m\u001b[0;34m/\u001b[0m\u001b[0mComputeMathJson\u001b[0m\u001b[0;34m(\u001b[0m\u001b[0mList\u001b[0m\u001b[0;34m[\u001b[0m\u001b[0;36m1\u001b[0m\u001b[0;34m]\u001b[0m\u001b[0;34m)\u001b[0m\u001b[0;34m,\u001b[0m\u001b[0;34m\u001b[0m\u001b[0;34m\u001b[0m\u001b[0m\n",
      "\u001b[0;32m/var/folders/1g/_127qcc13ll334lvd9yl9vdc0000gn/T/ipykernel_13106/3076250892.py\u001b[0m in \u001b[0;36m__mul__\u001b[0;34m(self, other)\u001b[0m\n\u001b[1;32m     44\u001b[0m \u001b[0;34m\u001b[0m\u001b[0m\n\u001b[1;32m     45\u001b[0m     \u001b[0;32mdef\u001b[0m \u001b[0m__mul__\u001b[0m\u001b[0;34m(\u001b[0m\u001b[0mself\u001b[0m\u001b[0;34m,\u001b[0m \u001b[0mother\u001b[0m\u001b[0;34m)\u001b[0m\u001b[0;34m:\u001b[0m\u001b[0;34m\u001b[0m\u001b[0;34m\u001b[0m\u001b[0m\n\u001b[0;32m---> 46\u001b[0;31m         \u001b[0;32mreturn\u001b[0m \u001b[0mself\u001b[0m\u001b[0;34m.\u001b[0m\u001b[0mx\u001b[0m\u001b[0;34m*\u001b[0m\u001b[0mother\u001b[0m\u001b[0;34m.\u001b[0m\u001b[0mx\u001b[0m\u001b[0;34m\u001b[0m\u001b[0;34m\u001b[0m\u001b[0m\n\u001b[0m\u001b[1;32m     47\u001b[0m \u001b[0;34m\u001b[0m\u001b[0m\n\u001b[1;32m     48\u001b[0m     \u001b[0;32mdef\u001b[0m \u001b[0m__sub__\u001b[0m\u001b[0;34m(\u001b[0m\u001b[0mself\u001b[0m\u001b[0;34m,\u001b[0m \u001b[0mother\u001b[0m\u001b[0;34m)\u001b[0m\u001b[0;34m:\u001b[0m\u001b[0;34m\u001b[0m\u001b[0;34m\u001b[0m\u001b[0m\n",
      "\u001b[0;32m~/Documents/GR_Package_Workspace/src/RelativisticPy/general_relativity/tensor/gr_tensor.py\u001b[0m in \u001b[0;36m__mul__\u001b[0;34m(self, other)\u001b[0m\n\u001b[1;32m     42\u001b[0m             \u001b[0;32mreturn\u001b[0m \u001b[0mGrTensor\u001b[0m\u001b[0;34m(\u001b[0m\u001b[0mother\u001b[0m\u001b[0;34m*\u001b[0m\u001b[0mself\u001b[0m\u001b[0;34m.\u001b[0m\u001b[0mcomponents\u001b[0m\u001b[0;34m,\u001b[0m \u001b[0mself\u001b[0m\u001b[0;34m.\u001b[0m\u001b[0mbasis\u001b[0m\u001b[0;34m,\u001b[0m \u001b[0mself\u001b[0m\u001b[0;34m.\u001b[0m\u001b[0mtensor_indices\u001b[0m\u001b[0;34m)\u001b[0m\u001b[0;34m\u001b[0m\u001b[0;34m\u001b[0m\u001b[0m\n\u001b[1;32m     43\u001b[0m         \u001b[0;32melif\u001b[0m \u001b[0misinstance\u001b[0m\u001b[0;34m(\u001b[0m\u001b[0mother\u001b[0m\u001b[0;34m,\u001b[0m \u001b[0mGrTensor\u001b[0m\u001b[0;34m)\u001b[0m\u001b[0;34m:\u001b[0m\u001b[0;34m\u001b[0m\u001b[0;34m\u001b[0m\u001b[0m\n\u001b[0;32m---> 44\u001b[0;31m             \u001b[0mproduct\u001b[0m \u001b[0;34m=\u001b[0m \u001b[0mGrTensorProduct\u001b[0m\u001b[0;34m(\u001b[0m\u001b[0mself\u001b[0m\u001b[0;34m,\u001b[0m \u001b[0mother\u001b[0m\u001b[0;34m,\u001b[0m \u001b[0;34m\"*\"\u001b[0m\u001b[0;34m)\u001b[0m\u001b[0;34m\u001b[0m\u001b[0;34m\u001b[0m\u001b[0m\n\u001b[0m\u001b[1;32m     45\u001b[0m             \u001b[0;32mreturn\u001b[0m \u001b[0mGrTensor\u001b[0m\u001b[0;34m(\u001b[0m\u001b[0mproduct\u001b[0m\u001b[0;34m.\u001b[0m\u001b[0mreturn_tensor\u001b[0m\u001b[0;34m(\u001b[0m\u001b[0;34m)\u001b[0m\u001b[0;34m,\u001b[0m \u001b[0mproduct\u001b[0m\u001b[0;34m.\u001b[0m\u001b[0mindices_result\u001b[0m\u001b[0;34m)\u001b[0m\u001b[0;34m\u001b[0m\u001b[0;34m\u001b[0m\u001b[0m\n\u001b[1;32m     46\u001b[0m         \u001b[0;32melse\u001b[0m\u001b[0;34m:\u001b[0m\u001b[0;34m\u001b[0m\u001b[0;34m\u001b[0m\u001b[0m\n",
      "\u001b[0;31mAttributeError\u001b[0m: 'GrTensorProduct' object has no attribute 'return_tensor'"
     ]
    }
   ],
   "source": [
    "input_box = 'G^{a}^{b}*G_{b}_{d}'\n",
    "ComputeMathJson(StringToMathJson(input_box).calculate().objectJson)"
   ]
  },
  {
   "cell_type": "code",
   "execution_count": 114,
   "id": "c8f151c9",
   "metadata": {},
   "outputs": [
    {
     "data": {
      "text/plain": [
       "<src.RelativisticPy.general_relativity.tensor.gr_tensor.GrTensor at 0x112a25850>"
      ]
     },
     "execution_count": 114,
     "metadata": {},
     "output_type": "execute_result"
    }
   ],
   "source": [
    "TensorStringRepresentations('G_{a}_{b}').tensor_object"
   ]
  },
  {
   "cell_type": "code",
   "execution_count": 96,
   "id": "15b28ace",
   "metadata": {},
   "outputs": [
    {
     "data": {
      "text/plain": [
       "'_{Mu}_{b}'"
      ]
     },
     "execution_count": 96,
     "metadata": {},
     "output_type": "execute_result"
    }
   ],
   "source": [
    "TensorA = 'Metric_{Mu}_{b}'\n",
    "\n",
    "name = re.match('([a-zA-Z]+)', TensorA).group()\n",
    "\n",
    "TensorA.replace(name, '')"
   ]
  },
  {
   "cell_type": "code",
   "execution_count": null,
   "id": "2ed9e152",
   "metadata": {},
   "outputs": [],
   "source": []
  }
 ],
 "metadata": {
  "kernelspec": {
   "display_name": "Python 3 (ipykernel)",
   "language": "python",
   "name": "python3"
  },
  "language_info": {
   "codemirror_mode": {
    "name": "ipython",
    "version": 3
   },
   "file_extension": ".py",
   "mimetype": "text/x-python",
   "name": "python",
   "nbconvert_exporter": "python",
   "pygments_lexer": "ipython3",
   "version": "3.9.13"
  }
 },
 "nbformat": 4,
 "nbformat_minor": 5
}
