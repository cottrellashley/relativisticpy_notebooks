{
 "cells": [
  {
   "cell_type": "code",
   "execution_count": 1,
   "id": "3c3bfe97-1ae9-43ce-8406-8e5511b0b669",
   "metadata": {},
   "outputs": [],
   "source": [
    "import re\n",
    "import matplotlib.pyplot as plt\n",
    "import numpy as np\n",
    "import sympy as smp\n",
    "from Objects import Functions\n",
    "import tokenize\n",
    "from sympy import sin, cos, tan, sinh, cosh, tanh, exp, asin, acos, atan, Derivative, dsolve, solve, integrate, Subs, simplify"
   ]
  },
  {
   "cell_type": "code",
   "execution_count": 2,
   "id": "ee993216-f60c-4b3a-a9b4-dff0d7b1cc7c",
   "metadata": {},
   "outputs": [
    {
     "ename": "NameError",
     "evalue": "name 'StringParser' is not defined",
     "output_type": "error",
     "traceback": [
      "\u001b[0;31m---------------------------------------------------------------------------\u001b[0m",
      "\u001b[0;31mNameError\u001b[0m                                 Traceback (most recent call last)",
      "\u001b[0;32m/var/folders/1g/_127qcc13ll334lvd9yl9vdc0000gn/T/ipykernel_25679/3650042539.py\u001b[0m in \u001b[0;36m<module>\u001b[0;34m\u001b[0m\n\u001b[1;32m      3\u001b[0m \u001b[0mDiff\u001b[0m \u001b[0;34m=\u001b[0m \u001b[0;34m\"Derivative(r**2,r)*(4*B(r)**2)\"\u001b[0m\u001b[0;34m\u001b[0m\u001b[0;34m\u001b[0m\u001b[0m\n\u001b[1;32m      4\u001b[0m \u001b[0;31m#- Derivative(A(r), r)*Derivative(B(r), r)/(4*B(r)**2) - Derivative(A(r), r)**2/(4*A(r)*B(r)) + Derivative(A(r), r)/(r*B(r))\u001b[0m\u001b[0;34m\u001b[0m\u001b[0;34m\u001b[0m\u001b[0m\n\u001b[0;32m----> 5\u001b[0;31m \u001b[0mM\u001b[0m \u001b[0;34m=\u001b[0m \u001b[0mStringParser\u001b[0m\u001b[0;34m(\u001b[0m\u001b[0mDiff\u001b[0m\u001b[0;34m)\u001b[0m\u001b[0;34m.\u001b[0m\u001b[0mreturnSympyString\u001b[0m\u001b[0;34m(\u001b[0m\u001b[0;34m)\u001b[0m\u001b[0;34m\u001b[0m\u001b[0;34m\u001b[0m\u001b[0m\n\u001b[0m\u001b[1;32m      6\u001b[0m \u001b[0;31m#str(smp.MutableDenseNDimArray(M))\u001b[0m\u001b[0;34m\u001b[0m\u001b[0;34m\u001b[0m\u001b[0m\n\u001b[1;32m      7\u001b[0m \u001b[0meval\u001b[0m\u001b[0;34m(\u001b[0m\u001b[0;34m'integratedsolve(Derivative(r**2,r),r)(Q(W),(W,2))/(2*Q(W))-Derivative(Q(W),W)*Derivative(Q(W),W)/(4*Q(W)**2)-Derivative(Q(W),W)**2/(4*Q(W)*Q(W))+Derivative(Q(W),W)/(W*Q(W))'\u001b[0m\u001b[0;34m)\u001b[0m\u001b[0;34m\u001b[0m\u001b[0;34m\u001b[0m\u001b[0m\n",
      "\u001b[0;31mNameError\u001b[0m: name 'StringParser' is not defined"
     ]
    }
   ],
   "source": [
    "r, x, y, z = smp.symbols('r x y z')\n",
    "F, G, f = smp.symbols('F G f', cls = smp.Function)\n",
    "Diff = \"Derivative(r**2,r)*(4*B(r)**2)\"\n",
    "#- Derivative(A(r), r)*Derivative(B(r), r)/(4*B(r)**2) - Derivative(A(r), r)**2/(4*A(r)*B(r)) + Derivative(A(r), r)/(r*B(r))\n",
    "M = StringParser(Diff).returnSympyString()\n",
    "#str(smp.MutableDenseNDimArray(M))\n",
    "eval('integratedsolve(Derivative(r**2,r),r)(Q(W),(W,2))/(2*Q(W))-Derivative(Q(W),W)*Derivative(Q(W),W)/(4*Q(W)**2)-Derivative(Q(W),W)**2/(4*Q(W)*Q(W))+Derivative(Q(W),W)/(W*Q(W))')"
   ]
  },
  {
   "cell_type": "code",
   "execution_count": 3,
   "id": "ae1b59e5-0039-4f7f-a45e-f2ff1e23bf5b",
   "metadata": {},
   "outputs": [],
   "source": [
    "eq1 = F(r) + r**2 -x*5\n",
    "eq2 = G(r) + x - r"
   ]
  },
  {
   "cell_type": "code",
   "execution_count": 4,
   "id": "6e2220a8-2188-489f-ba0e-953c020f163b",
   "metadata": {},
   "outputs": [
    {
     "data": {
      "text/latex": [
       "$\\displaystyle r^{2} - 5 r + F{\\left(r \\right)}$"
      ],
      "text/plain": [
       "r**2 - 5*r + F(r)"
      ]
     },
     "execution_count": 4,
     "metadata": {},
     "output_type": "execute_result"
    }
   ],
   "source": [
    "simplify(Subs(F(r) + r**2 -x*5, x, r))"
   ]
  },
  {
   "cell_type": "code",
   "execution_count": 5,
   "id": "2dcf9fd5-aa93-47f0-832e-e17d3f005854",
   "metadata": {},
   "outputs": [
    {
     "data": {
      "text/latex": [
       "$\\displaystyle - \\frac{d}{d r} F{\\left(r \\right)}$"
      ],
      "text/plain": [
       "-Derivative(F(r), r)"
      ]
     },
     "execution_count": 5,
     "metadata": {},
     "output_type": "execute_result"
    }
   ],
   "source": [
    "Display = \"[-Derivative(Q(W), W), 0, 0, 0]\"\n",
    "\n",
    "def Derivative(Input):\n",
    "    output = re.sub()\n",
    "    \n",
    "\n",
    "Q = smp.symbols('F',cls=smp.Function)\n",
    "W = smp.symbols('r')\n",
    "\n",
    "eval(\"-smp.diff(Q(W), W)\")\n",
    "\n",
    "def symbolRecognizer(Input):\n",
    "    GreekSymbols = \"(theta|phi|omega|sigma|alpha|beta|gamma|epsilon|zeta|eta|kappa|lambda|mu|nu|pi|Theta|Phi|Omega|Sigma|Alpha|Beta|Gamma|Epsilon|Zeta|Eta|Kappa|Lambda|Mu|Nu|Pi)\"\n",
    "    Variable = \"(?<![a-zA-Z])[a-zA-Z](?![a-zA-Z])\"\n",
    "    Function = \"(?<![a-zA-Z])[a-zA-Z](?=\\()\"\n",
    "    RemoveSpaces = Input.replace(' ', '')\n",
    "    FunctionList = []\n",
    "    SymbolsList = []\n",
    "    GreekList = []\n",
    "    SymbolsList = [x for x in re.finditer(Variable, RemoveSpaces)]\n",
    "    GreekList = [x for x in re.finditer(GreekSymbols, RemoveSpaces)]\n",
    "    FunctionList = [x for x in re.finditer(Function, RemoveSpaces)]\n",
    "\n",
    "    for i in GreekList:\n",
    "        SymbolsList.append(i)\n",
    "    return SymbolsList\n",
    "\n",
    "eval(\"-smp.diff(Q(W), W)\")\n"
   ]
  },
  {
   "cell_type": "code",
   "execution_count": 6,
   "id": "879157af-065c-46b8-9f24-afb6b0c7a408",
   "metadata": {},
   "outputs": [],
   "source": [
    "import sympy as smp\n",
    "import numpy as np\n",
    "import itertools as it\n",
    "\n",
    " \n",
    "class Functions:\n",
    "    \n",
    "\n",
    "    def __init__(self, Metric, Basis, Dimention):\n",
    "        self.Metric = Metric\n",
    "        self.Basis = Basis\n",
    "        self.Dimention = Dimention\n",
    "        \n",
    "        \n",
    "    def Derivative(self):\n",
    "        N = self.Dimention\n",
    "        A = smp.MutableDenseNDimArray(smp.zeros(N**3),(N,N,N))\n",
    "        for i in range(N):\n",
    "            for j in range(N):\n",
    "                for k in range(N):\n",
    "                    A[i,j,k] = smp.diff(self.Metric[j,k],self.Basis[i])\n",
    "        return smp.simplify(A)\n",
    "    \n",
    "    \n",
    "    def Ginv(self):\n",
    "        N = self.Dimention\n",
    "        g_m = self.Metric.tomatrix()\n",
    "        inv_g = g_m.inv()\n",
    "        A = smp.MutableDenseNDimArray(smp.zeros(N**2),(N,N))\n",
    "        for i in range(N):\n",
    "            for j in range(N):\n",
    "                A[i,j] = inv_g[i, j]\n",
    "        return smp.simplify(A)\n",
    "    \n",
    "    \n",
    "    def Gamma(self):\n",
    "        N = self.Dimention\n",
    "        A = smp.MutableDenseNDimArray(smp.zeros(N**3),(N,N,N))\n",
    "        ig = self.Ginv()\n",
    "        for i in range(N):\n",
    "            for j in range(N):\n",
    "                for k in range(N):\n",
    "                    for d in range(N):\n",
    "                        A[i, j, k] += smp.Rational(1, 2)*(ig[d,i])*(smp.diff(self.Metric[k,d],self.Basis[j]) + smp.diff(self.Metric[d,j],self.Basis[k]) - smp.diff(self.Metric[j,k],self.Basis[d]))\n",
    "        return smp.simplify(A)\n",
    "    \n",
    "    \n",
    "    def CovariantD10(self, V):\n",
    "        N = self.Dimention\n",
    "        C = self.Gamma()\n",
    "        A = smp.MutableDenseNDimArray(smp.zeros(N**2),(N,N))\n",
    "        for i in range(N):\n",
    "            for j in range(N):\n",
    "                for k in range(N):\n",
    "                    A[i,j] += smp.Rational(1, N)*smp.diff(V[j],self.Basis[i]) + C[j,i,k]*V[k]\n",
    "        return smp.simplify(A)\n",
    "    \n",
    "    \n",
    "    def CovariantD01(self, V):\n",
    "        N = self.Dimention\n",
    "        C = self.Gamma()\n",
    "        A = smp.MutableDenseNDimArray(smp.zeros(N**2),(N,N))\n",
    "        for i in range(N):\n",
    "            for j in range(N):\n",
    "                for k in range(N):\n",
    "                    A[i,j] += smp.Rational(1, N)*smp.diff(V[j],self.Basis[i]) - C[k,i,j]*V[k]\n",
    "        return smp.simplify(A)\n",
    "    \n",
    "    \n",
    "    def CovariantD20(self, T):\n",
    "        N = self.Dimention\n",
    "        C = self.Gamma()\n",
    "        A = smp.MutableDenseNDimArray(smp.zeros(N**3),(N,N,N))\n",
    "        for i in range(N):\n",
    "            for j in range(N):\n",
    "                for k in range(N):\n",
    "                    for p in range(N):\n",
    "                        A[i,j,k] += smp.Rational(1, N)*smp.diff(T[j,k],self.Basis[i]) + C[j,i,p]*T[p,k] + C[k,i,p]*T[p,j]\n",
    "        return smp.simplify(A)\n",
    "    \n",
    "    \n",
    "    def CovariantD02(self, T):\n",
    "        N = self.Dimention\n",
    "        C = self.Gamma()\n",
    "        A = smp.MutableDenseNDimArray(smp.zeros(N**3),(N,N,N))\n",
    "        for i in range(N):\n",
    "            for j in range(N):\n",
    "                for k in range(N):\n",
    "                    for p in range(N):\n",
    "                        A[i,j,k] += smp.Rational(1, N)*smp.diff(T[j,k],self.Basis[i]) - C[p,i,j]*T[p,k] - C[p,i,k]*T[p,j]\n",
    "        return smp.simplify(A)\n",
    "    \n",
    "    \n",
    "    def CovariantD11(self, T):\n",
    "        N = self.Dimention\n",
    "        C = self.Gamma()\n",
    "        A = smp.MutableDenseNDimArray(smp.zeros(N**3),(N,N,N))\n",
    "        for i in range(N):\n",
    "            for j in range(N):\n",
    "                for k in range(N):\n",
    "                    for p in range(N):\n",
    "                        A[i,j,k] += smp.Rational(1, N)*smp.diff(T[j,k],self.Basis[i]) + C[j,i,p]*T[p,k] - C[p,i,k]*T[j,p]\n",
    "        return smp.simplify(A)\n",
    "    \n",
    "    \n",
    "    def Riemann(self):\n",
    "        N = self.Dimention\n",
    "        C = self.Gamma()\n",
    "        A = smp.MutableDenseNDimArray(smp.zeros(N**4),(N,N,N,N))\n",
    "        for i in range(N):\n",
    "            for j in range(N):\n",
    "                for k in range(N):\n",
    "                    for p in range(N):\n",
    "                        for d in range(N):\n",
    "                            A[i, j, k, p] += smp.Rational(1, N)*(smp.diff(C[i,p,j],self.Basis[k])-\n",
    "                                                             smp.diff(C[i,k,j],self.Basis[p]))+(C[i,k,d]*C[d,p,j]-C[i,p,d]*C[d,k,j])\n",
    "        return smp.simplify(A)\n",
    "    \n",
    "    \n",
    "    def CovariantRiemann(self):\n",
    "        N = self.Dimention\n",
    "        R = self.Riemann()\n",
    "        A = smp.MutableDenseNDimArray(smp.zeros(N**4),(N,N,N,N))\n",
    "        for i in range(N):\n",
    "            for j in range(N):\n",
    "                for k in range(N):\n",
    "                    for p in range(N):\n",
    "                        for d in range(N):\n",
    "                            A[i,j,k,p] += self.Metric[i,d]*R[d,j,k,p]\n",
    "        return smp.simplify(A)\n",
    "    \n",
    "    \n",
    "    def Ricci(self):\n",
    "        N = self.Dimention\n",
    "        ig = self.Ginv()\n",
    "        CR = self.CovariantRiemann()\n",
    "        A = smp.MutableDenseNDimArray(smp.zeros(N**2),(N,N))\n",
    "        for i in range(N):\n",
    "            for j in range(N):\n",
    "                for d in range(N):\n",
    "                    for s in range(N):\n",
    "                        A[i,j] += ig[d,s]*CR[d,i,s,j]\n",
    "        return smp.simplify(A)\n",
    "    \n",
    "    \n",
    "    def ricscalar(self):\n",
    "        N = self.Dimention\n",
    "        R = self.Ricci()\n",
    "        ig = self.Ginv()\n",
    "        A = float()\n",
    "        for d in range(N):\n",
    "            for s in range(N):\n",
    "                A += ig[d,s]*R[d,s]\n",
    "        return smp.simplify(A)\n",
    "    \n",
    "\n",
    "    def kscalar(self):\n",
    "        N = self.Dimention\n",
    "        R = self.CovariantRiemann()\n",
    "        ig = self.Ginv()\n",
    "        A = float()\n",
    "        for i in range(N):\n",
    "            for j in range(N):\n",
    "                for k in range(N):\n",
    "                    for p in range(N):\n",
    "                        for d in range(N):\n",
    "                            for n in range(N):\n",
    "                                for s in range(N):\n",
    "                                    for t in range(N):\n",
    "                                        A += ig[i,j]*ig[k,p]*ig[d,n]*ig[s,t]*R[i,k,d,s]*R[j,p,d,s]\n",
    "        return smp.simplify(A)\n",
    "    \n",
    "    \n",
    "    def Geodesic(self,t):\n",
    "        N = self.Dimention\n",
    "        C = self.Gamma()\n",
    "        A = smp.MutableDenseNDimArray(smp.zeros(N),(N))\n",
    "        for i in range(N):\n",
    "            for j in range(N):\n",
    "                for k in range(N):\n",
    "                    A[[i]] += smp.Rational(1, N**2)*(smp.diff(self.Basis[i], t, t)) + C[i, j, k]*(smp.diff(self.Basis[j], t))*(smp.diff(self.Basis[k], t))\n",
    "        return smp.simplify(A)\n",
    "    \n",
    "    \n",
    "    def Lagrangian(self, t):\n",
    "        N = self.Dimention\n",
    "        A = float()\n",
    "        for i in range(N):\n",
    "            for j in range(N):\n",
    "                A += - self.Metric[i,j]*smp.diff(self.Basis[i], t)*smp.diff(self.Basis[j], t)\n",
    "    \n",
    "        return smp.sqrt(A)\n",
    "    \n",
    "    \n",
    "    def EulerLagrange(self,t):\n",
    "        L = self.Lagrangian(t)\n",
    "        N = self.Dimention\n",
    "        A = smp.MutableDenseNDimArray(smp.zeros(N),(N))\n",
    "        for i in range(N):\n",
    "            A[[i]] = smp.diff(self.Basis[i],t)\n",
    "        \n",
    "        \n",
    "        B = smp.MutableDenseNDimArray(smp.zeros(N),(N))\n",
    "        C = smp.MutableDenseNDimArray(smp.zeros(N),(N))\n",
    "        for i in range(N):\n",
    "            C[[i]] = smp.diff(L, A[i])\n",
    "        for i in range(N):\n",
    "            B[[i]] = C[i].subs(L, 1)\n",
    "    \n",
    "    \n",
    "        D = smp.MutableDenseNDimArray(smp.zeros(N),(N))\n",
    "        E = smp.MutableDenseNDimArray(smp.zeros(N),(N))\n",
    "        for i in range(N):\n",
    "            D[[i]] = smp.diff(L, self.Basis[i])\n",
    "        for i in range(N):\n",
    "            E[[i]] = D[i].subs(L, 1)\n",
    "    \n",
    "        F = smp.MutableDenseNDimArray(smp.zeros(N),(N))\n",
    "        for i in range(N):\n",
    "            F[[i]] = E[i] - smp.diff(B[i],t)\n",
    "        \n",
    "        return F\n",
    "       \n",
    "    def Einstein(self, StressEnergy, Cosmological, SI_Units):\n",
    "        G = self.Metric\n",
    "        T = StressEnergy\n",
    "        N = self.Dimention\n",
    "        Lambda  = smp.symbols('Lambda')\n",
    "        Ric = self.Ricci()\n",
    "        RScalar = self.RicciScalar()\n",
    "        E = smp.MutableDenseNDimArray(smp.zeros(N**2),(N,N))\n",
    "        \n",
    "        if Cosmological and not SI_Units: \n",
    "            for i in range(N):\n",
    "                for j in range(N):\n",
    "                    E[i,j] = Ric[i,j] - smp.Rational(1,2)*G[i,j]*RScalar + (Lambda)*G[i,j] - (8*smp.pi)*T[i,j]\n",
    "            return E\n",
    "           \n",
    "        if Cosmological and SI_Units: \n",
    "            for i in range(N):\n",
    "                for j in range(N):\n",
    "                    E[i,j] = Ric[i,j] - smp.Rational(1,2)*G[i,j]*RScalar + (Lambda)*G[i,j] - (8*smp.pi)*T[i,j]\n",
    "            return E\n",
    "           \n",
    "        if not Cosmological and not SI_Units: \n",
    "            for i in range(N):\n",
    "                for j in range(N):\n",
    "                    E[i,j] = Ric[i,j] - smp.Rational(1,2)*G[i,j]*RScalar - (8*smp.pi)*T[i,j]\n",
    "            return E\n",
    "           \n",
    "        if not Cosmological and SI_Units: \n",
    "            for i in range(N):\n",
    "                for j in range(N):\n",
    "                    E[i,j] = Ric[i,j] - smp.Rational(1,2)*G[i,j]*RScalar - (8*smp.pi)*T[i,j]\n",
    "            return E"
   ]
  },
  {
   "cell_type": "code",
   "execution_count": 224,
   "id": "2c1895ba-6445-40db-aed9-73d5826cf2f6",
   "metadata": {},
   "outputs": [],
   "source": [
    "class StringParserTry:\n",
    "    def __init__(self, StringExpression):\n",
    "        self.StringExpression = StringExpression\n",
    "    \n",
    "    def Functions(self):\n",
    "        Function = \"(?<![a-zA-Z])[a-zA-Z](?=\\()\"\n",
    "        RemoveSpaces = Input.replace(' ', '')\n",
    "        FunctionList = []\n",
    "        return [x for x in re.finditer(Function, RemoveSpaces)]\n",
    "\n",
    "    def symbolRecognizer(self, Input):\n",
    "        GreekSymbols = \"(theta|phi|omega|sigma|alpha|beta|gamma|epsilon|zeta|eta|kappa|lambda|mu|nu|pi|Theta|Phi|Omega|Sigma|Alpha|Beta|Gamma|Epsilon|Zeta|Eta|Kappa|Lambda|Mu|Nu|Pi)\"\n",
    "        Variable = \"(?<![a-zA-Z])[a-zA-Z](?![a-zA-Z])\"\n",
    "        Function = \"(?<![a-zA-Z])[a-zA-Z](?=\\()\"\n",
    "        RemoveSpaces = Input.replace(' ', '')\n",
    "        FunctionList = []\n",
    "        SymbolsList = []\n",
    "        GreekList = []\n",
    "        SymbolsList = [x for x in re.finditer(Variable, RemoveSpaces)]\n",
    "        GreekList = [x for x in re.finditer(GreekSymbols, RemoveSpaces)]\n",
    "        FunctionList = [x for x in re.finditer(Function, RemoveSpaces)]\n",
    "\n",
    "        for i in GreekList:\n",
    "            SymbolsList.append(i)\n",
    "        return SymbolsList\n",
    "\n",
    "    def preDefinedFunctionRecognizer(self):\n",
    "        SpecialFunctions = ['(sin\",\"cos)', '(tan)', '(sinh)', '(cosh)', '(tanh)', '(asin)', '(atan)', '(acos)', '(asinh)', '(acosh)', '(atanh)', '(exp)', '(pi)']\n",
    "        RemoveSpaces = self.StringExpression.replace(' ', '')\n",
    "        ListOfFunctions = []\n",
    "        for i in SpecialFunctions:\n",
    "            if [x for x in re.finditer(i, RemoveSpaces)] != []:\n",
    "                ListOfFunctions.append([x for x in re.finditer(i, RemoveSpaces)])\n",
    "        return ListOfFunctions\n",
    "\n",
    "    #symbolRecognizer(Input)[1].group() = \"F\"\n",
    "    #symbolRecognizer(Input)[1].span() = (17,18)\n",
    "\n",
    "    def replacer(self, Input, Replace, Location):\n",
    "        NewString = Input.replace(' ', '')\n",
    "        return NewString[:Location[0]] + Replace + NewString[Location[1]:]\n",
    "\n",
    "    #replacer(Input, 'Q[1]', symbolRecognizer(Input)[1].span())\n",
    "\n",
    "    def returnLists(self):\n",
    "        AllSymbolsList = []\n",
    "        VariableList = []\n",
    "        FunctionList = []\n",
    "        \n",
    "        for i in range(len(self.symbolRecognizer(self.StringExpression)[1])):\n",
    "            AllSymbolsList.append(self.symbolRecognizer(self.StringExpression)[1][i].group())\n",
    "        NoDuplicatesAllSymbolsList = list(dict.fromkeys(AllSymbolsList))\n",
    "        \n",
    "        for i in NoDuplicatesAllSymbolsList:\n",
    "            if i not in self.Functions():\n",
    "                VariableList.append(i)\n",
    "            else:\n",
    "                FunctionList.append(i)\n",
    "\n",
    "        return [VariableList,FunctionList,AllSymbolsList]\n",
    "\n",
    "    def returnDictionary(self):\n",
    "        VariableList = self.returnLists()[0]\n",
    "        FunctionList = self.returnLists()[1]\n",
    "        Dic = {}\n",
    "        if len(VariableList) == 1 and len(FunctionList) == 1:\n",
    "            for i in range(len(VariableList)):\n",
    "                Dic.update({VariableList[i] : 'W'.format(i)})\n",
    "            for i in range(len(FunctionList)):\n",
    "                Dic.update({FunctionList[i] : 'Q'.format(i)})\n",
    "        if len(VariableList) == 1 and len(FunctionList) == 0:\n",
    "            for i in range(len(VariableList)):\n",
    "                Dic.update({VariableList[i] : 'W'.format(i)})\n",
    "        if len(VariableList) > 1 and len(FunctionList) == 0:\n",
    "            for i in range(len(VariableList)):\n",
    "                Dic.update({VariableList[i] : 'W[{}]'.format(i)})\n",
    "        if len(VariableList) > 1 and len(FunctionList) > 1:\n",
    "            for i in range(len(VariableList)):\n",
    "                Dic.update({VariableList[i] : 'W[{}]'.format(i)})\n",
    "            for i in range(len(FunctionList)):\n",
    "                Dic.update({FunctionList[i] : 'Q[{}]'.format(i)})\n",
    "        if len(VariableList) == 1 and len(FunctionList) > 1:\n",
    "            for i in range(len(VariableList)):\n",
    "                Dic.update({VariableList[i] : 'W'.format(i)})\n",
    "            for i in range(len(FunctionList)):\n",
    "                Dic.update({FunctionList[i] : 'Q[{}]'.format(i)})\n",
    "        if len(FunctionList) > 1 and len(VariableList) == 1:\n",
    "            for i in range(len(FunctionList)):\n",
    "                Dic.update({FunctionList[i] : 'Q[{}]'.format(i)})\n",
    "            for i in range(len(FunctionList)):\n",
    "                Dic.update({FunctionList[i] : 'Q'.format(i)})\n",
    "        if len(FunctionList) == 1 and len(VariableList) > 1:\n",
    "            for i in range(len(FunctionList)):\n",
    "                Dic.update({FunctionList[i] : 'Q'.format(i)})\n",
    "            for i in range(len(VariableList)):\n",
    "                Dic.update({VariableList[i] : 'W[{}]'.format(i)})\n",
    "        return Dic\n",
    "\n",
    "    def returnSympyString(self):\n",
    "        New = self.StringExpression\n",
    "        for i in range(len(self.symbolRecognizer(self.StringExpression))):\n",
    "            New = self.replacer(New,self.returnDictionary()[self.symbolRecognizer(New)[i].group()], self.symbolRecognizer(New)[i].span())\n",
    "        return New\n"
   ]
  },
  {
   "cell_type": "code",
   "execution_count": 225,
   "id": "95900a21-bed0-49b0-a3d1-ab2a62aefa42",
   "metadata": {},
   "outputs": [],
   "source": [
    "import re\n",
    "from sympy import sin, cos, tan, sinh, cosh, tanh, exp, asin, acos, atan\n",
    "\n",
    "class StringParser:\n",
    "    def __init__(self, StringExpression):\n",
    "        self.StringExpression = StringExpression\n",
    "    \n",
    "    def Functions(self):\n",
    "        Function = \"(?<![a-zA-Z])[a-zA-Z](?=\\()\"\n",
    "        RemoveSpaces = self.StringExpression.replace(' ', '')\n",
    "        FunctionList = []\n",
    "        List = []\n",
    "        FunctionList = [x for x in re.finditer(Function, RemoveSpaces)]\n",
    "        for i in FunctionList:\n",
    "            List.append(i.group())\n",
    "        return list(dict.fromkeys(List))\n",
    "            \n",
    "    \n",
    "    def symbolRecognizer(self, Input):\n",
    "        GreekSymbols = \"(theta|phi|omega|sigma|alpha|beta|gamma|epsilon|zeta|eta|kappa|lambda|mu|nu|pi|Theta|Phi|Omega|Sigma|Alpha|Beta|Gamma|Epsilon|Zeta|Eta|Kappa|Lambda|Mu|Nu|Pi)\"\n",
    "        RemoveSpaces = Input.replace(' ', '')\n",
    "        ListOne = []\n",
    "        ListOne = [x for x in re.finditer(\"(?<![a-zA-Z])[a-zA-Z](?![a-zA-Z])\", RemoveSpaces)]\n",
    "        ListTwo = [x for x in re.finditer(GreekSymbols, RemoveSpaces)]\n",
    "\n",
    "        for i in ListTwo:\n",
    "            ListOne.append(i)\n",
    "        return ListOne\n",
    "\n",
    "    def preDefinedFunctionRecognizer(self):\n",
    "        SpecialFunctions = ['(sin)', '(cos)', '(tan)', '(sinh)', '(cosh)', '(tanh)', '(asin)', '(atan)', '(acos)', '(asinh)', '(acosh)', '(atanh)', '(exp)', '(pi)']\n",
    "        RemoveSpaces = self.StringExpression.replace(' ', '')\n",
    "        ListOfFunctions = []\n",
    "        for i in SpecialFunctions:\n",
    "            if [x for x in re.finditer(i, RemoveSpaces)] != []:\n",
    "                ListOfFunctions.append([x for x in re.finditer(i, RemoveSpaces)])\n",
    "        return ListOfFunctions\n",
    "\n",
    "    #symbolRecognizer(Input)[1].group() = \"F\"\n",
    "    #symbolRecognizer(Input)[1].span() = (17,18)\n",
    "\n",
    "    def replacer(self, Input, Replace, Location):\n",
    "        NewString = Input.replace(' ', '')\n",
    "        return NewString[:Location[0]] + Replace + NewString[Location[1]:]\n",
    "\n",
    "    #replacer(Input, 'Q[1]', symbolRecognizer(Input)[1].span())\n",
    "\n",
    "    def returnLists(self):\n",
    "        AllSymbolsList = []\n",
    "        VariableList = []\n",
    "        FunctionList = []\n",
    "        \n",
    "        for i in range(len(self.symbolRecognizer(self.StringExpression))):\n",
    "            AllSymbolsList.append(self.symbolRecognizer(self.StringExpression)[i].group())\n",
    "        NoDuplicatesAllSymbolsList = list(dict.fromkeys(AllSymbolsList))\n",
    "        \n",
    "        for i in NoDuplicatesAllSymbolsList:\n",
    "            if i not in self.Functions():\n",
    "                VariableList.append(i)\n",
    "            else:\n",
    "                FunctionList.append(i)\n",
    "\n",
    "        return [VariableList,FunctionList,AllSymbolsList]\n",
    "\n",
    "    def returnDictionary(self):\n",
    "        VariableList = self.returnLists()[0]\n",
    "        FunctionList = self.returnLists()[1]\n",
    "        Dic = {}\n",
    "        if len(VariableList) == 1 and len(FunctionList) == 1:\n",
    "            for i in range(len(VariableList)):\n",
    "                Dic.update({VariableList[i] : 'W'.format(i)})\n",
    "            for i in range(len(FunctionList)):\n",
    "                Dic.update({FunctionList[i] : 'Q'.format(i)})\n",
    "        elif len(VariableList) == 1 and len(FunctionList) == 0:\n",
    "            for i in range(len(VariableList)):\n",
    "                Dic.update({VariableList[i] : 'W'.format(i)})\n",
    "        elif len(VariableList) > 1 and len(FunctionList) == 0:\n",
    "            for i in range(len(VariableList)):\n",
    "                Dic.update({VariableList[i] : 'W[{}]'.format(i)})\n",
    "        elif len(VariableList) > 1 and len(FunctionList) > 1:\n",
    "            for i in range(len(VariableList)):\n",
    "                Dic.update({VariableList[i] : 'W[{}]'.format(i)})\n",
    "            for i in range(len(FunctionList)):\n",
    "                Dic.update({FunctionList[i] : 'Q[{}]'.format(i)})\n",
    "        elif len(VariableList) == 1 and len(FunctionList) > 1:\n",
    "            for i in range(len(VariableList)):\n",
    "                Dic.update({VariableList[i] : 'W'.format(i)})\n",
    "            for i in range(len(FunctionList)):\n",
    "                Dic.update({FunctionList[i] : 'Q[{}]'.format(i)})\n",
    "        elif len(FunctionList) > 1 and len(VariableList) == 1:\n",
    "            for i in range(len(FunctionList)):\n",
    "                Dic.update({FunctionList[i] : 'Q[{}]'.format(i)})\n",
    "            for i in range(len(FunctionList)):\n",
    "                Dic.update({FunctionList[i] : 'Q'.format(i)})\n",
    "        elif len(FunctionList) == 1 and len(VariableList) > 1:\n",
    "            for i in range(len(FunctionList)):\n",
    "                Dic.update({FunctionList[i] : 'Q'.format(i)})\n",
    "            for i in range(len(VariableList)):\n",
    "                Dic.update({VariableList[i] : 'W[{}]'.format(i)})\n",
    "        return Dic\n",
    "\n",
    "    def returnSympyString(self):\n",
    "        New = self.StringExpression\n",
    "        for i in range(len(self.symbolRecognizer(self.StringExpression))):\n",
    "            New = self.replacer(New,self.returnDictionary()[self.symbolRecognizer(New)[i].group()], self.symbolRecognizer(New)[i].span())\n",
    "        return New\n"
   ]
  },
  {
   "cell_type": "code",
   "execution_count": 226,
   "id": "a734833b-bd8e-499e-b4bb-20e2e79d9ba7",
   "metadata": {},
   "outputs": [
    {
     "ename": "TypeError",
     "evalue": "symbolRecognizer() missing 1 required positional argument: 'Input'",
     "output_type": "error",
     "traceback": [
      "\u001b[0;31m---------------------------------------------------------------------------\u001b[0m",
      "\u001b[0;31mTypeError\u001b[0m                                 Traceback (most recent call last)",
      "\u001b[0;32m/var/folders/1g/_127qcc13ll334lvd9yl9vdc0000gn/T/ipykernel_25679/684704726.py\u001b[0m in \u001b[0;36m<module>\u001b[0;34m\u001b[0m\n\u001b[1;32m      1\u001b[0m \u001b[0mDisplay\u001b[0m \u001b[0;34m=\u001b[0m \u001b[0;34m\"F(r)\"\u001b[0m\u001b[0;34m\u001b[0m\u001b[0;34m\u001b[0m\u001b[0m\n\u001b[0;32m----> 2\u001b[0;31m \u001b[0mStringParser\u001b[0m\u001b[0;34m(\u001b[0m\u001b[0mDisplay\u001b[0m\u001b[0;34m)\u001b[0m\u001b[0;34m.\u001b[0m\u001b[0msymbolRecognizer\u001b[0m\u001b[0;34m(\u001b[0m\u001b[0;34m)\u001b[0m\u001b[0;34m\u001b[0m\u001b[0;34m\u001b[0m\u001b[0m\n\u001b[0m",
      "\u001b[0;31mTypeError\u001b[0m: symbolRecognizer() missing 1 required positional argument: 'Input'"
     ]
    }
   ],
   "source": [
    "Display = \"F(r)\"\n",
    "StringParser(Display).symbolRecognizer()"
   ]
  },
  {
   "cell_type": "code",
   "execution_count": 227,
   "id": "d1c26bf0-b7ca-4d20-8883-53ec734ec5b0",
   "metadata": {},
   "outputs": [],
   "source": [
    "class SympyParser:\n",
    "    def __init__(self, equationString):\n",
    "        self.equationString = equationString\n",
    "\n",
    "    # This will convert a list of variables and convert them into one string, in the same order of the List, \n",
    "    # so that sympy can parse the string to sympy objects.\n",
    "    # Input: List = ['x', 'y', 'z']\n",
    "    # Output: String = 'x y z '\n",
    "    def convertListToSympyVariableString(self, stringList):\n",
    "        varableList = []\n",
    "        for string in stringList:\n",
    "            varableList.append(string.replace(' ',''))\n",
    "        variable = ''\n",
    "        for i in range(len(varableList)):\n",
    "            variable += varableList[i] + ' '\n",
    "        return variable\n",
    "   \n",
    "    def convertToSympyObject(self):\n",
    "        VariableSymbolsList = StringParser(self.equationString).returnLists()[0]\n",
    "        FunctionSymbolList = StringParser(self.equationString).returnLists()[1]\n",
    "        FunctionSymbols = self.convertListToSympyVariableString(FunctionSymbolList)\n",
    "        VariableSymbols = self.convertListToSympyVariableString(VariableSymbolsList)\n",
    "        \n",
    "        if int(len(StringParser(self.equationString).returnLists()[0])) == 0:\n",
    "            return smp.symbols(StringParser(self.equationString).returnSympyString())\n",
    "            #return eval(StringParser(self.equationString, self.functionList).returnSympyString())\n",
    "        elif int(len(StringParser(self.equationString).returnLists()[1])) == 0:\n",
    "            W = smp.symbols(VariableSymbols)\n",
    "            return eval(StringParser(self.equationString).returnSympyString())\n",
    "        elif int(len(StringParser(self.equationString).returnLists()[1])) >= 1:\n",
    "            W = smp.symbols(VariableSymbols)\n",
    "            Q = smp.symbols(FunctionSymbols, cls = smp.Function)\n",
    "            return eval(StringParser(self.equationString).returnSympyString())\n"
   ]
  },
  {
   "cell_type": "code",
   "execution_count": 238,
   "id": "bfd3f9ac-9fbc-471f-9428-3401340e82b1",
   "metadata": {},
   "outputs": [
    {
     "data": {
      "text/latex": [
       "$\\displaystyle \\left[\\begin{matrix}\\frac{t F{\\left(r \\right)} \\frac{d}{d r} F{\\left(r \\right)}}{2} & - \\frac{r^{2} \\frac{d}{d r} F{\\left(r \\right)}}{2} + 1 & 0 & 0\\\\\\frac{r \\left(r \\frac{d}{d r} F{\\left(r \\right)} + 4 F{\\left(r \\right)}\\right)}{2} & \\frac{t \\frac{d}{d r} F{\\left(r \\right)}}{2 F{\\left(r \\right)}} & 0 & - \\frac{\\theta}{r}\\\\0 & -1 & r t F{\\left(r \\right)} & - \\frac{\\theta}{\\tan{\\left(\\theta \\right)}} + 1\\\\0 & - \\frac{\\theta}{r} & - \\frac{\\theta}{\\tan{\\left(\\theta \\right)}} & \\frac{r \\left(2 t F{\\left(r \\right)} \\sin^{2}{\\left(\\theta \\right)} + \\sin{\\left(2 \\theta \\right)}\\right)}{2}\\end{matrix}\\right]$"
      ],
      "text/plain": [
       "[[t*F(r)*Derivative(F(r), r)/2, -r**2*Derivative(F(r), r)/2 + 1, 0, 0], [r*(r*Derivative(F(r), r) + 4*F(r))/2, t*Derivative(F(r), r)/(2*F(r)), 0, -theta/r], [0, -1, r*t*F(r), -theta/tan(theta) + 1], [0, -theta/r, -theta/tan(theta), r*(2*t*F(r)*sin(theta)**2 + sin(2*theta))/2]]"
      ]
     },
     "execution_count": 238,
     "metadata": {},
     "output_type": "execute_result"
    }
   ],
   "source": [
    "Diff = \"Derivative(A(r), (r, 2))/(2*B(r)) - Derivative(A(r), r)*Derivative(B(r), r)/(4*B(r)**2) - Derivative(A(r), r)**2/(4*A(r)*B(r)) + Derivative(A(r), r)/(r*B(r))\"\n",
    "#- Derivative(A(r), r)*Derivative(B(r), r)/(4*B(r)**2) - Derivative(A(r), r)**2/(4*A(r)*B(r)) + Derivative(A(r), r)/(r*B(r))\n",
    "Display = \"[F(r)*r**2,t,r,theta]\"\n",
    "DMetric = \"[[F(r),0,0,0],[0,1/F(r),0,0],[0,0,r**2,0],[0,0,0,r**2*sin(theta)**2]]\"\n",
    "DBasis = \"[t, r, theta, phi]\"\n",
    "#M = StringParser(Diff).returnDictionary()\n",
    "S = SympyParser(Display).convertToSympyObject()\n",
    "M = SympyParser(DMetric).convertToSympyObject()\n",
    "B = SympyParser(DBasis).convertToSympyObject()\n",
    "#str(smp.MutableDenseNDimArray(M))\n",
    "\n",
    "F = Functions(smp.MutableDenseNDimArray(M), smp.MutableDenseNDimArray(B), 4)\n",
    "\n",
    "F.CovariantD01(smp.MutableDenseNDimArray(S))"
   ]
  },
  {
   "cell_type": "code",
   "execution_count": 220,
   "id": "39b91448-e343-4712-ac51-6409f4f089ac",
   "metadata": {},
   "outputs": [],
   "source": [
    "class Stack:\n",
    "    def __init__(self):\n",
    "        self.__index = []\n",
    "\n",
    "    def __len__(self):\n",
    "        return len(self.__index)\n",
    "\n",
    "    def push(self,item):\n",
    "        self.__index.insert(0,item)\n",
    "\n",
    "    def peek(self):\n",
    "        if len(self) == 0:\n",
    "            raise Exception(\"peek() called on empty stack.\")\n",
    "        return self.__index[0]\n",
    "\n",
    "    def pop(self):\n",
    "        if len(self) == 0:\n",
    "            raise Exception(\"pop() called on empty stack.\")\n",
    "        return self.__index.pop(0)\n",
    "\n",
    "    def __str__(self):\n",
    "        return str(self.__index)\n",
    "Constants = {\n",
    "            \"Default\": \"\",\n",
    "            \"Schwarzschild\" : \"[[-(1 - (G)/(r)),0,0,0],[0,1/(1 - (G)/(r)),0,0],[0,0,r**2,0],[0,0,0,r**2*sin(theta)**2]]\",\n",
    "            \"SchildGeneral\" : \"[[-F(r),0,0,0],[0,1/(F(r)),0,0],[0,0,r**2,0],[0,0,0,r**2*sin(theta)**2]]\",\n",
    "            \"AntiDeSitter\" : \"[[-(k**2*r**2 + 1),0,0,0],[0,1/(k**2*r**2 + 1),0,0],[0,0,r**2,0],[0,0,0,r**2*sin(theta)**2]]\",\n",
    "            \"PolarCoordinates\" : \"[[-1,0,0,0],[0,1,0,0],[0,0,r**2,0],[0,0,0,r**2*sin(theta)**2]]\",\n",
    "            \"Minkowski\" : \"[[-1,0,0,0],[0,1,0,0],[0,0,1,0],[0,0,0,1]]\",\n",
    "            \"WeylLewisPapapetrou\": \"[[-1,0,0,0],[0,1,0,0],[0,0,r**2,0],[0,0,0,r**2*sin(theta)**2]]\",\n",
    "            \"ReissnerNordström\" : \"[[-(1 - (G)/(r) + (Q**2)/(r**2)),0,0,0],[0,1/(1 - (G)/(r) + (Q**2)/(r**2)),0,0],[0,0,r**2,0],[0,0,0,r**2*sin(theta)**2]]\",\n",
    "            \"PolarBasis\" : \"[t, r, theta, phi]\",\n",
    "            \"MinkBasis\" : \"[t, x, y, z]\",\n",
    "            \"OperationsList\" : [\"Gamma\",\"Derivative\",\"Inverse Metric\",\"Ricci\",\"Covariant Riemann\",\"Riemann\",\"Ricci Scalar\",\"K-Scalar\",\"CovarientD01\",\"CovarientD10\",\"CovarientD11\",\"CovarientD02\",\"CovarientD20\"],\n",
    "            \"All_Valid_Words\" : [\"theta\",\"phi\",\"omega\",\"sigma\",\"alpha\",\"beta\",\"gamma\",\"epsilon\",\"zeta\",\"eta\",\"kappa\",\"lambda\",\"mu\",\"nu\",\"pi\",\n",
    "                                  \"Theta\",\"Phi\",\"Omega\",\"Sigma\",\"Alpha\",\"Beta\",\"Gamma\",\"Epsilon\",\"Zeta\",\"Eta\",\"Kappa\",\"Lambda\",\"Mu\",\"Nu\",\"Pi\",\n",
    "                                  \"sin\",\"cos\",\"tan\",\"sinh\",\"cosh\",\"tanh\",\"asin\",\"atan\",\"acos\",\"asinh\",\"acosh\",\"atanh\",\"exp\",\"pi\",\"Derivative\",\n",
    "                                 \"dsolve\", \"solve\", \"integrate\", \"Subs\", \"simplify\"],\n",
    "            \"Valid_Basis_Words\" : [\"theta\",\"phi\",\"omega\",\"sigma\",\"alpha\",\"beta\",\"gamma\",\"epsilon\",\"zeta\",\"eta\",\"kappa\",\"lambda\",\"mu\",\"nu\"]\n",
    "}\n",
    "\n",
    "class BasisValidator:\n",
    "    def __init__(self, basis_string: str = \"\"):\n",
    "        self.Basis = self._is_valid_basis(basis_string)\n",
    "        self.Dimention = len(self.Basis.replace(']','').replace('[','').split(','))\n",
    "\n",
    "    def _is_valid_basis_values(self, basis):\n",
    "        valid_basis_values = Constants[\"Valid_Basis_Words\"]\n",
    "        pattern0 = \"[a-zA-Z][a-zA-Z]+\"\n",
    "        lis = [x for x in re.finditer(pattern0, basis)]\n",
    "        unrecognizedValues = []\n",
    "        for i in lis:\n",
    "            if i.group() not in valid_basis_values:\n",
    "                unrecognizedValues.append(i.group())\n",
    "        if basis == \"\":\n",
    "            return basis\n",
    "        elif len(unrecognizedValues) != 0:\n",
    "            raise ValueError(\"Some of the values you have entered in the Basis are not valid or recognized.\")\n",
    "        else:\n",
    "            return basis\n",
    "\n",
    "    def _is_valid_basis(self, basis):\n",
    "        basis_after_value_validation = self._is_valid_basis_values(basis)\n",
    "        B = bool(re.match(\"^\\[(\\s*[a-zA-Z]+\\s*\\,\\s*)+(\\s*[a-zA-Z]+\\s*)\\]$\", basis_after_value_validation))\n",
    "        if basis == \"\":\n",
    "            return basis\n",
    "        elif not B:\n",
    "            raise ValueError(\"The format of the basis you have entered is not correct.\")\n",
    "        else:\n",
    "            return basis\n",
    "\n",
    "class MetricValidator(BasisValidator):\n",
    "    def __init__(self, metric: str = \"\", basis: str = \"\"):\n",
    "        BasisValidator.__init__(self, basis)\n",
    "        self.Metric = self._is_valid_metric(metric)\n",
    "\n",
    "    def _metric_brackets_are_valid(self, metric):\n",
    "        match_all_but_brackets = \"[^\\[|^\\(|^\\{|^\\]|^\\}|^\\)]\"\n",
    "        bracketsString = re.sub(match_all_but_brackets, \"\", metric)\n",
    "        O = ['{','(','[']\n",
    "        C = ['}',')',']']\n",
    "        D = {')':'(','}':'{',']':'['}\n",
    "        s = Stack()\n",
    "        for i in bracketsString:\n",
    "            if i in O:\n",
    "                s.push(i)\n",
    "            elif i in C and len(s) != 0:\n",
    "                if D[i] == s.peek():\n",
    "                    s.pop()\n",
    "                else:\n",
    "                    s.push(i)\n",
    "            elif i in C and len(s) == 0:\n",
    "                s.push(i)\n",
    "        if metric == \"\":\n",
    "            return metric\n",
    "        elif metric and not bool(len(s) == 0):\n",
    "            raise ValueError(\"The brackets you have entered for your metric are not balanced.\")\n",
    "        else:\n",
    "            return metric\n",
    "    \n",
    "    def _remove_unwanted_commas(self, metric):\n",
    "        anythinginoutermost = \"\\([^\\(\\)]*\\)\"\n",
    "        match_all_but_brackets_and_commas = \"[^\\[|^\\]|^\\,]\"\n",
    "        string = metric\n",
    "        while len([x for x in re.finditer(anythinginoutermost, string)]):\n",
    "            string = re.sub(anythinginoutermost,'', string)\n",
    "        return re.sub(match_all_but_brackets_and_commas,'', string)\n",
    "    \n",
    "    def _words_in_metric_are_valid(self, metric):\n",
    "        ListOfSpecialWords = Constants[\"All_Valid_Words\"]\n",
    "        pattern0 = \"[a-zA-Z][a-zA-Z]+\"\n",
    "        lis = [x for x in re.finditer(pattern0, metric)]\n",
    "        unrecognizedValues = []\n",
    "        for i in lis:\n",
    "            if i.group() not in ListOfSpecialWords:\n",
    "                unrecognizedValues.append(i.group())\n",
    "        if len(unrecognizedValues) != 0:\n",
    "            strin = ''\n",
    "            for i in unrecognizedValues:\n",
    "                strin = strin + \" \" + i + \",\"\n",
    "            raise ValueError(\"Value(s)\" + strin + \" not recognized.\")\n",
    "        else:\n",
    "            return metric\n",
    "    \n",
    "    def _metric_format_is_valid(self, metric):\n",
    "        metric_without_unwanted_commas = self._remove_unwanted_commas(metric)\n",
    "        dim = self.Dimention\n",
    "        pattern0 = \"\\[(\\[(\\,){\" + str(dim-1) +  \"}\\]\\,){\" + str(dim-1) +  \"}(\\[(\\,){\" + str(dim-1) +  \"}\\])\\]\"\n",
    "        if not bool(re.search(pattern0, metric_without_unwanted_commas)):\n",
    "            raise ValueError(\"The format you have entered for your metric is not valid w.r.t the basis you entered.\")\n",
    "        else:\n",
    "            return metric\n",
    "\n",
    "    def _is_valid_metric(self, metric):\n",
    "        if metric and self.Basis:\n",
    "            Validation1 = self._metric_brackets_are_valid(metric)\n",
    "            Validation2 = self._metric_format_is_valid(Validation1)\n",
    "            Validation3 = self._words_in_metric_are_valid(Validation2)\n",
    "            return Validation3\n",
    "        else:\n",
    "            return metric"
   ]
  },
  {
   "cell_type": "code",
   "execution_count": 223,
   "id": "2d59a5a1-67b3-4945-91d7-87b578ea033f",
   "metadata": {},
   "outputs": [
    {
     "data": {
      "text/plain": [
       "'[[A(r),0,0,0],[0,B(r),0,0],[0,0,r**2,0],[0,0,0,r**2*sin(theta)**2]]'"
      ]
     },
     "execution_count": 223,
     "metadata": {},
     "output_type": "execute_result"
    }
   ],
   "source": [
    "MetricValidator(metric = \"[[A(r),0,0,0],[0,B(r),0,0],[0,0,r**2,0],[0,0,0,r**2*sin(theta)**2]]\", basis = \"[t, r, theta, phi]\").Metric\n"
   ]
  },
  {
   "cell_type": "code",
   "execution_count": 188,
   "id": "78f8d73d-2534-4421-8beb-9ec75e81ff6e",
   "metadata": {},
   "outputs": [
    {
     "data": {
      "text/plain": [
       "'[[F(r),0,0,0],[0,1/F(r),0,0],[0,0,r**2,0],[0,0,0,r**2*sin(theta)**2]]'"
      ]
     },
     "execution_count": 188,
     "metadata": {},
     "output_type": "execute_result"
    }
   ],
   "source": [
    "Matric1 = \"[[F(r),0,0,0],[0,1/F(r),0,0],[0,0,r**2,0],[0,0,0,r**2*sin(theta)**2]]\"\n",
    "MetricValidator(Matric1, '[t, r, theta, phi]').Metric"
   ]
  },
  {
   "cell_type": "code",
   "execution_count": 129,
   "id": "87edb482-0cae-41e9-911a-827297313d51",
   "metadata": {},
   "outputs": [
    {
     "data": {
      "text/plain": [
       "True"
      ]
     },
     "execution_count": 129,
     "metadata": {},
     "output_type": "execute_result"
    }
   ],
   "source": [
    "Validators(DiffMetric, '[t, r, theta, phi]').passTest()"
   ]
  },
  {
   "cell_type": "code",
   "execution_count": 143,
   "id": "0f6d1d42-6f81-45aa-b397-aae13efa7722",
   "metadata": {},
   "outputs": [
    {
     "data": {
      "text/plain": [
       "4"
      ]
     },
     "execution_count": 143,
     "metadata": {},
     "output_type": "execute_result"
    }
   ],
   "source": [
    "\"^\\[([a-zA-Z]+,\\s*)+\\]$\"\n",
    "re.match(\"^\\[(\\s*[a-zA-Z]+\\s*\\,\\s*)+(\\s*[a-zA-Z]+\\s*)\\]$\", '[    theta  ,   b   ,  c   ]')\n",
    "\n",
    "valid_basis_values = [\"theta\",\"phi\",\"omega\",\"sigma\",\"alpha\",\"beta\",\"gamma\",\"epsilon\",\"zeta\",\"eta\",\"kappa\",\"lambda\",\"mu\",\"nu\"]\n",
    "\n",
    "def _is_valid_basis_values(basis):\n",
    "    pattern0 = \"[a-zA-Z][a-zA-Z]+\"\n",
    "    lis = [x for x in re.finditer(pattern0, basis)]\n",
    "    unrecognizedValues = []\n",
    "    for i in lis:\n",
    "        if i.group() not in listO:\n",
    "            unrecognizedValues.append(i.group())\n",
    "    if len(unrecognizedValues) != 0:\n",
    "        raise ValueError(\"Some of the values you have entered in the Basis are not valid or recognized.\")\n",
    "    else:\n",
    "        return basis\n",
    "    \n",
    "def _is_valid_basis(basis):\n",
    "    basis_after_value_validation = _is_valid_basis_values(basis)\n",
    "    B = bool(re.match(\"^\\[(\\s*[a-zA-Z]+\\s*\\,\\s*)+(\\s*[a-zA-Z]+\\s*)\\]$\", basis_after_value_validation))\n",
    "    if not B:\n",
    "        raise ValueError(\"The format of the basis you have entered is not correct.\")\n",
    "    else:\n",
    "        return basis\n",
    "    \n",
    "\n",
    "#[x for x in re.finditer(\"[a-zA-Z][a-zA-Z]+\", '[    theta  ,   b ,  c   ]')]\n",
    "\n",
    "BasisValidator('[theta,b, c, h ]').Dimention"
   ]
  },
  {
   "cell_type": "code",
   "execution_count": 131,
   "id": "38804a79-c75e-48c4-8f51-2bb199e3594a",
   "metadata": {},
   "outputs": [
    {
     "ename": "ValueError",
     "evalue": "Name cannot exceed 20 characters.",
     "output_type": "error",
     "traceback": [
      "\u001b[0;31m---------------------------------------------------------------------------\u001b[0m",
      "\u001b[0;31mValueError\u001b[0m                                Traceback (most recent call last)",
      "\u001b[0;32m/var/folders/1g/_127qcc13ll334lvd9yl9vdc0000gn/T/ipykernel_25679/3555143850.py\u001b[0m in \u001b[0;36m<module>\u001b[0;34m\u001b[0m\n\u001b[1;32m     25\u001b[0m \u001b[0;34m\u001b[0m\u001b[0m\n\u001b[1;32m     26\u001b[0m \u001b[0mxiaoxu\u001b[0m \u001b[0;34m=\u001b[0m \u001b[0mCitizen\u001b[0m\u001b[0;34m(\u001b[0m\u001b[0;34m\"id1\"\u001b[0m\u001b[0;34m,\u001b[0m \u001b[0;34m\"xiaoxu gao\"\u001b[0m\u001b[0;34m,\u001b[0m \u001b[0;34m\"xiaoxugao@gmail.com\"\u001b[0m\u001b[0;34m,\u001b[0m \u001b[0;36m27\u001b[0m\u001b[0;34m)\u001b[0m\u001b[0;34m\u001b[0m\u001b[0;34m\u001b[0m\u001b[0m\n\u001b[0;32m---> 27\u001b[0;31m \u001b[0mxiaoxu\u001b[0m \u001b[0;34m=\u001b[0m \u001b[0mCitizen\u001b[0m\u001b[0;34m(\u001b[0m\u001b[0;34m\"id1\"\u001b[0m\u001b[0;34m,\u001b[0m \u001b[0;34m\"xiaoxu1234567890123456789\"\u001b[0m\u001b[0;34m,\u001b[0m \u001b[0;34m\"xiaoxugao@gmail.com\"\u001b[0m\u001b[0;34m,\u001b[0m \u001b[0;36m27\u001b[0m\u001b[0;34m)\u001b[0m\u001b[0;34m\u001b[0m\u001b[0;34m\u001b[0m\u001b[0m\n\u001b[0m\u001b[1;32m     28\u001b[0m \u001b[0;31m# ValueError: Name cannot exceed 20 characters.\u001b[0m\u001b[0;34m\u001b[0m\u001b[0;34m\u001b[0m\u001b[0m\n\u001b[1;32m     29\u001b[0m \u001b[0mxiaoxu\u001b[0m \u001b[0;34m=\u001b[0m \u001b[0mCitizen\u001b[0m\u001b[0;34m(\u001b[0m\u001b[0;34m\"id1\"\u001b[0m\u001b[0;34m,\u001b[0m \u001b[0;34m\"xiaoxu gao\"\u001b[0m\u001b[0;34m,\u001b[0m \u001b[0;34m\"xiaoxugao@gmail.c\"\u001b[0m\u001b[0;34m,\u001b[0m \u001b[0;36m27\u001b[0m\u001b[0;34m)\u001b[0m\u001b[0;34m\u001b[0m\u001b[0;34m\u001b[0m\u001b[0m\n",
      "\u001b[0;32m/var/folders/1g/_127qcc13ll334lvd9yl9vdc0000gn/T/ipykernel_25679/3555143850.py\u001b[0m in \u001b[0;36m__init__\u001b[0;34m(self, id, name, email, age)\u001b[0m\n\u001b[1;32m      4\u001b[0m     \u001b[0;32mdef\u001b[0m \u001b[0m__init__\u001b[0m\u001b[0;34m(\u001b[0m\u001b[0mself\u001b[0m\u001b[0;34m,\u001b[0m \u001b[0mid\u001b[0m\u001b[0;34m,\u001b[0m \u001b[0mname\u001b[0m\u001b[0;34m,\u001b[0m \u001b[0memail\u001b[0m\u001b[0;34m,\u001b[0m \u001b[0mage\u001b[0m\u001b[0;34m)\u001b[0m\u001b[0;34m:\u001b[0m\u001b[0;34m\u001b[0m\u001b[0;34m\u001b[0m\u001b[0m\n\u001b[1;32m      5\u001b[0m         \u001b[0mself\u001b[0m\u001b[0;34m.\u001b[0m\u001b[0mid\u001b[0m \u001b[0;34m=\u001b[0m \u001b[0mid\u001b[0m\u001b[0;34m\u001b[0m\u001b[0;34m\u001b[0m\u001b[0m\n\u001b[0;32m----> 6\u001b[0;31m         \u001b[0mself\u001b[0m\u001b[0;34m.\u001b[0m\u001b[0mname\u001b[0m \u001b[0;34m=\u001b[0m \u001b[0mself\u001b[0m\u001b[0;34m.\u001b[0m\u001b[0m_is_valid_name\u001b[0m\u001b[0;34m(\u001b[0m\u001b[0mname\u001b[0m\u001b[0;34m)\u001b[0m\u001b[0;34m\u001b[0m\u001b[0;34m\u001b[0m\u001b[0m\n\u001b[0m\u001b[1;32m      7\u001b[0m         \u001b[0mself\u001b[0m\u001b[0;34m.\u001b[0m\u001b[0memail\u001b[0m \u001b[0;34m=\u001b[0m \u001b[0mself\u001b[0m\u001b[0;34m.\u001b[0m\u001b[0m_is_valid_email\u001b[0m\u001b[0;34m(\u001b[0m\u001b[0memail\u001b[0m\u001b[0;34m)\u001b[0m\u001b[0;34m\u001b[0m\u001b[0;34m\u001b[0m\u001b[0m\n\u001b[1;32m      8\u001b[0m         \u001b[0mself\u001b[0m\u001b[0;34m.\u001b[0m\u001b[0mage\u001b[0m \u001b[0;34m=\u001b[0m \u001b[0mself\u001b[0m\u001b[0;34m.\u001b[0m\u001b[0m_is_valid_age\u001b[0m\u001b[0;34m(\u001b[0m\u001b[0mage\u001b[0m\u001b[0;34m)\u001b[0m\u001b[0;34m\u001b[0m\u001b[0;34m\u001b[0m\u001b[0m\n",
      "\u001b[0;32m/var/folders/1g/_127qcc13ll334lvd9yl9vdc0000gn/T/ipykernel_25679/3555143850.py\u001b[0m in \u001b[0;36m_is_valid_name\u001b[0;34m(self, name)\u001b[0m\n\u001b[1;32m     10\u001b[0m     \u001b[0;32mdef\u001b[0m \u001b[0m_is_valid_name\u001b[0m\u001b[0;34m(\u001b[0m\u001b[0mself\u001b[0m\u001b[0;34m,\u001b[0m \u001b[0mname\u001b[0m\u001b[0;34m)\u001b[0m\u001b[0;34m:\u001b[0m\u001b[0;34m\u001b[0m\u001b[0;34m\u001b[0m\u001b[0m\n\u001b[1;32m     11\u001b[0m         \u001b[0;32mif\u001b[0m \u001b[0mlen\u001b[0m\u001b[0;34m(\u001b[0m\u001b[0mname\u001b[0m\u001b[0;34m)\u001b[0m \u001b[0;34m>\u001b[0m \u001b[0;36m20\u001b[0m\u001b[0;34m:\u001b[0m\u001b[0;34m\u001b[0m\u001b[0;34m\u001b[0m\u001b[0m\n\u001b[0;32m---> 12\u001b[0;31m             \u001b[0;32mraise\u001b[0m \u001b[0mValueError\u001b[0m\u001b[0;34m(\u001b[0m\u001b[0;34m\"Name cannot exceed 20 characters.\"\u001b[0m\u001b[0;34m)\u001b[0m\u001b[0;34m\u001b[0m\u001b[0;34m\u001b[0m\u001b[0m\n\u001b[0m\u001b[1;32m     13\u001b[0m         \u001b[0;32mreturn\u001b[0m \u001b[0mname\u001b[0m\u001b[0;34m\u001b[0m\u001b[0;34m\u001b[0m\u001b[0m\n\u001b[1;32m     14\u001b[0m \u001b[0;34m\u001b[0m\u001b[0m\n",
      "\u001b[0;31mValueError\u001b[0m: Name cannot exceed 20 characters."
     ]
    }
   ],
   "source": [
    "\n",
    "import re\n",
    "\n",
    "class Citizen:\n",
    "    def __init__(self, id, name, email, age):\n",
    "        self.id = id\n",
    "        self.name = self._is_valid_name(name)\n",
    "        self.email = self._is_valid_email(email)\n",
    "        self.age = self._is_valid_age(age)\n",
    "\n",
    "    def _is_valid_name(self, name):\n",
    "        if len(name) > 20:\n",
    "            raise ValueError(\"Name cannot exceed 20 characters.\")\n",
    "        return name\n",
    "\n",
    "    def _is_valid_email(self, email):\n",
    "        regex = \"^[a-z0-9]+[\\._]?[a-z0-9]+[@]\\w+[.]\\w{2,3}$\"\n",
    "        if not re.match(regex, email):\n",
    "            raise ValueError(\"It's not an email address.\")\n",
    "        return email\n",
    "\n",
    "    def _is_valid_age(self, age):\n",
    "        if age < 0:\n",
    "            raise ValueError(\"Age cannot be negative.\")\n",
    "        return age\n",
    "\n",
    "xiaoxu = Citizen(\"id1\", \"xiaoxu gao\", \"xiaoxugao@gmail.com\", 27)\n",
    "xiaoxu = Citizen(\"id1\", \"xiaoxu1234567890123456789\", \"xiaoxugao@gmail.com\", 27)\n",
    "# ValueError: Name cannot exceed 20 characters.\n",
    "xiaoxu = Citizen(\"id1\", \"xiaoxu gao\", \"xiaoxugao@gmail.c\", 27)\n",
    "# ValueError: It's not an email address.\n",
    "xiaoxu = Citizen(\"id1\", \"xiaoxu gao\", \"xiaoxugao@gmail.com\", -27)\n",
    "# ValueError: Age cannot be negative."
   ]
  },
  {
   "cell_type": "code",
   "execution_count": 273,
   "id": "2bfbb1e1-1b6f-4572-ae2d-d16f1185ab5b",
   "metadata": {},
   "outputs": [
    {
     "data": {
      "text/plain": [
       "[<re.Match object; span=(0, 13), match='Ricci_{d}^{f}'>,\n",
       " None,\n",
       " <re.Match object; span=(0, 13), match='Ricci_{d}^{f}'>]"
      ]
     },
     "execution_count": 273,
     "metadata": {},
     "output_type": "execute_result"
    }
   ],
   "source": [
    "Tensors = [\"Ricci\", \"Riemmann\"]\n",
    "GR_Tenosor_Rank_Dic = {\"Ricci\" : 2, \"Riemmann\" : 4}\n",
    "\n",
    "GR_Tensor_Patterns_V2 = {\"Ricci\" : \"(Ricci)([_^]\\{[a-z]+\\})([_^]\\{[a-z]+\\})(?=([a-zA-Z]|\\*|$))\", \"Riemmann\" : \"(Riemmann)([_^]\\{[a-z]+\\})([_^]\\{[a-z]+\\})([_^]\\{[a-z]+\\})([_^]\\{[a-z]+\\})(?=([a-zA-Z]|\\*|$))\"}\n",
    "GR_Tensor_Patterns_V1 = {\"Ricci\" : \"(Ricci)([_^]\\{[a-z]+ [a-z]+\\})(?=([a-zA-Z]|\\*|$))\", \"Riemmann\" : \"(Riemmann)([_^]\\{[a-z]+ [a-z]+ [a-z]+ [a-z]+\\})(?=([a-zA-Z]|\\*|$))\"}\n",
    "\n",
    "GRTensors = \"(Ricci)|(Riemmann)\"\n",
    "\n",
    "def GRPattern1(string):\n",
    "    Tensors = [x for x in re.finditer(GRTensors, string)]\n",
    "    \n",
    "    # Load matched tensors into list\n",
    "    TensorsMatched = []\n",
    "    for i in Tensors:\n",
    "        TensorsMatched.append(i.group())\n",
    "        \n",
    "    ListOfMatchedStrings = []\n",
    "    for i in TensorsMatched:\n",
    "        ListOfMatchedStrings.append(re.match(GR_Tensor_Patterns_V2[i], string))\n",
    "                                    \n",
    "    List = [x for x in re.finditer(GR_Tensor_Patterns_V2[re.match(GRTensors, string).group()], string)]\n",
    "    return ListOfMatchedStrings\n",
    "    #return re.match(GR_Tensor_Patterns[re.match(GRpattern, string).group()], string)\n",
    "\"Riemmann_{theta}^{phi}_{mu}^{nu}Ricci_{d}^{f}\"\n",
    "GRPattern1(\"Ricci_{d}^{f}Riemmann_{theta}^{phi}_{mu}^{nu}Ricci_{d}^{f}\")"
   ]
  },
  {
   "cell_type": "code",
   "execution_count": 15,
   "id": "2f1bbf14-fa33-48a5-bf7f-c2cec1b20359",
   "metadata": {},
   "outputs": [
    {
     "data": {
      "text/plain": [
       "True"
      ]
     },
     "execution_count": 15,
     "metadata": {},
     "output_type": "execute_result"
    }
   ],
   "source": [
    "def _metric_brackets_are_valid(bracketsString):\n",
    "    O = ['{','(','[']\n",
    "    C = ['}',')',']']\n",
    "    D = {')':'(','}':'{',']':'['}\n",
    "    s = stack()\n",
    "    for i in bracketsString:\n",
    "        if i in O:\n",
    "            s.push(i)\n",
    "        elif i in C and len(s) != 0:\n",
    "            if D[i] == s.peek():\n",
    "                s.pop()\n",
    "            else:\n",
    "                s.push(i)\n",
    "        elif i in C and len(s) == 0:\n",
    "            s.push(i)\n",
    "    return bool(len(s) == 0)\n",
    "\n",
    "_metric_brackets_are_valid('[[()(()())(())(())(())(())(())(()())(())(())()][()][][()]]')"
   ]
  },
  {
   "cell_type": "code",
   "execution_count": 167,
   "id": "d5a79572-8072-4d34-b0d6-c32c35e46e13",
   "metadata": {},
   "outputs": [
    {
     "data": {
      "text/plain": [
       "True"
      ]
     },
     "execution_count": 167,
     "metadata": {},
     "output_type": "execute_result"
    }
   ],
   "source": [
    "Matric1 = \"[[F(r),0,0,0],[0,1/F(r),0,0],[0,0,r**2,0],[0,0,0,r**2*sin(theta)**2]]\"\n",
    "DiffEquation = \"Derivative(A(r), (r, 2))/(2*B(r)) - Derivative(A(r), r)*Derivative(B(r), r)/(4*B(r)**2) - Derivative(A(r), r)**2/(4*A(r)*B(r)) + Derivative(A(r), r)/(r*B(r))\"\n",
    "DiffMetric = \"[[F(r),\" + DiffEquation + \" r,((s,d,d(d,wd,d(ww0,d,10.0,d)w(ww,d,w,d,w,d)d)wd) 2),0,0],[0,1/F(r,t),0,0],[0,0,r**2,0],[0,0,0,r**2*sin(theta)**2]]\"\n",
    "\n",
    "\n",
    "matrix_pattern = \"\\[(?:[^\\[\\]]+|\\[[^\\[\\]]*\\])*\\]\"\n",
    "matrix_pattern2 = \"\\[((?:\\d+(?:\\.\\d+)?),?)+\\]\"\n",
    "commas_between_brackets = '\\(' + '[^\\,]+' + '(\\,)' + '[^\\,]+' +'\\)'\n",
    "anything_in_brackets = '\\(' + '[' + '^\\(' + '\\)' + ']*' + '\\)'\n",
    "anythinginoutermost = \"\\([^\\(\\)]*\\)\"\n",
    "remove_all_but_brackets = \"[^\\[|^\\(|^\\{|^\\]|^\\}|^\\)]\"\n",
    "brackets_balanced = \"^[^\\[\\]\\(\\)]*(\\[[^\\[\\]]*\\]|\\([^\\(\\)]*\\))*[^\\[\\]\\(\\)]*$\"\n",
    "\n",
    "\n",
    "hello1 = re.sub(anythinginoutermost,'', DiffMetric)\n",
    "[x for x in re.finditer(anythinginoutermost, DiffMetric)]\n",
    "\n",
    "\n",
    "def removeCommas(strings):\n",
    "    anythinginoutermost = \"\\([^\\(\\)]*\\)\"\n",
    "    match_all_but_brackets_and_commas = \"[^\\[|^\\]|^\\,]\"\n",
    "    string = strings\n",
    "    while len([x for x in re.finditer(anythinginoutermost, string)]):\n",
    "        string = re.sub(anythinginoutermost,'', string)\n",
    "    return re.sub(match_all_but_brackets_and_commas,'', string)\n",
    "\n",
    "# tests\n",
    "\n",
    "dim2 = '[[,],[,]]'\n",
    "dim3 = '[[,,],[,,],[,,]]'\n",
    "dim4 = '[[,,,],[,,,],[,,,],[,,,]]'\n",
    "dim5 = '[[,,,,],[,,,,],[,,,,],[,,,,],[,,,,]]'\n",
    "dim6 = '[[,,,,,],[,,,,,],[,,,,,],[,,,,,],[,,,,,],[,,,,,]]'\n",
    "\n",
    "Wrongdim2 = '[[,],[,],]'\n",
    "Wrongdim3 = '[[,,],[,,],[,.]]'\n",
    "Wrongdim4 = '[[,,,],[,,,],[[,,,],[,,,]]'\n",
    "Wrongdim5 = '[[,,,,],,[,,,,],[,,,,],[,,,,],[,,,,]]'\n",
    "Wrongdim6 = '[[,,,,,,],[,,,,,],[,,,,,],[,,,,,],[,,,,,],[,,,,,,]]'\n",
    "\n",
    "patternN = \"\\[\\[(?:,*)\\]\\,*\\]\"\n",
    "pattern0 = \"\\[(\\[(\\,){3}\\]\\,){3}(\\[(\\,){3}\\])\\]\"\n",
    "\n",
    "ListOfSpecialWords = [\"theta\",\"phi\",\"omega\",\"sigma\",\"alpha\",\"beta\",\"gamma\",\"epsilon\",\"zeta\",\"eta\",\"kappa\",\"lambda\",\"mu\",\"nu\",\"pi\",\n",
    "                      \"Theta\",\"Phi\",\"Omega\",\"Sigma\",\"Alpha\",\"Beta\",\"Gamma\",\"Epsilon\",\"Zeta\",\"Eta\",\"Kappa\",\"Lambda\",\"Mu\",\"Nu\",\"Pi\",\n",
    "                      \"sin\",\"cos\",\"tan\",\"sinh\",\"cosh\",\"tanh\",\"asin\",\"atan\",\"acos\",\"asinh\",\"acosh\",\"atanh\",\"exp\",\"pi\",\"Derivative\",\n",
    "                     \"dsolve\", \"solve\", \"integrate\", \"Subs\", \"simplify\"]\n",
    "\n",
    "def Pattern(metric):\n",
    "    pattern0 = \"[a-zA-Z][a-zA-Z]+\"\n",
    "    lis = [x for x in re.finditer(pattern0, metric)]\n",
    "    unrecognizedValues = []\n",
    "    for i in lis:\n",
    "        if i.group() not in ListOfSpecialWords:\n",
    "            unrecognizedValues.append(i.group())\n",
    "    if len(unrecognizedValues) != 0:\n",
    "        strin = ''\n",
    "        for i in unrecognizedValues:\n",
    "            strin = strin + \" \" + i + \",\"\n",
    "        return [False, \"Value(s)\" + strin + \" not recognized.\"]\n",
    "    else:\n",
    "        return True\n",
    "\n",
    "Pattern(Matric1)"
   ]
  },
  {
   "cell_type": "code",
   "execution_count": 17,
   "id": "d9714d76-9840-42f6-9bc5-78008af475ab",
   "metadata": {},
   "outputs": [
    {
     "data": {
      "text/plain": [
       "'[[,,,],[,,,],[,,,],[,,,]]'"
      ]
     },
     "execution_count": 17,
     "metadata": {},
     "output_type": "execute_result"
    }
   ],
   "source": [
    "removeCommas(Matric1)"
   ]
  },
  {
   "cell_type": "code",
   "execution_count": 18,
   "id": "5af7e99e-e134-4ef9-afb1-68600a448917",
   "metadata": {},
   "outputs": [
    {
     "ename": "TypeError",
     "evalue": "Derivative() takes 1 positional argument but 2 were given",
     "output_type": "error",
     "traceback": [
      "\u001b[0;31m---------------------------------------------------------------------------\u001b[0m",
      "\u001b[0;31mTypeError\u001b[0m                                 Traceback (most recent call last)",
      "\u001b[0;32m/var/folders/1g/_127qcc13ll334lvd9yl9vdc0000gn/T/ipykernel_25679/770093994.py\u001b[0m in \u001b[0;36m<module>\u001b[0;34m\u001b[0m\n\u001b[1;32m      2\u001b[0m \u001b[0mF\u001b[0m\u001b[0;34m,\u001b[0m \u001b[0mG\u001b[0m \u001b[0;34m=\u001b[0m \u001b[0msmp\u001b[0m\u001b[0;34m.\u001b[0m\u001b[0msymbols\u001b[0m\u001b[0;34m(\u001b[0m\u001b[0;34m'F G'\u001b[0m\u001b[0;34m,\u001b[0m \u001b[0mcls\u001b[0m \u001b[0;34m=\u001b[0m \u001b[0msmp\u001b[0m\u001b[0;34m.\u001b[0m\u001b[0mFunction\u001b[0m\u001b[0;34m)\u001b[0m\u001b[0;34m\u001b[0m\u001b[0;34m\u001b[0m\u001b[0m\n\u001b[1;32m      3\u001b[0m \u001b[0mF\u001b[0m \u001b[0;34m=\u001b[0m \u001b[0mF\u001b[0m\u001b[0;34m(\u001b[0m\u001b[0mr\u001b[0m\u001b[0;34m)\u001b[0m\u001b[0;34m\u001b[0m\u001b[0;34m\u001b[0m\u001b[0m\n\u001b[0;32m----> 4\u001b[0;31m \u001b[0mDerivative\u001b[0m\u001b[0;34m(\u001b[0m\u001b[0mF\u001b[0m\u001b[0;34m,\u001b[0m \u001b[0mr\u001b[0m\u001b[0;34m)\u001b[0m\u001b[0;34m\u001b[0m\u001b[0;34m\u001b[0m\u001b[0m\n\u001b[0m",
      "\u001b[0;31mTypeError\u001b[0m: Derivative() takes 1 positional argument but 2 were given"
     ]
    }
   ],
   "source": [
    "r, t = smp.symbols('r t')\n",
    "F, G = smp.symbols('F G', cls = smp.Function)\n",
    "F = F(r)\n",
    "Derivative(F, r)"
   ]
  },
  {
   "cell_type": "code",
   "execution_count": 19,
   "id": "8ea346b8-29fd-41dc-aa72-bac89260c2b6",
   "metadata": {},
   "outputs": [
    {
     "ename": "TypeError",
     "evalue": "Derivative() takes 1 positional argument but 2 were given",
     "output_type": "error",
     "traceback": [
      "\u001b[0;31m---------------------------------------------------------------------------\u001b[0m",
      "\u001b[0;31mTypeError\u001b[0m                                 Traceback (most recent call last)",
      "\u001b[0;32m/var/folders/1g/_127qcc13ll334lvd9yl9vdc0000gn/T/ipykernel_25679/706838512.py\u001b[0m in \u001b[0;36m<module>\u001b[0;34m\u001b[0m\n\u001b[0;32m----> 1\u001b[0;31m \u001b[0mdsolve\u001b[0m\u001b[0;34m(\u001b[0m\u001b[0;34m(\u001b[0m\u001b[0mDerivative\u001b[0m\u001b[0;34m(\u001b[0m\u001b[0mF\u001b[0m\u001b[0;34m,\u001b[0m\u001b[0mr\u001b[0m\u001b[0;34m)\u001b[0m\u001b[0;34m*\u001b[0m\u001b[0mr\u001b[0m\u001b[0;34m**\u001b[0m\u001b[0;36m2\u001b[0m \u001b[0;34m+\u001b[0m \u001b[0;36m1\u001b[0m\u001b[0;34m)\u001b[0m\u001b[0;34m,\u001b[0m \u001b[0mF\u001b[0m\u001b[0;34m)\u001b[0m\u001b[0;34m\u001b[0m\u001b[0;34m\u001b[0m\u001b[0m\n\u001b[0m",
      "\u001b[0;31mTypeError\u001b[0m: Derivative() takes 1 positional argument but 2 were given"
     ]
    }
   ],
   "source": [
    "dsolve((Derivative(F,r)*r**2 + 1), F)"
   ]
  },
  {
   "cell_type": "code",
   "execution_count": 20,
   "id": "16c44f33-e2d2-4ba7-9f90-5e746d1fda19",
   "metadata": {},
   "outputs": [],
   "source": [
    "class SympyArray:\n",
    "    def __init__(self, stringArray, functions):\n",
    "        self.stringArray = stringArray\n",
    "        self.functions = functions\n",
    "\n",
    "    def multiplyList(self, myList):\n",
    "        # Multiply elements one by one\n",
    "        result = 1\n",
    "        for x in myList:\n",
    "            result = result * x\n",
    "        return result\n",
    "\n",
    "    #Arr[[0]] = A.convertToSympyObject()\n",
    "    def CreateTensor(self):\n",
    "        Array = []\n",
    "        for n in range(self.multiplyList(self.TupleGenerator())):\n",
    "            Array.append(0)\n",
    "        Arr = smp.MutableDenseNDimArray(Array, self.TupleGenerator())\n",
    "        return Arr\n",
    "    \n",
    "    def CreateListArray(self):\n",
    "        Array = []\n",
    "        for n in range(self.multiplyList(self.TupleGenerator())):\n",
    "            Array.append(0)\n",
    "        Arr = smp.MutableDenseNDimArray(Array)\n",
    "        return Arr\n",
    "\n",
    "    def openBrackets(self, dim):\n",
    "        string = ''\n",
    "        for i in range(dim):\n",
    "            string += '['\n",
    "        return string\n",
    "\n",
    "    def getBracketsString(self):\n",
    "        return re.sub( '[^\\[^\\]]', '',self.stringArray)\n",
    "        \n",
    "    def stringToListParser(self):\n",
    "        array = self.stringArray\n",
    "        return len(array.replace('[','').replace(']','').split(','))\n",
    "\n",
    "    def rankFinder(self):\n",
    "        string = self.getBracketsString()\n",
    "        c = 0\n",
    "        i = 1\n",
    "        count = 1\n",
    "        while count != 0:\n",
    "            count = string.count(self.openBrackets(i))\n",
    "            c += 1\n",
    "            i += 1\n",
    "        return c - 1\n",
    "\n",
    "    def TupleGenerator(self):\n",
    "        Tensor = self.stringArray\n",
    "        N = np.power(self.stringToListParser(), (1/self.rankFinder()))\n",
    "        List = []\n",
    "        for i in range(self.rankFinder()):\n",
    "            List.append(int(N))\n",
    "        return tuple(List)\n",
    "    \n",
    "    def ParseToSympyArray(self):\n",
    "        string = self.stringArray\n",
    "        ListOfElements = string.replace('[','').replace(']','').split(',')\n",
    "        Empty = self.CreateListArray()\n",
    "        for i in range(len(ListOfElements)):\n",
    "            Empty[[i]] = SympyParser(ListOfElements[i], self.functions).convertToSympyObject()\n",
    "        return Empty\n",
    "    \n",
    "    def convertListToSympyVariableString(self, stringList):\n",
    "        varableList = []\n",
    "        for string in stringList:\n",
    "            varableList.append(string.replace(' ',''))\n",
    "        variable = ''\n",
    "        for i in range(len(varableList)):\n",
    "            variable += varableList[i] + ' '\n",
    "        return variable\n",
    "    \n",
    "    def ReturnSympyArray(self):\n",
    "        ListArray = self.ParseToSympyArray()\n",
    "        t = self.TupleGenerator()\n",
    "        return ListArray.reshape(*t)"
   ]
  },
  {
   "cell_type": "code",
   "execution_count": 21,
   "id": "7c415706-6f67-4f2b-9f23-550cc4e97381",
   "metadata": {},
   "outputs": [
    {
     "ename": "ValueError",
     "evalue": "Dimensions must be of size of 2",
     "output_type": "error",
     "traceback": [
      "\u001b[0;31m---------------------------------------------------------------------------\u001b[0m",
      "\u001b[0;31mValueError\u001b[0m                                Traceback (most recent call last)",
      "\u001b[0;32m/var/folders/1g/_127qcc13ll334lvd9yl9vdc0000gn/T/ipykernel_25679/3236538150.py\u001b[0m in \u001b[0;36m<module>\u001b[0;34m\u001b[0m\n\u001b[1;32m      8\u001b[0m \u001b[0mGR\u001b[0m \u001b[0;34m=\u001b[0m \u001b[0mFunctions\u001b[0m\u001b[0;34m(\u001b[0m\u001b[0mMetric\u001b[0m\u001b[0;34m,\u001b[0m \u001b[0mBase\u001b[0m\u001b[0;34m,\u001b[0m \u001b[0mDimention\u001b[0m\u001b[0;34m)\u001b[0m\u001b[0;34m\u001b[0m\u001b[0;34m\u001b[0m\u001b[0m\n\u001b[1;32m      9\u001b[0m \u001b[0;34m\u001b[0m\u001b[0m\n\u001b[0;32m---> 10\u001b[0;31m \u001b[0mGR\u001b[0m\u001b[0;34m.\u001b[0m\u001b[0mRicci\u001b[0m\u001b[0;34m(\u001b[0m\u001b[0;34m)\u001b[0m\u001b[0;34m\u001b[0m\u001b[0;34m\u001b[0m\u001b[0m\n\u001b[0m",
      "\u001b[0;32m/var/folders/1g/_127qcc13ll334lvd9yl9vdc0000gn/T/ipykernel_25679/1209449547.py\u001b[0m in \u001b[0;36mRicci\u001b[0;34m(self)\u001b[0m\n\u001b[1;32m    133\u001b[0m     \u001b[0;32mdef\u001b[0m \u001b[0mRicci\u001b[0m\u001b[0;34m(\u001b[0m\u001b[0mself\u001b[0m\u001b[0;34m)\u001b[0m\u001b[0;34m:\u001b[0m\u001b[0;34m\u001b[0m\u001b[0;34m\u001b[0m\u001b[0m\n\u001b[1;32m    134\u001b[0m         \u001b[0mN\u001b[0m \u001b[0;34m=\u001b[0m \u001b[0mself\u001b[0m\u001b[0;34m.\u001b[0m\u001b[0mDimention\u001b[0m\u001b[0;34m\u001b[0m\u001b[0;34m\u001b[0m\u001b[0m\n\u001b[0;32m--> 135\u001b[0;31m         \u001b[0mig\u001b[0m \u001b[0;34m=\u001b[0m \u001b[0mself\u001b[0m\u001b[0;34m.\u001b[0m\u001b[0mGinv\u001b[0m\u001b[0;34m(\u001b[0m\u001b[0;34m)\u001b[0m\u001b[0;34m\u001b[0m\u001b[0;34m\u001b[0m\u001b[0m\n\u001b[0m\u001b[1;32m    136\u001b[0m         \u001b[0mCR\u001b[0m \u001b[0;34m=\u001b[0m \u001b[0mself\u001b[0m\u001b[0;34m.\u001b[0m\u001b[0mCovariantRiemann\u001b[0m\u001b[0;34m(\u001b[0m\u001b[0;34m)\u001b[0m\u001b[0;34m\u001b[0m\u001b[0;34m\u001b[0m\u001b[0m\n\u001b[1;32m    137\u001b[0m         \u001b[0mA\u001b[0m \u001b[0;34m=\u001b[0m \u001b[0msmp\u001b[0m\u001b[0;34m.\u001b[0m\u001b[0mMutableDenseNDimArray\u001b[0m\u001b[0;34m(\u001b[0m\u001b[0msmp\u001b[0m\u001b[0;34m.\u001b[0m\u001b[0mzeros\u001b[0m\u001b[0;34m(\u001b[0m\u001b[0mN\u001b[0m\u001b[0;34m**\u001b[0m\u001b[0;36m2\u001b[0m\u001b[0;34m)\u001b[0m\u001b[0;34m,\u001b[0m\u001b[0;34m(\u001b[0m\u001b[0mN\u001b[0m\u001b[0;34m,\u001b[0m\u001b[0mN\u001b[0m\u001b[0;34m)\u001b[0m\u001b[0;34m)\u001b[0m\u001b[0;34m\u001b[0m\u001b[0;34m\u001b[0m\u001b[0m\n",
      "\u001b[0;32m/var/folders/1g/_127qcc13ll334lvd9yl9vdc0000gn/T/ipykernel_25679/1209449547.py\u001b[0m in \u001b[0;36mGinv\u001b[0;34m(self)\u001b[0m\n\u001b[1;32m     25\u001b[0m     \u001b[0;32mdef\u001b[0m \u001b[0mGinv\u001b[0m\u001b[0;34m(\u001b[0m\u001b[0mself\u001b[0m\u001b[0;34m)\u001b[0m\u001b[0;34m:\u001b[0m\u001b[0;34m\u001b[0m\u001b[0;34m\u001b[0m\u001b[0m\n\u001b[1;32m     26\u001b[0m         \u001b[0mN\u001b[0m \u001b[0;34m=\u001b[0m \u001b[0mself\u001b[0m\u001b[0;34m.\u001b[0m\u001b[0mDimention\u001b[0m\u001b[0;34m\u001b[0m\u001b[0;34m\u001b[0m\u001b[0m\n\u001b[0;32m---> 27\u001b[0;31m         \u001b[0mg_m\u001b[0m \u001b[0;34m=\u001b[0m \u001b[0mself\u001b[0m\u001b[0;34m.\u001b[0m\u001b[0mMetric\u001b[0m\u001b[0;34m.\u001b[0m\u001b[0mtomatrix\u001b[0m\u001b[0;34m(\u001b[0m\u001b[0;34m)\u001b[0m\u001b[0;34m\u001b[0m\u001b[0;34m\u001b[0m\u001b[0m\n\u001b[0m\u001b[1;32m     28\u001b[0m         \u001b[0minv_g\u001b[0m \u001b[0;34m=\u001b[0m \u001b[0mg_m\u001b[0m\u001b[0;34m.\u001b[0m\u001b[0minv\u001b[0m\u001b[0;34m(\u001b[0m\u001b[0;34m)\u001b[0m\u001b[0;34m\u001b[0m\u001b[0;34m\u001b[0m\u001b[0m\n\u001b[1;32m     29\u001b[0m         \u001b[0mA\u001b[0m \u001b[0;34m=\u001b[0m \u001b[0msmp\u001b[0m\u001b[0;34m.\u001b[0m\u001b[0mMutableDenseNDimArray\u001b[0m\u001b[0;34m(\u001b[0m\u001b[0msmp\u001b[0m\u001b[0;34m.\u001b[0m\u001b[0mzeros\u001b[0m\u001b[0;34m(\u001b[0m\u001b[0mN\u001b[0m\u001b[0;34m**\u001b[0m\u001b[0;36m2\u001b[0m\u001b[0;34m)\u001b[0m\u001b[0;34m,\u001b[0m\u001b[0;34m(\u001b[0m\u001b[0mN\u001b[0m\u001b[0;34m,\u001b[0m\u001b[0mN\u001b[0m\u001b[0;34m)\u001b[0m\u001b[0;34m)\u001b[0m\u001b[0;34m\u001b[0m\u001b[0;34m\u001b[0m\u001b[0m\n",
      "\u001b[0;32m~/opt/anaconda3/lib/python3.9/site-packages/sympy/tensor/array/dense_ndim_array.py\u001b[0m in \u001b[0;36mtomatrix\u001b[0;34m(self)\u001b[0m\n\u001b[1;32m     86\u001b[0m \u001b[0;34m\u001b[0m\u001b[0m\n\u001b[1;32m     87\u001b[0m         \u001b[0;32mif\u001b[0m \u001b[0mself\u001b[0m\u001b[0;34m.\u001b[0m\u001b[0mrank\u001b[0m\u001b[0;34m(\u001b[0m\u001b[0;34m)\u001b[0m \u001b[0;34m!=\u001b[0m \u001b[0;36m2\u001b[0m\u001b[0;34m:\u001b[0m\u001b[0;34m\u001b[0m\u001b[0;34m\u001b[0m\u001b[0m\n\u001b[0;32m---> 88\u001b[0;31m             \u001b[0;32mraise\u001b[0m \u001b[0mValueError\u001b[0m\u001b[0;34m(\u001b[0m\u001b[0;34m'Dimensions must be of size of 2'\u001b[0m\u001b[0;34m)\u001b[0m\u001b[0;34m\u001b[0m\u001b[0;34m\u001b[0m\u001b[0m\n\u001b[0m\u001b[1;32m     89\u001b[0m \u001b[0;34m\u001b[0m\u001b[0m\n\u001b[1;32m     90\u001b[0m         \u001b[0;32mreturn\u001b[0m \u001b[0mMatrix\u001b[0m\u001b[0;34m(\u001b[0m\u001b[0mself\u001b[0m\u001b[0;34m.\u001b[0m\u001b[0mshape\u001b[0m\u001b[0;34m[\u001b[0m\u001b[0;36m0\u001b[0m\u001b[0;34m]\u001b[0m\u001b[0;34m,\u001b[0m \u001b[0mself\u001b[0m\u001b[0;34m.\u001b[0m\u001b[0mshape\u001b[0m\u001b[0;34m[\u001b[0m\u001b[0;36m1\u001b[0m\u001b[0;34m]\u001b[0m\u001b[0;34m,\u001b[0m \u001b[0mself\u001b[0m\u001b[0;34m.\u001b[0m\u001b[0m_array\u001b[0m\u001b[0;34m)\u001b[0m\u001b[0;34m\u001b[0m\u001b[0;34m\u001b[0m\u001b[0m\n",
      "\u001b[0;31mValueError\u001b[0m: Dimensions must be of size of 2"
     ]
    }
   ],
   "source": [
    "DMetric = \"[[F(r),0,0,0],[0,1/F(r),0,0],[0,0,r**2,0],[0,0,0,r**2*sin(theta)**2]]\"\n",
    "#SympyArray(Display,[\"F\"]).ReturnSympyArray()\n",
    "#StringParser('[t,r,theta,phi]'.replace('[','').replace(']',''),['F']).symbolRecognizer('[t,r,theta,phi]')\n",
    "Metric = smp.MutableDenseNDimArray(SympyParser(Display).convertToSympyObject())\n",
    "Base = smp.MutableDenseNDimArray(SympyParser('[t,r,theta,phi]').convertToSympyObject())\n",
    "Dimention = 4\n",
    "\n",
    "GR = Functions(Metric, Base, Dimention)\n",
    "\n",
    "GR.Ricci()"
   ]
  },
  {
   "cell_type": "code",
   "execution_count": 22,
   "id": "28e03d0e-5e9f-4dfa-8af9-72ad2b4849be",
   "metadata": {},
   "outputs": [
    {
     "ename": "TypeError",
     "evalue": "__init__() takes 2 positional arguments but 3 were given",
     "output_type": "error",
     "traceback": [
      "\u001b[0;31m---------------------------------------------------------------------------\u001b[0m",
      "\u001b[0;31mTypeError\u001b[0m                                 Traceback (most recent call last)",
      "\u001b[0;32m/var/folders/1g/_127qcc13ll334lvd9yl9vdc0000gn/T/ipykernel_25679/1892233889.py\u001b[0m in \u001b[0;36m<module>\u001b[0;34m\u001b[0m\n\u001b[0;32m----> 1\u001b[0;31m \u001b[0mSympyParser\u001b[0m\u001b[0;34m(\u001b[0m\u001b[0;34m'1/(1 - F(s)/(r))'\u001b[0m\u001b[0;34m,\u001b[0m\u001b[0;34m[\u001b[0m\u001b[0;34m'F'\u001b[0m\u001b[0;34m]\u001b[0m\u001b[0;34m)\u001b[0m\u001b[0;34m.\u001b[0m\u001b[0mconvertToSympyObject\u001b[0m\u001b[0;34m(\u001b[0m\u001b[0;34m)\u001b[0m\u001b[0;34m\u001b[0m\u001b[0;34m\u001b[0m\u001b[0m\n\u001b[0m",
      "\u001b[0;31mTypeError\u001b[0m: __init__() takes 2 positional arguments but 3 were given"
     ]
    }
   ],
   "source": [
    "SympyParser('1/(1 - F(s)/(r))',['F']).convertToSympyObject()"
   ]
  },
  {
   "cell_type": "markdown",
   "id": "273a4a59-fe22-4b02-a030-9ba57c6fa3d9",
   "metadata": {},
   "source": [
    "### 1. Split String into list of relevant components"
   ]
  },
  {
   "cell_type": "code",
   "execution_count": 23,
   "id": "291fc235-3aa6-4f13-8498-cbbfea9cb5e6",
   "metadata": {},
   "outputs": [
    {
     "ename": "NameError",
     "evalue": "name 'returnSympyString' is not defined",
     "output_type": "error",
     "traceback": [
      "\u001b[0;31m---------------------------------------------------------------------------\u001b[0m",
      "\u001b[0;31mNameError\u001b[0m                                 Traceback (most recent call last)",
      "\u001b[0;32m/var/folders/1g/_127qcc13ll334lvd9yl9vdc0000gn/T/ipykernel_25679/3829659175.py\u001b[0m in \u001b[0;36m<module>\u001b[0;34m\u001b[0m\n\u001b[1;32m      1\u001b[0m \u001b[0mW\u001b[0m \u001b[0;34m=\u001b[0m \u001b[0msmp\u001b[0m\u001b[0;34m.\u001b[0m\u001b[0msymbols\u001b[0m\u001b[0;34m(\u001b[0m\u001b[0;34m's x '\u001b[0m\u001b[0;34m)\u001b[0m\u001b[0;34m\u001b[0m\u001b[0;34m\u001b[0m\u001b[0m\n\u001b[1;32m      2\u001b[0m \u001b[0mQ\u001b[0m \u001b[0;34m=\u001b[0m \u001b[0msmp\u001b[0m\u001b[0;34m.\u001b[0m\u001b[0msymbols\u001b[0m\u001b[0;34m(\u001b[0m\u001b[0;34m'F '\u001b[0m\u001b[0;34m,\u001b[0m \u001b[0mcls\u001b[0m\u001b[0;34m=\u001b[0m \u001b[0msmp\u001b[0m\u001b[0;34m.\u001b[0m\u001b[0mFunction\u001b[0m\u001b[0;34m)\u001b[0m\u001b[0;34m\u001b[0m\u001b[0;34m\u001b[0m\u001b[0m\n\u001b[0;32m----> 3\u001b[0;31m \u001b[0meval\u001b[0m\u001b[0;34m(\u001b[0m\u001b[0mreturnSympyString\u001b[0m\u001b[0;34m(\u001b[0m\u001b[0mInput\u001b[0m\u001b[0;34m,\u001b[0m \u001b[0;34m[\u001b[0m\u001b[0;34m'F'\u001b[0m\u001b[0;34m]\u001b[0m\u001b[0;34m)\u001b[0m\u001b[0;34m)\u001b[0m\u001b[0;34m\u001b[0m\u001b[0;34m\u001b[0m\u001b[0m\n\u001b[0m",
      "\u001b[0;31mNameError\u001b[0m: name 'returnSympyString' is not defined"
     ]
    }
   ],
   "source": [
    "W = smp.symbols('s x ')\n",
    "Q = smp.symbols('F ', cls= smp.Function)\n",
    "eval(returnSympyString(Input, ['F']))"
   ]
  },
  {
   "cell_type": "code",
   "execution_count": 24,
   "id": "8d1b09a1-86c5-4ebc-a2fe-363a13a1e196",
   "metadata": {},
   "outputs": [],
   "source": [
    "def stringToList(stringInput):\n",
    "    return sorted(re.split(\"[/\\}\\{\\s\\*\\+\\-\\&\\)\\(\\^0987654321\",\"]+\", stringInput), key=len, reverse=True)"
   ]
  },
  {
   "cell_type": "code",
   "execution_count": 25,
   "id": "9c5121a1-81f8-43eb-8c5f-da8fcdd08596",
   "metadata": {},
   "outputs": [
    {
     "ename": "NameError",
     "evalue": "name 'Input' is not defined",
     "output_type": "error",
     "traceback": [
      "\u001b[0;31m---------------------------------------------------------------------------\u001b[0m",
      "\u001b[0;31mNameError\u001b[0m                                 Traceback (most recent call last)",
      "\u001b[0;32m/var/folders/1g/_127qcc13ll334lvd9yl9vdc0000gn/T/ipykernel_25679/1588050866.py\u001b[0m in \u001b[0;36m<module>\u001b[0;34m\u001b[0m\n\u001b[0;32m----> 1\u001b[0;31m \u001b[0mListOutput\u001b[0m \u001b[0;34m=\u001b[0m \u001b[0mstringToList\u001b[0m\u001b[0;34m(\u001b[0m\u001b[0mInput\u001b[0m\u001b[0;34m)\u001b[0m\u001b[0;34m\u001b[0m\u001b[0;34m\u001b[0m\u001b[0m\n\u001b[0m\u001b[1;32m      2\u001b[0m \u001b[0mListOutput\u001b[0m\u001b[0;34m\u001b[0m\u001b[0;34m\u001b[0m\u001b[0m\n",
      "\u001b[0;31mNameError\u001b[0m: name 'Input' is not defined"
     ]
    }
   ],
   "source": [
    "ListOutput = stringToList(Input)\n",
    "ListOutput"
   ]
  },
  {
   "cell_type": "markdown",
   "id": "cf925f58-dbe2-4f63-98b4-7d3a7757f346",
   "metadata": {},
   "source": [
    "### 2. Remove any functions recognised by sympy then remove duplicates, and finally split user stated functions"
   ]
  },
  {
   "cell_type": "code",
   "execution_count": 26,
   "id": "ed185d22-ace9-4872-b09b-2c1bcf6fa6e5",
   "metadata": {},
   "outputs": [],
   "source": [
    "def removeDuplicates(ListInput):\n",
    "    List = []\n",
    "    for i in ListInput:\n",
    "        if ListInput.count(i) > 1:\n",
    "            while ListInput.count(i) > 1:\n",
    "                ListInput.remove(i)\n",
    "            return ListInput\n",
    "        else:\n",
    "            return ListInput"
   ]
  },
  {
   "cell_type": "code",
   "execution_count": 27,
   "id": "a680e6b1-6e1e-46a4-84d6-942c1fd6f13b",
   "metadata": {},
   "outputs": [
    {
     "ename": "NameError",
     "evalue": "name 'ListOutput' is not defined",
     "output_type": "error",
     "traceback": [
      "\u001b[0;31m---------------------------------------------------------------------------\u001b[0m",
      "\u001b[0;31mNameError\u001b[0m                                 Traceback (most recent call last)",
      "\u001b[0;32m/var/folders/1g/_127qcc13ll334lvd9yl9vdc0000gn/T/ipykernel_25679/639935731.py\u001b[0m in \u001b[0;36m<module>\u001b[0;34m\u001b[0m\n\u001b[0;32m----> 1\u001b[0;31m \u001b[0mremoveDuplicates\u001b[0m\u001b[0;34m(\u001b[0m\u001b[0mListOutput\u001b[0m\u001b[0;34m)\u001b[0m\u001b[0;34m\u001b[0m\u001b[0;34m\u001b[0m\u001b[0m\n\u001b[0m",
      "\u001b[0;31mNameError\u001b[0m: name 'ListOutput' is not defined"
     ]
    }
   ],
   "source": [
    "removeDuplicates(ListOutput)"
   ]
  },
  {
   "cell_type": "markdown",
   "id": "421e94c6-2404-49ec-804d-732bacf38bce",
   "metadata": {},
   "source": [
    "### 3. Generate sympy objects from these lists\n",
    "\n",
    "3.1 First we must convert the variables list into a string format which we use to initiate sympy obejects. And same goes for the fucntions list.|"
   ]
  },
  {
   "cell_type": "code",
   "execution_count": 28,
   "id": "bd6e3bbe-002f-4025-8983-3820ac9f0cbb",
   "metadata": {},
   "outputs": [
    {
     "ename": "NameError",
     "evalue": "name 'FunctionsAndVarialesList' is not defined",
     "output_type": "error",
     "traceback": [
      "\u001b[0;31m---------------------------------------------------------------------------\u001b[0m",
      "\u001b[0;31mNameError\u001b[0m                                 Traceback (most recent call last)",
      "\u001b[0;32m/var/folders/1g/_127qcc13ll334lvd9yl9vdc0000gn/T/ipykernel_25679/3237163810.py\u001b[0m in \u001b[0;36m<module>\u001b[0;34m\u001b[0m\n\u001b[1;32m     12\u001b[0m     \u001b[0;32mreturn\u001b[0m \u001b[0mvariable\u001b[0m\u001b[0;34m\u001b[0m\u001b[0;34m\u001b[0m\u001b[0m\n\u001b[1;32m     13\u001b[0m \u001b[0;34m\u001b[0m\u001b[0m\n\u001b[0;32m---> 14\u001b[0;31m \u001b[0mprint\u001b[0m\u001b[0;34m(\u001b[0m\u001b[0mconvertListToSympyVariableString\u001b[0m\u001b[0;34m(\u001b[0m\u001b[0mFunctionsAndVarialesList\u001b[0m\u001b[0;34m[\u001b[0m\u001b[0;36m0\u001b[0m\u001b[0;34m]\u001b[0m\u001b[0;34m)\u001b[0m\u001b[0;34m)\u001b[0m\u001b[0;34m\u001b[0m\u001b[0;34m\u001b[0m\u001b[0m\n\u001b[0m\u001b[1;32m     15\u001b[0m \u001b[0mprint\u001b[0m\u001b[0;34m(\u001b[0m\u001b[0mconvertListToSympyVariableString\u001b[0m\u001b[0;34m(\u001b[0m\u001b[0mFunctionsAndVarialesList\u001b[0m\u001b[0;34m[\u001b[0m\u001b[0;36m1\u001b[0m\u001b[0;34m]\u001b[0m\u001b[0;34m)\u001b[0m\u001b[0;34m)\u001b[0m\u001b[0;34m\u001b[0m\u001b[0;34m\u001b[0m\u001b[0m\n",
      "\u001b[0;31mNameError\u001b[0m: name 'FunctionsAndVarialesList' is not defined"
     ]
    }
   ],
   "source": [
    "# This will convert a list of variables and convert them into one string, in the same order of the List, \n",
    "# so that sympy can parse the string to sympy objects.\n",
    "# Input: List = ['x', 'y', 'z']\n",
    "# Output: String = 'x y z '\n",
    "def convertListToSympyVariableString(List):\n",
    "    varableList = []\n",
    "    for string in List:\n",
    "        varableList.append(string.replace(' ',''))\n",
    "    variable = ''\n",
    "    for i in range(len(varableList)):\n",
    "        variable += varableList[i] + ' '\n",
    "    return variable\n",
    "\n",
    "print(convertListToSympyVariableString(FunctionsAndVarialesList[0]))\n",
    "print(convertListToSympyVariableString(FunctionsAndVarialesList[1]))"
   ]
  },
  {
   "cell_type": "markdown",
   "id": "ae14e65e-a619-4ebd-bcc5-321388264c46",
   "metadata": {},
   "source": [
    "3.2 Secondly, we use this string, which is now in the format we want an we create the list of sympy objects"
   ]
  },
  {
   "cell_type": "code",
   "execution_count": 29,
   "id": "810ec318-a0f4-4c92-9cb6-b95422e9a983",
   "metadata": {},
   "outputs": [
    {
     "ename": "NameError",
     "evalue": "name 'FunctionsAndVarialesList' is not defined",
     "output_type": "error",
     "traceback": [
      "\u001b[0;31m---------------------------------------------------------------------------\u001b[0m",
      "\u001b[0;31mNameError\u001b[0m                                 Traceback (most recent call last)",
      "\u001b[0;32m/var/folders/1g/_127qcc13ll334lvd9yl9vdc0000gn/T/ipykernel_25679/2531330333.py\u001b[0m in \u001b[0;36m<module>\u001b[0;34m\u001b[0m\n\u001b[0;32m----> 1\u001b[0;31m \u001b[0mW\u001b[0m \u001b[0;34m=\u001b[0m \u001b[0msmp\u001b[0m\u001b[0;34m.\u001b[0m\u001b[0msymbols\u001b[0m\u001b[0;34m(\u001b[0m\u001b[0mconvertListToSympyVariableString\u001b[0m\u001b[0;34m(\u001b[0m\u001b[0mFunctionsAndVarialesList\u001b[0m\u001b[0;34m[\u001b[0m\u001b[0;36m0\u001b[0m\u001b[0;34m]\u001b[0m\u001b[0;34m)\u001b[0m\u001b[0;34m)\u001b[0m\u001b[0;34m\u001b[0m\u001b[0;34m\u001b[0m\u001b[0m\n\u001b[0m\u001b[1;32m      2\u001b[0m \u001b[0mW\u001b[0m\u001b[0;34m[\u001b[0m\u001b[0;36m0\u001b[0m\u001b[0;34m]\u001b[0m \u001b[0;31m#Example\u001b[0m\u001b[0;34m\u001b[0m\u001b[0;34m\u001b[0m\u001b[0m\n",
      "\u001b[0;31mNameError\u001b[0m: name 'FunctionsAndVarialesList' is not defined"
     ]
    }
   ],
   "source": [
    "W = smp.symbols(convertListToSympyVariableString(FunctionsAndVarialesList[0]))\n",
    "W[0] #Example"
   ]
  },
  {
   "cell_type": "code",
   "execution_count": 30,
   "id": "d145c7ab-f404-44c5-902d-cdadaa92ca9a",
   "metadata": {},
   "outputs": [
    {
     "ename": "NameError",
     "evalue": "name 'FunctionsAndVarialesList' is not defined",
     "output_type": "error",
     "traceback": [
      "\u001b[0;31m---------------------------------------------------------------------------\u001b[0m",
      "\u001b[0;31mNameError\u001b[0m                                 Traceback (most recent call last)",
      "\u001b[0;32m/var/folders/1g/_127qcc13ll334lvd9yl9vdc0000gn/T/ipykernel_25679/3426737052.py\u001b[0m in \u001b[0;36m<module>\u001b[0;34m\u001b[0m\n\u001b[0;32m----> 1\u001b[0;31m \u001b[0mQ\u001b[0m \u001b[0;34m=\u001b[0m \u001b[0msmp\u001b[0m\u001b[0;34m.\u001b[0m\u001b[0msymbols\u001b[0m\u001b[0;34m(\u001b[0m\u001b[0mconvertListToSympyVariableString\u001b[0m\u001b[0;34m(\u001b[0m\u001b[0mFunctionsAndVarialesList\u001b[0m\u001b[0;34m[\u001b[0m\u001b[0;36m1\u001b[0m\u001b[0;34m]\u001b[0m\u001b[0;34m)\u001b[0m\u001b[0;34m,\u001b[0m \u001b[0mcls\u001b[0m \u001b[0;34m=\u001b[0m \u001b[0msmp\u001b[0m\u001b[0;34m.\u001b[0m\u001b[0mFunction\u001b[0m\u001b[0;34m)\u001b[0m\u001b[0;34m\u001b[0m\u001b[0;34m\u001b[0m\u001b[0m\n\u001b[0m\u001b[1;32m      2\u001b[0m \u001b[0mQ\u001b[0m\u001b[0;34m(\u001b[0m\u001b[0mW\u001b[0m\u001b[0;34m[\u001b[0m\u001b[0;36m0\u001b[0m\u001b[0;34m]\u001b[0m\u001b[0;34m)\u001b[0m \u001b[0;31m#Example\u001b[0m\u001b[0;34m\u001b[0m\u001b[0;34m\u001b[0m\u001b[0m\n",
      "\u001b[0;31mNameError\u001b[0m: name 'FunctionsAndVarialesList' is not defined"
     ]
    }
   ],
   "source": [
    "Q = smp.symbols(convertListToSympyVariableString(FunctionsAndVarialesList[1]), cls = smp.Function)\n",
    "Q(W[0]) #Example"
   ]
  },
  {
   "cell_type": "markdown",
   "id": "f82dccf5-bfc4-4d4a-a541-6de461518588",
   "metadata": {},
   "source": [
    "### We now have all the sympy objects we want and better yet, they are in an ordered list.\n",
    "\n",
    "We can perform the last step, which is to simply go to the original string and replace the variables with the relevant sympy variable stored.\n",
    "\n",
    "However, we have an additional problem to solve. In our original string, we have variables $s$ and we have variable $t$, both of which are letters in the words sinh and theta. First we realise there are two categories here:\n",
    "\n",
    "1. Functions: sinh\n",
    "2. Variables: theta"
   ]
  },
  {
   "cell_type": "code",
   "execution_count": 31,
   "id": "d5dcaac8-d71c-474c-ad78-6374b7fc9f93",
   "metadata": {},
   "outputs": [
    {
     "ename": "NameError",
     "evalue": "name 'Input' is not defined",
     "output_type": "error",
     "traceback": [
      "\u001b[0;31m---------------------------------------------------------------------------\u001b[0m",
      "\u001b[0;31mNameError\u001b[0m                                 Traceback (most recent call last)",
      "\u001b[0;32m/var/folders/1g/_127qcc13ll334lvd9yl9vdc0000gn/T/ipykernel_25679/1903013908.py\u001b[0m in \u001b[0;36m<module>\u001b[0;34m\u001b[0m\n\u001b[0;32m----> 1\u001b[0;31m \u001b[0mInput\u001b[0m\u001b[0;34m\u001b[0m\u001b[0;34m\u001b[0m\u001b[0m\n\u001b[0m",
      "\u001b[0;31mNameError\u001b[0m: name 'Input' is not defined"
     ]
    }
   ],
   "source": [
    "Input"
   ]
  },
  {
   "cell_type": "markdown",
   "id": "047de45c-3725-4051-a0fd-b7567e8a8e3a",
   "metadata": {},
   "source": [
    "How do we stop replacing the t and s variables for their relevant sympy variable such as w[2] and w[3] in the words sing and theta?\n",
    "First, we notice that we ordered the variables list by length, so that we replace long words before we relace short words. This solves any problem for variabels as words and letters as variables which are also letters within those variables as words. For sinh, we must keep the string in the string, as sympy recognises those strings and automatically converts then into the relavant function. So we must use our own replacer function, using the power of regex library:"
   ]
  },
  {
   "cell_type": "code",
   "execution_count": 32,
   "id": "72638aae-cec9-4ebd-aeed-c8f4357488ec",
   "metadata": {},
   "outputs": [
    {
     "ename": "NameError",
     "evalue": "name 'Input' is not defined",
     "output_type": "error",
     "traceback": [
      "\u001b[0;31m---------------------------------------------------------------------------\u001b[0m",
      "\u001b[0;31mNameError\u001b[0m                                 Traceback (most recent call last)",
      "\u001b[0;32m/var/folders/1g/_127qcc13ll334lvd9yl9vdc0000gn/T/ipykernel_25679/1174849268.py\u001b[0m in \u001b[0;36m<module>\u001b[0;34m\u001b[0m\n\u001b[1;32m      7\u001b[0m     \u001b[0;32melif\u001b[0m \u001b[0mlen\u001b[0m\u001b[0;34m(\u001b[0m\u001b[0mstringToBeReplaced\u001b[0m\u001b[0;34m)\u001b[0m \u001b[0;34m>\u001b[0m \u001b[0;36m1\u001b[0m\u001b[0;34m:\u001b[0m\u001b[0;34m\u001b[0m\u001b[0;34m\u001b[0m\u001b[0m\n\u001b[1;32m      8\u001b[0m         \u001b[0;32mreturn\u001b[0m \u001b[0mstring\u001b[0m\u001b[0;34m.\u001b[0m\u001b[0mreplace\u001b[0m\u001b[0;34m(\u001b[0m\u001b[0mstringToBeReplaced\u001b[0m\u001b[0;34m,\u001b[0m \u001b[0mstringToReplace\u001b[0m\u001b[0;34m)\u001b[0m\u001b[0;34m\u001b[0m\u001b[0;34m\u001b[0m\u001b[0m\n\u001b[0;32m----> 9\u001b[0;31m \u001b[0mreplacer\u001b[0m\u001b[0;34m(\u001b[0m\u001b[0mInput\u001b[0m\u001b[0;34m,\u001b[0m \u001b[0;34m't'\u001b[0m\u001b[0;34m,\u001b[0m \u001b[0;34m'W[3]'\u001b[0m\u001b[0;34m)\u001b[0m\u001b[0;34m\u001b[0m\u001b[0;34m\u001b[0m\u001b[0m\n\u001b[0m",
      "\u001b[0;31mNameError\u001b[0m: name 'Input' is not defined"
     ]
    }
   ],
   "source": [
    "def replacer(string, stringToBeReplaced, stringToReplace):\n",
    "    if len(stringToBeReplaced) == 1:\n",
    "        for i in range(1, len(string)-1):\n",
    "            if bool(re.search(\"[^a-z][\" + stringToBeReplaced + \"][^a-z]\", string[i-1]+string[i]+string[i+1])):\n",
    "                string = string[:i] + stringToReplace + string[i+1:]\n",
    "        return string\n",
    "    elif len(stringToBeReplaced) > 1:\n",
    "        return string.replace(stringToBeReplaced, stringToReplace)\n",
    "replacer(Input, 't', 'W[3]')"
   ]
  },
  {
   "cell_type": "markdown",
   "id": "d0629fae-1406-4c62-8f0e-c40a25bee421",
   "metadata": {},
   "source": [
    "As you can see, only the s as been replaced by the sympy W[2] variable, not the s in the string of the function sinh. "
   ]
  },
  {
   "cell_type": "markdown",
   "id": "3c87ce27-922d-45ab-a059-b1f3cacfea9c",
   "metadata": {},
   "source": [
    "### Using this we are now ready to parse this string\n",
    "\n",
    "The string is writen as a string but using the eval() python method, we can execute the string as though it were a python executable. This will return the sympy object we wanted!"
   ]
  },
  {
   "cell_type": "code",
   "execution_count": 33,
   "id": "4d149c33-e772-456e-9d08-76a80d619118",
   "metadata": {},
   "outputs": [],
   "source": [
    "def convertToSympyObject(String, ):\n",
    "        VariableSymbolsList = self.splitVariablesAndFucntionsList()[0]\n",
    "        FunctionSymbolList = self.splitVariablesAndFucntionsList()[1]\n",
    "        FunctionSymbols = self.convertListToSympyVariableString(FunctionSymbolList)\n",
    "        VariableSymbols = self.convertListToSympyVariableString(VariableSymbolsList)\n",
    "        VarEquation = self.equationString\n",
    "        \n",
    "        VarEquation = self.equationString\n",
    "        W = smp.symbols(VariableSymbols, float = True)\n",
    "        for variable in VariableSymbolsList:\n",
    "            VarEquation = self.replacer(VarEquation, '{}'.format(variable),'W')\n",
    "        return eval(VarEquation)"
   ]
  },
  {
   "cell_type": "code",
   "execution_count": 34,
   "id": "5ddc38f2-1857-4328-ba63-9490bfc9cbea",
   "metadata": {},
   "outputs": [
    {
     "data": {
      "text/plain": [
       "'[[][][][]]'"
      ]
     },
     "execution_count": 34,
     "metadata": {},
     "output_type": "execute_result"
    }
   ],
   "source": [
    "schild = '[[ -1 - r ,(-1 - r),(-1 - r),(-1 - F(r)*r)],[(-1 - r),(-1 - r),(-1 - r),(-1 - r)],[(-1 - r),(-1 - r),(r**2),(-1 - r)],[(-1 - r),(-1 - r),(-1 - r),(r**2*sin(2*theta)**2)]]'\n",
    "\n",
    "def getBracketsString(stringInput):\n",
    "    return re.sub( '[^\\[^\\]]', '',stringInput)\n",
    "\n",
    "getBracketsString(schild)"
   ]
  },
  {
   "cell_type": "code",
   "execution_count": 35,
   "id": "a3c66853-8f26-4995-aed3-0f68c3559a82",
   "metadata": {},
   "outputs": [
    {
     "ename": "TypeError",
     "evalue": "__init__() takes 2 positional arguments but 3 were given",
     "output_type": "error",
     "traceback": [
      "\u001b[0;31m---------------------------------------------------------------------------\u001b[0m",
      "\u001b[0;31mTypeError\u001b[0m                                 Traceback (most recent call last)",
      "\u001b[0;32m/var/folders/1g/_127qcc13ll334lvd9yl9vdc0000gn/T/ipykernel_25679/2755635977.py\u001b[0m in \u001b[0;36m<module>\u001b[0;34m\u001b[0m\n\u001b[1;32m    199\u001b[0m         \u001b[0;32mreturn\u001b[0m \u001b[0mListArray\u001b[0m\u001b[0;34m.\u001b[0m\u001b[0mreshape\u001b[0m\u001b[0;34m(\u001b[0m\u001b[0;34m*\u001b[0m\u001b[0mt\u001b[0m\u001b[0;34m)\u001b[0m\u001b[0;34m\u001b[0m\u001b[0;34m\u001b[0m\u001b[0m\n\u001b[1;32m    200\u001b[0m \u001b[0;34m\u001b[0m\u001b[0m\n\u001b[0;32m--> 201\u001b[0;31m \u001b[0mMetric\u001b[0m \u001b[0;34m=\u001b[0m \u001b[0mSympyArray\u001b[0m\u001b[0;34m(\u001b[0m\u001b[0mschild\u001b[0m\u001b[0;34m,\u001b[0m \u001b[0;34m[\u001b[0m\u001b[0;34m'F'\u001b[0m\u001b[0;34m]\u001b[0m\u001b[0;34m)\u001b[0m\u001b[0;34m.\u001b[0m\u001b[0mReturnSympyArray\u001b[0m\u001b[0;34m(\u001b[0m\u001b[0;34m)\u001b[0m\u001b[0;34m\u001b[0m\u001b[0;34m\u001b[0m\u001b[0m\n\u001b[0m\u001b[1;32m    202\u001b[0m \u001b[0;34m\u001b[0m\u001b[0m\n\u001b[1;32m    203\u001b[0m \u001b[0mG\u001b[0m \u001b[0;34m=\u001b[0m \u001b[0mFunctions\u001b[0m\u001b[0;34m(\u001b[0m\u001b[0mMetric\u001b[0m\u001b[0;34m,\u001b[0m \u001b[0mSympyArray\u001b[0m\u001b[0;34m(\u001b[0m\u001b[0;34m'[t,r,theta,phi]'\u001b[0m\u001b[0;34m,\u001b[0m \u001b[0;34m[\u001b[0m\u001b[0;34m'F'\u001b[0m\u001b[0;34m]\u001b[0m\u001b[0;34m)\u001b[0m\u001b[0;34m.\u001b[0m\u001b[0mReturnSympyArray\u001b[0m\u001b[0;34m(\u001b[0m\u001b[0;34m)\u001b[0m\u001b[0;34m,\u001b[0m \u001b[0;36m4\u001b[0m\u001b[0;34m)\u001b[0m\u001b[0;34m\u001b[0m\u001b[0;34m\u001b[0m\u001b[0m\n",
      "\u001b[0;32m/var/folders/1g/_127qcc13ll334lvd9yl9vdc0000gn/T/ipykernel_25679/2755635977.py\u001b[0m in \u001b[0;36mReturnSympyArray\u001b[0;34m(self)\u001b[0m\n\u001b[1;32m    195\u001b[0m \u001b[0;34m\u001b[0m\u001b[0m\n\u001b[1;32m    196\u001b[0m     \u001b[0;32mdef\u001b[0m \u001b[0mReturnSympyArray\u001b[0m\u001b[0;34m(\u001b[0m\u001b[0mself\u001b[0m\u001b[0;34m)\u001b[0m\u001b[0;34m:\u001b[0m\u001b[0;34m\u001b[0m\u001b[0;34m\u001b[0m\u001b[0m\n\u001b[0;32m--> 197\u001b[0;31m         \u001b[0mListArray\u001b[0m \u001b[0;34m=\u001b[0m \u001b[0mself\u001b[0m\u001b[0;34m.\u001b[0m\u001b[0mParseToSympyArray\u001b[0m\u001b[0;34m(\u001b[0m\u001b[0;34m)\u001b[0m\u001b[0;34m\u001b[0m\u001b[0;34m\u001b[0m\u001b[0m\n\u001b[0m\u001b[1;32m    198\u001b[0m         \u001b[0mt\u001b[0m \u001b[0;34m=\u001b[0m \u001b[0mself\u001b[0m\u001b[0;34m.\u001b[0m\u001b[0mTupleGenerator\u001b[0m\u001b[0;34m(\u001b[0m\u001b[0;34m)\u001b[0m\u001b[0;34m\u001b[0m\u001b[0;34m\u001b[0m\u001b[0m\n\u001b[1;32m    199\u001b[0m         \u001b[0;32mreturn\u001b[0m \u001b[0mListArray\u001b[0m\u001b[0;34m.\u001b[0m\u001b[0mreshape\u001b[0m\u001b[0;34m(\u001b[0m\u001b[0;34m*\u001b[0m\u001b[0mt\u001b[0m\u001b[0;34m)\u001b[0m\u001b[0;34m\u001b[0m\u001b[0;34m\u001b[0m\u001b[0m\n",
      "\u001b[0;32m/var/folders/1g/_127qcc13ll334lvd9yl9vdc0000gn/T/ipykernel_25679/2755635977.py\u001b[0m in \u001b[0;36mParseToSympyArray\u001b[0;34m(self)\u001b[0m\n\u001b[1;32m    191\u001b[0m         \u001b[0mEmpty\u001b[0m \u001b[0;34m=\u001b[0m \u001b[0mself\u001b[0m\u001b[0;34m.\u001b[0m\u001b[0mCreateListArray\u001b[0m\u001b[0;34m(\u001b[0m\u001b[0;34m)\u001b[0m\u001b[0;34m\u001b[0m\u001b[0;34m\u001b[0m\u001b[0m\n\u001b[1;32m    192\u001b[0m         \u001b[0;32mfor\u001b[0m \u001b[0mi\u001b[0m \u001b[0;32min\u001b[0m \u001b[0mrange\u001b[0m\u001b[0;34m(\u001b[0m\u001b[0mlen\u001b[0m\u001b[0;34m(\u001b[0m\u001b[0mListOfElements\u001b[0m\u001b[0;34m)\u001b[0m\u001b[0;34m)\u001b[0m\u001b[0;34m:\u001b[0m\u001b[0;34m\u001b[0m\u001b[0;34m\u001b[0m\u001b[0m\n\u001b[0;32m--> 193\u001b[0;31m             \u001b[0mEmpty\u001b[0m\u001b[0;34m[\u001b[0m\u001b[0;34m[\u001b[0m\u001b[0mi\u001b[0m\u001b[0;34m]\u001b[0m\u001b[0;34m]\u001b[0m \u001b[0;34m=\u001b[0m \u001b[0mSympyParser\u001b[0m\u001b[0;34m(\u001b[0m\u001b[0mListOfElements\u001b[0m\u001b[0;34m[\u001b[0m\u001b[0mi\u001b[0m\u001b[0;34m]\u001b[0m\u001b[0;34m,\u001b[0m \u001b[0mself\u001b[0m\u001b[0;34m.\u001b[0m\u001b[0mfunctions\u001b[0m\u001b[0;34m)\u001b[0m\u001b[0;34m.\u001b[0m\u001b[0mconvertToSympyObject\u001b[0m\u001b[0;34m(\u001b[0m\u001b[0;34m)\u001b[0m\u001b[0;34m\u001b[0m\u001b[0;34m\u001b[0m\u001b[0m\n\u001b[0m\u001b[1;32m    194\u001b[0m         \u001b[0;32mreturn\u001b[0m \u001b[0mEmpty\u001b[0m\u001b[0;34m\u001b[0m\u001b[0;34m\u001b[0m\u001b[0m\n\u001b[1;32m    195\u001b[0m \u001b[0;34m\u001b[0m\u001b[0m\n",
      "\u001b[0;31mTypeError\u001b[0m: __init__() takes 2 positional arguments but 3 were given"
     ]
    }
   ],
   "source": [
    "schild = '[[ -1 - r ,(-1 - r),(-1 - r),(-1 - F(r)*r)],[(-1 - r),(-1 - r),(-1 - r),(-1 - r)],[(-1 - r),(-1 - r),(r**2),(-1 - r)],[(-1 - r),(-1 - r),(-1 - r),(r**2*sin(2*theta)**2)]]'\n",
    "Matrix = '[[[[1,2],[3,4]],[[1,2],[3,4]]],[[[1,2],[3,4]],[[1,2],[3,4]]]]'\n",
    "\n",
    "\n",
    "import re\n",
    "import sympy as smp\n",
    "from sympy import sin, cos, tan, sinh, cosh, tanh, exp, asin, acos, atan\n",
    "\n",
    "class SympyParserV1:\n",
    "    def __init__(self, equationString, functionList):\n",
    "        self.equationString = equationString\n",
    "        self.functionList = functionList   \n",
    "\n",
    "    def removeDuplicates(self, List):\n",
    "        ListIn = []\n",
    "        for i in List:\n",
    "            if List.count(i) > 1:\n",
    "                while List.count(i) > 1:\n",
    "                    List.remove(i)\n",
    "                return List\n",
    "            else:\n",
    "                return List\n",
    "        \n",
    "    # This will take a string expression and split it into a list of all components which Regex pattern believes to be a Variable or Function.\n",
    "    # Input: String = '2 - F(x)*y**(x**2)'\n",
    "    # Output: List = ['', 'F', 'x', 'y', 'z', '']\n",
    "    def returnListOfVariablesAndFunctions(self):\n",
    "        SortedList = sorted(re.split(\"[/\\}\\{\\s\\*\\+\\-\\&\\)\\(\\^0987654321|]+\", self.equationString), key=len, reverse=True)\n",
    "        return self.removeDuplicates(SortedList)\n",
    "        \n",
    "    \n",
    "    def replacer(self, string, stringToBeReplaced, stringToReplace):\n",
    "        if len(stringToBeReplaced) == 1:\n",
    "            for i in range(1, len(string)-1):\n",
    "                if bool(re.search(\"[^a-z][\" + stringToBeReplaced + \"][^a-z]\", string[i-1]+string[i]+string[i+1])):\n",
    "                    string = string[:i] + stringToReplace + string[i+1:]\n",
    "            return string\n",
    "        elif len(stringToBeReplaced) > 1:\n",
    "            return string.replace(stringToBeReplaced, stringToReplace)\n",
    "\n",
    "    # This will take a list of strings (each of which represent either a variable symbol or a function symbol) and split the Varible category from Function category\n",
    "    # Input: List = ['', 'F', 'x', 'y', 'z', '']\n",
    "    # Output: List = [['x', 'y', 'z'],['F']]\n",
    "    def splitVariablesAndFucntionsList(self):\n",
    "        SpecialFunctions = ['sin', 'cos', 'tan', 'sinh', 'cosh', 'tanh', 'asin', 'atan', 'acos', 'asinh', 'acosh', 'atanh', 'exp', 'pi']\n",
    "        totalList = self.returnListOfVariablesAndFunctions()\n",
    "        VariableList = []\n",
    "        FunctionList = []\n",
    "        for string in totalList:\n",
    "            if string in self.functionList:\n",
    "                FunctionList.append(string)\n",
    "            elif string not in self.functionList and string != '' and string not in SpecialFunctions:\n",
    "                VariableList.append(string)\n",
    "        return [VariableList, FunctionList]\n",
    "\n",
    "    # This will convert a list of variables and convert them into one string, in the same order of the List, \n",
    "    # so that sympy can parse the string to sympy objects.\n",
    "    # Input: List = ['x', 'y', 'z']\n",
    "    # Output: String = 'x y z '\n",
    "    def convertListToSympyVariableString(self, stringList):\n",
    "        varableList = []\n",
    "        for string in stringList:\n",
    "            varableList.append(string.replace(' ',''))\n",
    "        variable = ''\n",
    "        for i in range(len(varableList)):\n",
    "            variable += varableList[i] + ' '\n",
    "        return variable\n",
    "        \n",
    "    # This is perhaps the most important function. Putting all the pieces together.\n",
    "    # Taking VariableList = ['x', 'y', 'z'] and FunctionList = ['F']\n",
    "    # This function will take consecutive elements from VariableList and FunctionList,\n",
    "    # then we use the find function to find the location in the string.\n",
    "    # We than replace the variable in the formula with the sympy object with the relevant list location \n",
    "    # Finally, when all variables and functions in the string are replaced by the relevant sympy object,\n",
    "    # The fucntion will use a eval() function, where python evaluates that string as if it were not a string but python variables.\n",
    "    def convertToSympyObject(self):\n",
    "        VariableSymbolsList = self.splitVariablesAndFucntionsList()[0]\n",
    "        FunctionSymbolList = self.splitVariablesAndFucntionsList()[1]\n",
    "        FunctionSymbols = self.convertListToSympyVariableString(FunctionSymbolList)\n",
    "        VariableSymbols = self.convertListToSympyVariableString(VariableSymbolsList)\n",
    "        \n",
    "        if re.search(\"[/\\}\\{\\s\\*\\+\\-\\&\\)\\(]+\", re.sub('[\\s]','', self.equationString)) == None:\n",
    "            return smp.symbols(re.sub('[\\s]','', self.equationString), float = True)\n",
    "        elif int(len(FunctionSymbolList)) == 0 and int(len(VariableSymbolsList)) == 1:\n",
    "            VarEquation = self.equationString\n",
    "            W = smp.symbols(VariableSymbols, float = True)\n",
    "            for variable in VariableSymbolsList:\n",
    "                VarEquation = self.replacer(VarEquation, '{}'.format(variable),'W')\n",
    "            return eval(VarEquation)\n",
    "        elif int(len(FunctionSymbolList)) == 1 and int(len(VariableSymbolsList)) == 1:\n",
    "            VarEquation = self.equationString\n",
    "            W = smp.symbols(VariableSymbols, float = True)\n",
    "            Q = smp.symbols(FunctionSymbols, cls = smp.Function)\n",
    "            for variable in VariableSymbolsList:\n",
    "                VarEquation = self.replacer(VarEquation,'{}'.format(variable),'W')\n",
    "            FuncEquation = VarEquation\n",
    "            for function in FunctionSymbolList:\n",
    "                FuncEquation = self.replacer(FuncEquation, '{}'.format(function),'Q')\n",
    "            return eval(FuncEquation)\n",
    "        elif int(len(FunctionSymbolList)) == 0 and int(len(VariableSymbolsList)) > 1:\n",
    "            VarEquation = self.equationString\n",
    "            W = smp.symbols(VariableSymbols, float = True)\n",
    "            for variable in VariableSymbolsList:\n",
    "                VarEquation = self.replacer(VarEquation,'{}'.format(variable),'W[{}]'.format(VariableSymbolsList.index(variable)))\n",
    "            return eval(VarEquation)\n",
    "        elif int(len(FunctionSymbolList)) == 1 and int(len(VariableSymbolsList)) > 1:\n",
    "            VarEquation = self.equationString\n",
    "            W = smp.symbols(VariableSymbols, float = True)\n",
    "            Q = smp.symbols(FunctionSymbols, cls = smp.Function)\n",
    "            for variable in VariableSymbolsList:\n",
    "                VarEquation = self.replacer(VarEquation,'{}'.format(variable),'W[{}]'.format(VariableSymbolsList.index(variable)))\n",
    "            FuncEquation = VarEquation\n",
    "            for function in FunctionSymbolList:\n",
    "                FuncEquation = self.replacer(FuncEquation, '{}'.format(function),'Q')\n",
    "            return eval(FuncEquation)\n",
    "        elif int(len(FunctionSymbolList)) > 1:\n",
    "            VarEquation = self.equationString\n",
    "            W = smp.symbols(VariableSymbols, float = True)\n",
    "            Q = smp.symbols(FunctionSymbols, cls = smp.Function)\n",
    "            for variable in VariableSymbolsList:\n",
    "                VarEquation = self.replacer(VarEquation,'{}'.format(variable),'W[{}]'.format(VariableSymbolsList.index(variable)))\n",
    "            FuncEquation = VarEquation\n",
    "            for function in FunctionSymbolList:\n",
    "                FuncEquation = self.replacer(FuncEquation, '{}'.format(function),'Q[{}]'.format(FunctionSymbolList.index(function)))\n",
    "            return eval(FuncEquation)\n",
    "        \n",
    "    \n",
    "class SympyArray:\n",
    "    def __init__(self, stringArray, functions):\n",
    "        self.stringArray = stringArray\n",
    "        self.functions = functions\n",
    "\n",
    "    def multiplyList(self, myList):\n",
    "        # Multiply elements one by one\n",
    "        result = 1\n",
    "        for x in myList:\n",
    "            result = result * x\n",
    "        return result\n",
    "\n",
    "    #Arr[[0]] = A.convertToSympyObject()\n",
    "    def CreateTensor(self):\n",
    "        Array = []\n",
    "        for n in range(self.multiplyList(self.TupleGenerator())):\n",
    "            Array.append(0)\n",
    "        Arr = smp.MutableDenseNDimArray(Array, self.TupleGenerator())\n",
    "        return Arr\n",
    "    \n",
    "    def CreateListArray(self):\n",
    "        Array = []\n",
    "        for n in range(self.multiplyList(self.TupleGenerator())):\n",
    "            Array.append(0)\n",
    "        Arr = smp.MutableDenseNDimArray(Array)\n",
    "        return Arr\n",
    "\n",
    "    def openBrackets(self, dim):\n",
    "        string = ''\n",
    "        for i in range(dim):\n",
    "            string += '['\n",
    "        return string\n",
    "\n",
    "    def getBracketsString(self):\n",
    "        return re.sub( '[^\\[^\\]]', '',self.stringArray)\n",
    "        \n",
    "    def stringToListParser(self):\n",
    "        array = self.stringArray\n",
    "        return len(array.replace('[','').replace(']','').split(','))\n",
    "\n",
    "    def rankFinder(self):\n",
    "        string = self.getBracketsString()\n",
    "        c = 0\n",
    "        i = 1\n",
    "        count = 1\n",
    "        while count != 0:\n",
    "            count = string.count(self.openBrackets(i))\n",
    "            c += 1\n",
    "            i += 1\n",
    "        return c - 1\n",
    "\n",
    "    def TupleGenerator(self):\n",
    "        Tensor = self.stringArray\n",
    "        N = np.power(self.stringToListParser(), (1/self.rankFinder()))\n",
    "        List = []\n",
    "        for i in range(self.rankFinder()):\n",
    "            List.append(int(N))\n",
    "\n",
    "        return tuple(List)\n",
    "    \n",
    "    def ParseToSympyArray(self):\n",
    "        string = self.stringArray\n",
    "        ListOfElements = string.replace('[','').replace(']','').split(',')\n",
    "        Empty = self.CreateListArray()\n",
    "        for i in range(len(ListOfElements)):\n",
    "            Empty[[i]] = SympyParser(ListOfElements[i], self.functions).convertToSympyObject()\n",
    "        return Empty\n",
    "    \n",
    "    def ReturnSympyArray(self):\n",
    "        ListArray = self.ParseToSympyArray()\n",
    "        t = self.TupleGenerator()\n",
    "        return ListArray.reshape(*t)\n",
    "    \n",
    "Metric = SympyArray(schild, ['F']).ReturnSympyArray()\n",
    "\n",
    "G = Functions(Metric, SympyArray('[t,r,theta,phi]', ['F']).ReturnSympyArray(), 4)"
   ]
  },
  {
   "cell_type": "code",
   "execution_count": 36,
   "id": "b048818c-4f80-42c7-b17e-7c73b54a804f",
   "metadata": {},
   "outputs": [
    {
     "ename": "TypeError",
     "evalue": "__init__() takes 2 positional arguments but 3 were given",
     "output_type": "error",
     "traceback": [
      "\u001b[0;31m---------------------------------------------------------------------------\u001b[0m",
      "\u001b[0;31mTypeError\u001b[0m                                 Traceback (most recent call last)",
      "\u001b[0;32m/var/folders/1g/_127qcc13ll334lvd9yl9vdc0000gn/T/ipykernel_25679/590150223.py\u001b[0m in \u001b[0;36m<module>\u001b[0;34m\u001b[0m\n\u001b[0;32m----> 1\u001b[0;31m \u001b[0mSympyParser\u001b[0m\u001b[0;34m(\u001b[0m\u001b[0;34m' '\u001b[0m\u001b[0;34m,\u001b[0m\u001b[0;34m[\u001b[0m\u001b[0;34m'G'\u001b[0m\u001b[0;34m]\u001b[0m\u001b[0;34m)\u001b[0m\u001b[0;34m.\u001b[0m\u001b[0mconvertToSympyObject\u001b[0m\u001b[0;34m(\u001b[0m\u001b[0;34m)\u001b[0m\u001b[0;34m\u001b[0m\u001b[0;34m\u001b[0m\u001b[0m\n\u001b[0m",
      "\u001b[0;31mTypeError\u001b[0m: __init__() takes 2 positional arguments but 3 were given"
     ]
    }
   ],
   "source": [
    "SympyParser(' ',['G']).convertToSympyObject()"
   ]
  },
  {
   "cell_type": "code",
   "execution_count": 37,
   "id": "3ed6a711-75fc-4392-a7dc-6dd251508924",
   "metadata": {},
   "outputs": [
    {
     "data": {
      "text/plain": [
       "False"
      ]
     },
     "execution_count": 37,
     "metadata": {},
     "output_type": "execute_result"
    }
   ],
   "source": [
    "re.search(\"[/\\}\\{\\s\\*\\+\\-\\&\\)\\(]\", '12 + r') == None\n",
    "#re.sub('[\\s]','', ' 10 ')"
   ]
  },
  {
   "cell_type": "code",
   "execution_count": 38,
   "id": "55801f37-9257-4a64-9be0-1ca0282aca50",
   "metadata": {},
   "outputs": [
    {
     "ename": "NameError",
     "evalue": "name 'MetricArray' is not defined",
     "output_type": "error",
     "traceback": [
      "\u001b[0;31m---------------------------------------------------------------------------\u001b[0m",
      "\u001b[0;31mNameError\u001b[0m                                 Traceback (most recent call last)",
      "\u001b[0;32m/var/folders/1g/_127qcc13ll334lvd9yl9vdc0000gn/T/ipykernel_25679/2138860306.py\u001b[0m in \u001b[0;36m<module>\u001b[0;34m\u001b[0m\n\u001b[1;32m      1\u001b[0m fucntionDic = { \n\u001b[0;32m----> 2\u001b[0;31m     \u001b[0;34m\"Gamma\"\u001b[0m\u001b[0;34m:\u001b[0m \u001b[0mFunctions\u001b[0m\u001b[0;34m(\u001b[0m\u001b[0mMetricArray\u001b[0m\u001b[0;34m,\u001b[0m\u001b[0mBasisArray\u001b[0m\u001b[0;34m,\u001b[0m\u001b[0mDim\u001b[0m\u001b[0;34m)\u001b[0m\u001b[0;34m.\u001b[0m\u001b[0mGamma\u001b[0m\u001b[0;34m,\u001b[0m\u001b[0;34m\u001b[0m\u001b[0;34m\u001b[0m\u001b[0m\n\u001b[0m\u001b[1;32m      3\u001b[0m     \u001b[0;34m\"Derivative\"\u001b[0m\u001b[0;34m:\u001b[0m \u001b[0mFunctions\u001b[0m\u001b[0;34m(\u001b[0m\u001b[0mMetricArray\u001b[0m\u001b[0;34m,\u001b[0m\u001b[0mBasisArray\u001b[0m\u001b[0;34m,\u001b[0m\u001b[0mDim\u001b[0m\u001b[0;34m)\u001b[0m\u001b[0;34m.\u001b[0m\u001b[0mDerivative\u001b[0m\u001b[0;34m,\u001b[0m\u001b[0;34m\u001b[0m\u001b[0;34m\u001b[0m\u001b[0m\n\u001b[1;32m      4\u001b[0m     \u001b[0;34m\"Inverse Metric\"\u001b[0m\u001b[0;34m:\u001b[0m \u001b[0mFunctions\u001b[0m\u001b[0;34m(\u001b[0m\u001b[0mMetricArray\u001b[0m\u001b[0;34m,\u001b[0m\u001b[0mBasisArray\u001b[0m\u001b[0;34m,\u001b[0m\u001b[0mDim\u001b[0m\u001b[0;34m)\u001b[0m\u001b[0;34m.\u001b[0m\u001b[0mGinv\u001b[0m\u001b[0;34m,\u001b[0m\u001b[0;34m\u001b[0m\u001b[0;34m\u001b[0m\u001b[0m\n\u001b[1;32m      5\u001b[0m     \u001b[0;34m\"Ricci\"\u001b[0m\u001b[0;34m:\u001b[0m\u001b[0mFunctions\u001b[0m\u001b[0;34m(\u001b[0m\u001b[0mMetricArray\u001b[0m\u001b[0;34m,\u001b[0m\u001b[0mBasisArray\u001b[0m\u001b[0;34m,\u001b[0m\u001b[0mDim\u001b[0m\u001b[0;34m)\u001b[0m\u001b[0;34m.\u001b[0m\u001b[0mric\u001b[0m\u001b[0;34m,\u001b[0m\u001b[0;34m\u001b[0m\u001b[0;34m\u001b[0m\u001b[0m\n",
      "\u001b[0;31mNameError\u001b[0m: name 'MetricArray' is not defined"
     ]
    }
   ],
   "source": [
    "fucntionDic = { \n",
    "    \"Gamma\": Functions(MetricArray,BasisArray,Dim).Gamma,\n",
    "    \"Derivative\": Functions(MetricArray,BasisArray,Dim).Derivative,\n",
    "    \"Inverse Metric\": Functions(MetricArray,BasisArray,Dim).Ginv,\n",
    "    \"Ricci\":Functions(MetricArray,BasisArray,Dim).ric,\n",
    "    \"Covariant Riemann\":Functions(MetricArray,BasisArray,Dim).covriemann,\n",
    "    \"Riemann\":Functions(MetricArray,BasisArray,Dim).riemann,\n",
    "    \"Ricci Scalar\":Functions(MetricArray,BasisArray,Dim).ricscalar,\n",
    "    \"K-Scalar\":Functions(MetricArray,BasisArray,Dim).kscalar,\n",
    "    \"CovarientD01\":Functions(MetricArray,BasisArray,Dim).CovariantD01,\n",
    "    \"CovarientD10\":Functions(MetricArray,BasisArray,Dim).CovariantD10,\n",
    "    \"CovarientD11\":Functions(MetricArray,BasisArray,Dim).CovariantD11,\n",
    "    \"CovarientD02\":Functions(MetricArray,BasisArray,Dim).CovariantD02,\n",
    "    \"CovarientD20\":Functions(MetricArray,BasisArray,Dim).CovariantD20\n",
    "    }"
   ]
  },
  {
   "cell_type": "code",
   "execution_count": 39,
   "id": "ed60d55f-8a38-4f80-8b21-c3376f892f28",
   "metadata": {},
   "outputs": [
    {
     "ename": "TypeError",
     "evalue": "__init__() takes 2 positional arguments but 3 were given",
     "output_type": "error",
     "traceback": [
      "\u001b[0;31m---------------------------------------------------------------------------\u001b[0m",
      "\u001b[0;31mTypeError\u001b[0m                                 Traceback (most recent call last)",
      "\u001b[0;32m/var/folders/1g/_127qcc13ll334lvd9yl9vdc0000gn/T/ipykernel_25679/3015111281.py\u001b[0m in \u001b[0;36m<module>\u001b[0;34m\u001b[0m\n\u001b[1;32m     35\u001b[0m             \u001b[0;32mreturn\u001b[0m \u001b[0;34m\"You have not chosen one yet.\"\u001b[0m\u001b[0;34m\u001b[0m\u001b[0;34m\u001b[0m\u001b[0m\n\u001b[1;32m     36\u001b[0m \u001b[0;34m\u001b[0m\u001b[0m\n\u001b[0;32m---> 37\u001b[0;31m \u001b[0mcalculation\u001b[0m\u001b[0;34m(\u001b[0m\u001b[0mschild\u001b[0m\u001b[0;34m,\u001b[0m \u001b[0;34m'[ t , r , theta , phi ]'\u001b[0m\u001b[0;34m,\u001b[0m \u001b[0;34m\"Derivative\"\u001b[0m\u001b[0;34m,\u001b[0m \u001b[0;34m[\u001b[0m\u001b[0;34m'F'\u001b[0m\u001b[0;34m]\u001b[0m\u001b[0;34m)\u001b[0m\u001b[0;34m\u001b[0m\u001b[0;34m\u001b[0m\u001b[0m\n\u001b[0m",
      "\u001b[0;32m/var/folders/1g/_127qcc13ll334lvd9yl9vdc0000gn/T/ipykernel_25679/3015111281.py\u001b[0m in \u001b[0;36mcalculation\u001b[0;34m(MetricString, BasisString, Operation, FunctionsList)\u001b[0m\n\u001b[1;32m      3\u001b[0m         \u001b[0mBasisStringArray\u001b[0m \u001b[0;34m=\u001b[0m \u001b[0mBasisString\u001b[0m\u001b[0;34m.\u001b[0m\u001b[0mreplace\u001b[0m\u001b[0;34m(\u001b[0m\u001b[0;34m'['\u001b[0m\u001b[0;34m,\u001b[0m\u001b[0;34m''\u001b[0m\u001b[0;34m)\u001b[0m\u001b[0;34m.\u001b[0m\u001b[0mreplace\u001b[0m\u001b[0;34m(\u001b[0m\u001b[0;34m']'\u001b[0m\u001b[0;34m,\u001b[0m\u001b[0;34m''\u001b[0m\u001b[0;34m)\u001b[0m\u001b[0;34m.\u001b[0m\u001b[0msplit\u001b[0m\u001b[0;34m(\u001b[0m\u001b[0;34m','\u001b[0m\u001b[0;34m)\u001b[0m\u001b[0;34m\u001b[0m\u001b[0;34m\u001b[0m\u001b[0m\n\u001b[1;32m      4\u001b[0m         \u001b[0mDim\u001b[0m \u001b[0;34m=\u001b[0m \u001b[0mint\u001b[0m\u001b[0;34m(\u001b[0m\u001b[0mlen\u001b[0m\u001b[0;34m(\u001b[0m\u001b[0mMetricStringArray\u001b[0m\u001b[0;34m)\u001b[0m\u001b[0;34m**\u001b[0m\u001b[0;34m(\u001b[0m\u001b[0;36m1\u001b[0m\u001b[0;34m/\u001b[0m\u001b[0;36m2\u001b[0m\u001b[0;34m)\u001b[0m\u001b[0;34m)\u001b[0m\u001b[0;34m\u001b[0m\u001b[0;34m\u001b[0m\u001b[0m\n\u001b[0;32m----> 5\u001b[0;31m         \u001b[0mMetricArray\u001b[0m \u001b[0;34m=\u001b[0m \u001b[0mSympyArray\u001b[0m\u001b[0;34m(\u001b[0m\u001b[0mMetricString\u001b[0m\u001b[0;34m,\u001b[0m \u001b[0mFunctionsList\u001b[0m\u001b[0;34m)\u001b[0m\u001b[0;34m.\u001b[0m\u001b[0mReturnSympyArray\u001b[0m\u001b[0;34m(\u001b[0m\u001b[0;34m)\u001b[0m\u001b[0;34m\u001b[0m\u001b[0;34m\u001b[0m\u001b[0m\n\u001b[0m\u001b[1;32m      6\u001b[0m         \u001b[0mBasisArray\u001b[0m \u001b[0;34m=\u001b[0m \u001b[0mSympyArray\u001b[0m\u001b[0;34m(\u001b[0m\u001b[0mBasisString\u001b[0m\u001b[0;34m,\u001b[0m \u001b[0mFunctionsList\u001b[0m\u001b[0;34m)\u001b[0m\u001b[0;34m.\u001b[0m\u001b[0mReturnSympyArray\u001b[0m\u001b[0;34m(\u001b[0m\u001b[0;34m)\u001b[0m\u001b[0;34m\u001b[0m\u001b[0;34m\u001b[0m\u001b[0m\n\u001b[1;32m      7\u001b[0m \u001b[0;34m\u001b[0m\u001b[0m\n",
      "\u001b[0;32m/var/folders/1g/_127qcc13ll334lvd9yl9vdc0000gn/T/ipykernel_25679/2755635977.py\u001b[0m in \u001b[0;36mReturnSympyArray\u001b[0;34m(self)\u001b[0m\n\u001b[1;32m    195\u001b[0m \u001b[0;34m\u001b[0m\u001b[0m\n\u001b[1;32m    196\u001b[0m     \u001b[0;32mdef\u001b[0m \u001b[0mReturnSympyArray\u001b[0m\u001b[0;34m(\u001b[0m\u001b[0mself\u001b[0m\u001b[0;34m)\u001b[0m\u001b[0;34m:\u001b[0m\u001b[0;34m\u001b[0m\u001b[0;34m\u001b[0m\u001b[0m\n\u001b[0;32m--> 197\u001b[0;31m         \u001b[0mListArray\u001b[0m \u001b[0;34m=\u001b[0m \u001b[0mself\u001b[0m\u001b[0;34m.\u001b[0m\u001b[0mParseToSympyArray\u001b[0m\u001b[0;34m(\u001b[0m\u001b[0;34m)\u001b[0m\u001b[0;34m\u001b[0m\u001b[0;34m\u001b[0m\u001b[0m\n\u001b[0m\u001b[1;32m    198\u001b[0m         \u001b[0mt\u001b[0m \u001b[0;34m=\u001b[0m \u001b[0mself\u001b[0m\u001b[0;34m.\u001b[0m\u001b[0mTupleGenerator\u001b[0m\u001b[0;34m(\u001b[0m\u001b[0;34m)\u001b[0m\u001b[0;34m\u001b[0m\u001b[0;34m\u001b[0m\u001b[0m\n\u001b[1;32m    199\u001b[0m         \u001b[0;32mreturn\u001b[0m \u001b[0mListArray\u001b[0m\u001b[0;34m.\u001b[0m\u001b[0mreshape\u001b[0m\u001b[0;34m(\u001b[0m\u001b[0;34m*\u001b[0m\u001b[0mt\u001b[0m\u001b[0;34m)\u001b[0m\u001b[0;34m\u001b[0m\u001b[0;34m\u001b[0m\u001b[0m\n",
      "\u001b[0;32m/var/folders/1g/_127qcc13ll334lvd9yl9vdc0000gn/T/ipykernel_25679/2755635977.py\u001b[0m in \u001b[0;36mParseToSympyArray\u001b[0;34m(self)\u001b[0m\n\u001b[1;32m    191\u001b[0m         \u001b[0mEmpty\u001b[0m \u001b[0;34m=\u001b[0m \u001b[0mself\u001b[0m\u001b[0;34m.\u001b[0m\u001b[0mCreateListArray\u001b[0m\u001b[0;34m(\u001b[0m\u001b[0;34m)\u001b[0m\u001b[0;34m\u001b[0m\u001b[0;34m\u001b[0m\u001b[0m\n\u001b[1;32m    192\u001b[0m         \u001b[0;32mfor\u001b[0m \u001b[0mi\u001b[0m \u001b[0;32min\u001b[0m \u001b[0mrange\u001b[0m\u001b[0;34m(\u001b[0m\u001b[0mlen\u001b[0m\u001b[0;34m(\u001b[0m\u001b[0mListOfElements\u001b[0m\u001b[0;34m)\u001b[0m\u001b[0;34m)\u001b[0m\u001b[0;34m:\u001b[0m\u001b[0;34m\u001b[0m\u001b[0;34m\u001b[0m\u001b[0m\n\u001b[0;32m--> 193\u001b[0;31m             \u001b[0mEmpty\u001b[0m\u001b[0;34m[\u001b[0m\u001b[0;34m[\u001b[0m\u001b[0mi\u001b[0m\u001b[0;34m]\u001b[0m\u001b[0;34m]\u001b[0m \u001b[0;34m=\u001b[0m \u001b[0mSympyParser\u001b[0m\u001b[0;34m(\u001b[0m\u001b[0mListOfElements\u001b[0m\u001b[0;34m[\u001b[0m\u001b[0mi\u001b[0m\u001b[0;34m]\u001b[0m\u001b[0;34m,\u001b[0m \u001b[0mself\u001b[0m\u001b[0;34m.\u001b[0m\u001b[0mfunctions\u001b[0m\u001b[0;34m)\u001b[0m\u001b[0;34m.\u001b[0m\u001b[0mconvertToSympyObject\u001b[0m\u001b[0;34m(\u001b[0m\u001b[0;34m)\u001b[0m\u001b[0;34m\u001b[0m\u001b[0;34m\u001b[0m\u001b[0m\n\u001b[0m\u001b[1;32m    194\u001b[0m         \u001b[0;32mreturn\u001b[0m \u001b[0mEmpty\u001b[0m\u001b[0;34m\u001b[0m\u001b[0;34m\u001b[0m\u001b[0m\n\u001b[1;32m    195\u001b[0m \u001b[0;34m\u001b[0m\u001b[0m\n",
      "\u001b[0;31mTypeError\u001b[0m: __init__() takes 2 positional arguments but 3 were given"
     ]
    }
   ],
   "source": [
    "def calculation(MetricString, BasisString, Operation, FunctionsList):\n",
    "        MetricStringArray = MetricString.replace('[','').replace(']','').split(',')\n",
    "        BasisStringArray = BasisString.replace('[','').replace(']','').split(',')\n",
    "        Dim = int(len(MetricStringArray)**(1/2))\n",
    "        MetricArray = SympyArray(MetricString, FunctionsList).ReturnSympyArray()\n",
    "        BasisArray = SympyArray(BasisString, FunctionsList).ReturnSympyArray()\n",
    "\n",
    "        if Operation == \"Gamma\":\n",
    "            return smp.latex(Functions(MetricArray,BasisArray,Dim).Derivative())\n",
    "        elif Operation == \"Derivative\":\n",
    "            return Functions(MetricArray,BasisArray,Dim).Derivative()\n",
    "        elif Operation == \"Inverse Metric\":\n",
    "            return smp.latex(Functions(MetricArray,BasisArray,Dim).Ginv())\n",
    "        elif Operation == \"Ricci\":\n",
    "            return smp.latex(Functions(MetricArray,BasisArray,Dim).ric())\n",
    "        elif Operation == \"Covariant Riemann\":\n",
    "            return smp.latex(Functions(MetricArray,BasisArray,Dim).covriemann())\n",
    "        elif Operation == \"Riemann\":\n",
    "            return smp.latex(Functions(MetricArray,BasisArray,Dim).riemann())\n",
    "        elif Operation == \"Ricci Scalar\":\n",
    "            return smp.latex(Functions(MetricArray,BasisArray,Dim).ricscalar())\n",
    "        elif Operation == \"K-Scalar\":\n",
    "            return smp.latex(Functions(MetricArray,BasisArray,Dim).kscalar())\n",
    "        elif Operation == \"CovarientD01\":\n",
    "            return smp.latex(Functions(MetricArray,BasisArray,Dim).CovariantD01())\n",
    "        elif Operation == \"CovarientD10\":\n",
    "            return smp.latex(Functions(MetricArray,BasisArray,Dim).CovariantD10())\n",
    "        elif Operation == \"CovarientD11\":\n",
    "            return smp.latex(Functions(MetricArray,BasisArray,Dim).CovariantD11())\n",
    "        elif Operation == \"CovarientD02\":\n",
    "            return smp.latex(Functions(MetricArray,BasisArray,Dim).CovariantD02())\n",
    "        elif Operation == \"CovarientD20\":\n",
    "            return smp.latex(Functions(MetricArray,BasisArray,Dim).CovariantD20())\n",
    "        else:\n",
    "            return \"You have not chosen one yet.\"\n",
    "\n",
    "calculation(schild, '[ t , r , theta , phi ]', \"Derivative\", ['F'])"
   ]
  },
  {
   "cell_type": "code",
   "execution_count": 40,
   "id": "bc4108af-697a-4cb8-8498-4fec3dc3ef16",
   "metadata": {},
   "outputs": [
    {
     "ename": "TypeError",
     "evalue": "__init__() takes 2 positional arguments but 3 were given",
     "output_type": "error",
     "traceback": [
      "\u001b[0;31m---------------------------------------------------------------------------\u001b[0m",
      "\u001b[0;31mTypeError\u001b[0m                                 Traceback (most recent call last)",
      "\u001b[0;32m/var/folders/1g/_127qcc13ll334lvd9yl9vdc0000gn/T/ipykernel_25679/2142628280.py\u001b[0m in \u001b[0;36m<module>\u001b[0;34m\u001b[0m\n\u001b[1;32m     28\u001b[0m     \u001b[0;32mreturn\u001b[0m \u001b[0moperations\u001b[0m\u001b[0;34m[\u001b[0m\u001b[0mOperation\u001b[0m\u001b[0;34m]\u001b[0m\u001b[0;34m(\u001b[0m\u001b[0;34m)\u001b[0m\u001b[0;34m\u001b[0m\u001b[0;34m\u001b[0m\u001b[0m\n\u001b[1;32m     29\u001b[0m \u001b[0;34m\u001b[0m\u001b[0m\n\u001b[0;32m---> 30\u001b[0;31m \u001b[0mnew_calculation\u001b[0m\u001b[0;34m(\u001b[0m\u001b[0mschild\u001b[0m\u001b[0;34m,\u001b[0m \u001b[0;34m'[t,r,theta,phi]'\u001b[0m\u001b[0;34m,\u001b[0m \u001b[0;34m\"Derivative\"\u001b[0m\u001b[0;34m,\u001b[0m \u001b[0;34m[\u001b[0m\u001b[0;34m'F'\u001b[0m\u001b[0;34m]\u001b[0m\u001b[0;34m)\u001b[0m\u001b[0;34m\u001b[0m\u001b[0;34m\u001b[0m\u001b[0m\n\u001b[0m\u001b[1;32m     31\u001b[0m \u001b[0;31m#schild.replace('[', ' [ ').replace(']',' ] ').replace(',', ' , ').replace('[','').replace(']','').split(',')\u001b[0m\u001b[0;34m\u001b[0m\u001b[0;34m\u001b[0m\u001b[0m\n",
      "\u001b[0;32m/var/folders/1g/_127qcc13ll334lvd9yl9vdc0000gn/T/ipykernel_25679/2142628280.py\u001b[0m in \u001b[0;36mnew_calculation\u001b[0;34m(MetricString, BasisString, Operation, FunctionsList)\u001b[0m\n\u001b[1;32m      8\u001b[0m \u001b[0;34m\u001b[0m\u001b[0m\n\u001b[1;32m      9\u001b[0m     \u001b[0mDim\u001b[0m \u001b[0;34m=\u001b[0m \u001b[0mint\u001b[0m\u001b[0;34m(\u001b[0m\u001b[0mlen\u001b[0m\u001b[0;34m(\u001b[0m\u001b[0mTempBasis\u001b[0m\u001b[0;34m.\u001b[0m\u001b[0msplit\u001b[0m\u001b[0;34m(\u001b[0m\u001b[0;34m','\u001b[0m\u001b[0;34m)\u001b[0m\u001b[0;34m)\u001b[0m\u001b[0;34m)\u001b[0m\u001b[0;34m\u001b[0m\u001b[0;34m\u001b[0m\u001b[0m\n\u001b[0;32m---> 10\u001b[0;31m     \u001b[0mMetricArray\u001b[0m \u001b[0;34m=\u001b[0m \u001b[0mSympyArray\u001b[0m\u001b[0;34m(\u001b[0m\u001b[0mTempMetric\u001b[0m\u001b[0;34m,\u001b[0m \u001b[0mFunctionsList\u001b[0m\u001b[0;34m)\u001b[0m\u001b[0;34m.\u001b[0m\u001b[0mReturnSympyArray\u001b[0m\u001b[0;34m(\u001b[0m\u001b[0;34m)\u001b[0m\u001b[0;34m\u001b[0m\u001b[0;34m\u001b[0m\u001b[0m\n\u001b[0m\u001b[1;32m     11\u001b[0m     \u001b[0mBasisArray\u001b[0m \u001b[0;34m=\u001b[0m \u001b[0mSympyArray\u001b[0m\u001b[0;34m(\u001b[0m\u001b[0mTempBasis\u001b[0m\u001b[0;34m,\u001b[0m \u001b[0mFunctionsList\u001b[0m\u001b[0;34m)\u001b[0m\u001b[0;34m.\u001b[0m\u001b[0mReturnSympyArray\u001b[0m\u001b[0;34m(\u001b[0m\u001b[0;34m)\u001b[0m\u001b[0;34m\u001b[0m\u001b[0;34m\u001b[0m\u001b[0m\n\u001b[1;32m     12\u001b[0m     \u001b[0mInstance\u001b[0m \u001b[0;34m=\u001b[0m \u001b[0mFunctions\u001b[0m\u001b[0;34m(\u001b[0m\u001b[0mMetricArray\u001b[0m\u001b[0;34m,\u001b[0m\u001b[0mBasisArray\u001b[0m\u001b[0;34m,\u001b[0m\u001b[0mDim\u001b[0m\u001b[0;34m)\u001b[0m\u001b[0;34m\u001b[0m\u001b[0;34m\u001b[0m\u001b[0m\n",
      "\u001b[0;32m/var/folders/1g/_127qcc13ll334lvd9yl9vdc0000gn/T/ipykernel_25679/2755635977.py\u001b[0m in \u001b[0;36mReturnSympyArray\u001b[0;34m(self)\u001b[0m\n\u001b[1;32m    195\u001b[0m \u001b[0;34m\u001b[0m\u001b[0m\n\u001b[1;32m    196\u001b[0m     \u001b[0;32mdef\u001b[0m \u001b[0mReturnSympyArray\u001b[0m\u001b[0;34m(\u001b[0m\u001b[0mself\u001b[0m\u001b[0;34m)\u001b[0m\u001b[0;34m:\u001b[0m\u001b[0;34m\u001b[0m\u001b[0;34m\u001b[0m\u001b[0m\n\u001b[0;32m--> 197\u001b[0;31m         \u001b[0mListArray\u001b[0m \u001b[0;34m=\u001b[0m \u001b[0mself\u001b[0m\u001b[0;34m.\u001b[0m\u001b[0mParseToSympyArray\u001b[0m\u001b[0;34m(\u001b[0m\u001b[0;34m)\u001b[0m\u001b[0;34m\u001b[0m\u001b[0;34m\u001b[0m\u001b[0m\n\u001b[0m\u001b[1;32m    198\u001b[0m         \u001b[0mt\u001b[0m \u001b[0;34m=\u001b[0m \u001b[0mself\u001b[0m\u001b[0;34m.\u001b[0m\u001b[0mTupleGenerator\u001b[0m\u001b[0;34m(\u001b[0m\u001b[0;34m)\u001b[0m\u001b[0;34m\u001b[0m\u001b[0;34m\u001b[0m\u001b[0m\n\u001b[1;32m    199\u001b[0m         \u001b[0;32mreturn\u001b[0m \u001b[0mListArray\u001b[0m\u001b[0;34m.\u001b[0m\u001b[0mreshape\u001b[0m\u001b[0;34m(\u001b[0m\u001b[0;34m*\u001b[0m\u001b[0mt\u001b[0m\u001b[0;34m)\u001b[0m\u001b[0;34m\u001b[0m\u001b[0;34m\u001b[0m\u001b[0m\n",
      "\u001b[0;32m/var/folders/1g/_127qcc13ll334lvd9yl9vdc0000gn/T/ipykernel_25679/2755635977.py\u001b[0m in \u001b[0;36mParseToSympyArray\u001b[0;34m(self)\u001b[0m\n\u001b[1;32m    191\u001b[0m         \u001b[0mEmpty\u001b[0m \u001b[0;34m=\u001b[0m \u001b[0mself\u001b[0m\u001b[0;34m.\u001b[0m\u001b[0mCreateListArray\u001b[0m\u001b[0;34m(\u001b[0m\u001b[0;34m)\u001b[0m\u001b[0;34m\u001b[0m\u001b[0;34m\u001b[0m\u001b[0m\n\u001b[1;32m    192\u001b[0m         \u001b[0;32mfor\u001b[0m \u001b[0mi\u001b[0m \u001b[0;32min\u001b[0m \u001b[0mrange\u001b[0m\u001b[0;34m(\u001b[0m\u001b[0mlen\u001b[0m\u001b[0;34m(\u001b[0m\u001b[0mListOfElements\u001b[0m\u001b[0;34m)\u001b[0m\u001b[0;34m)\u001b[0m\u001b[0;34m:\u001b[0m\u001b[0;34m\u001b[0m\u001b[0;34m\u001b[0m\u001b[0m\n\u001b[0;32m--> 193\u001b[0;31m             \u001b[0mEmpty\u001b[0m\u001b[0;34m[\u001b[0m\u001b[0;34m[\u001b[0m\u001b[0mi\u001b[0m\u001b[0;34m]\u001b[0m\u001b[0;34m]\u001b[0m \u001b[0;34m=\u001b[0m \u001b[0mSympyParser\u001b[0m\u001b[0;34m(\u001b[0m\u001b[0mListOfElements\u001b[0m\u001b[0;34m[\u001b[0m\u001b[0mi\u001b[0m\u001b[0;34m]\u001b[0m\u001b[0;34m,\u001b[0m \u001b[0mself\u001b[0m\u001b[0;34m.\u001b[0m\u001b[0mfunctions\u001b[0m\u001b[0;34m)\u001b[0m\u001b[0;34m.\u001b[0m\u001b[0mconvertToSympyObject\u001b[0m\u001b[0;34m(\u001b[0m\u001b[0;34m)\u001b[0m\u001b[0;34m\u001b[0m\u001b[0;34m\u001b[0m\u001b[0m\n\u001b[0m\u001b[1;32m    194\u001b[0m         \u001b[0;32mreturn\u001b[0m \u001b[0mEmpty\u001b[0m\u001b[0;34m\u001b[0m\u001b[0;34m\u001b[0m\u001b[0m\n\u001b[1;32m    195\u001b[0m \u001b[0;34m\u001b[0m\u001b[0m\n",
      "\u001b[0;31mTypeError\u001b[0m: __init__() takes 2 positional arguments but 3 were given"
     ]
    }
   ],
   "source": [
    "schild = '[[(-(1 - 2/(r))) , 0 , 0 , 0 ],[ 0 , (1/(1 - 2/(r))) , 0 , 0 ],[ 0 , 0 , F(r**2) , 0 ],[ 0 , 0 , 0 , (r**2*sin(theta)**2) ]]'\n",
    "Matrix = '[[[[1,2],[3,4]],[[1,2],[3,4]]],[[[1,2],[3,4]],[[1,2],[3,4]]]]'\n",
    "\n",
    "def new_calculation(MetricString, BasisString, Operation, FunctionsList):\n",
    "    TempMetric = MetricString.replace('[', '[ ').replace(']',' ]').replace(',', ' , ')\n",
    "    TempBasis = BasisString.replace('[', '[ ').replace(']',' ]').replace(',', ' , ')\n",
    "\n",
    "    \n",
    "    Dim = int(len(TempBasis.split(',')))\n",
    "    MetricArray = SympyArray(TempMetric, FunctionsList).ReturnSympyArray()\n",
    "    BasisArray = SympyArray(TempBasis, FunctionsList).ReturnSympyArray()\n",
    "    Instance = Functions(MetricArray,BasisArray,Dim)\n",
    "    operations = {\n",
    "    \"Gamma\": Instance.Gamma,\n",
    "    \"Derivative\": Instance.Derivative,\n",
    "    \"Inverse Metric\": Instance.Ginv,\n",
    "    \"Ricci\":Instance.ric,\n",
    "    \"Covariant Riemann\":Instance.covriemann,\n",
    "    \"Riemann\":Instance.riemann,\n",
    "    \"Ricci Scalar\":Instance.ricscalar,\n",
    "    \"K-Scalar\":Instance.kscalar,\n",
    "    \"CovarientD01\":Instance.CovariantD01,\n",
    "    \"CovarientD10\":Instance.CovariantD10,\n",
    "    \"CovarientD11\":Instance.CovariantD11,\n",
    "    \"CovarientD02\":Instance.CovariantD02,\n",
    "    \"CovarientD20\":Instance.CovariantD20\n",
    "    }\n",
    "    return operations[Operation]()\n",
    "\n",
    "new_calculation(schild, '[t,r,theta,phi]', \"Derivative\", ['F'])\n",
    "#schild.replace('[', ' [ ').replace(']',' ] ').replace(',', ' , ').replace('[','').replace(']','').split(',')"
   ]
  },
  {
   "cell_type": "code",
   "execution_count": 41,
   "id": "652b6243-3e9c-4092-ae85-179d960634a1",
   "metadata": {},
   "outputs": [
    {
     "data": {
      "text/latex": [
       "$\\displaystyle 0 + 1$"
      ],
      "text/plain": [
       "0 + 1"
      ]
     },
     "execution_count": 41,
     "metadata": {},
     "output_type": "execute_result"
    }
   ],
   "source": [
    "r = smp.symbols('0') \n",
    "t = smp.symbols('1', float = True)\n",
    "\n",
    "t + r"
   ]
  },
  {
   "cell_type": "code",
   "execution_count": 42,
   "id": "3266ec15-4ada-4a4d-b1ad-cc4a6c349b2d",
   "metadata": {},
   "outputs": [],
   "source": [
    "class WebAppFunctions:\n",
    "    def __init__(self, MetricString, BasisString, Operation):\n",
    "        self.MetricString = MetricString\n",
    "        self.BasisString = BasisString\n",
    "        self.Operation = Operation\n",
    "        self.SelectBoxConstants = [\"Gamma\",\n",
    "                    \"Derivative\",\n",
    "                    \"Inverse Metric\",\n",
    "                    \"Ricci\",\n",
    "                    \"Covariant Riemann\",\n",
    "                    \"Riemann\",\n",
    "                    \"Ricci Scalar\",\n",
    "                    \"K-Scalar\",\n",
    "                    \"CovarientD01\",\n",
    "                    \"CovarientD10\",\n",
    "                    \"CovarientD11\",\n",
    "                    \"CovarientD02\",\n",
    "                    \"CovarientD20\"]\n",
    "\n",
    "    def parser(string):\n",
    "        StringArray = string.replace('[','').replace(']','').split(',')\n",
    "        Dim = int(len(StringArray)**(1/2))\n",
    "        transformations = standard_transformations + (implicit_multiplication_application,)\n",
    "        Array = smp.MutableDenseNDimArray(np.zeros(Dim*Dim),(Dim*Dim))\n",
    "        for i in range(Dim*Dim):\n",
    "            Array[[i]] = parse_expr(StringArray[i], transformations=transformations)    \n",
    "        Input = smp.ImmutableMatrix(Array.reshape(Dim,Dim))\n",
    "        return Input\n",
    "\n",
    "    def calculation(self):\n",
    "        MetricStringArray = self.MetricString.replace('[','').replace(']','').split(',')\n",
    "        BasisStringArray = self.BasisString.replace('[','').replace(']','').split(',')\n",
    "        Dim = int(len(MetricStringArray)**(1/2))\n",
    "        MetricArray = smp.MutableDenseNDimArray(np.zeros(Dim*Dim),(Dim*Dim))\n",
    "        BasisArray = smp.MutableDenseNDimArray(np.zeros(Dim),(Dim))\n",
    "        for i in range(Dim*Dim):\n",
    "            MetricArray[[i]] = SympyParser.convertToSympyObject\n",
    "            print(MetricArray)\n",
    "        for i in range(Dim):\n",
    "            BasisArray[[i]] = SympyParser.convertToSympyObject(BasisStringArray[i])\n",
    "            print(BasisArray)\n",
    "            \n",
    "        if self.Operation == \"Gamma\":\n",
    "            return smp.latex(Functions(MetricArray.reshape(Dim,Dim),BasisArray,Dim).Gamma())\n",
    "        elif self.Operation == \"Derivative\":\n",
    "            return Functions(MetricArray.reshape(Dim,Dim),BasisArray,Dim).Derivative()\n",
    "        elif self.Operation == \"Inverse Metric\":\n",
    "            return smp.latex(Functions(MetricArray.reshape(Dim,Dim),BasisArray,Dim).Ginv())\n",
    "        elif self.Operation == \"Ricci\":\n",
    "            return smp.latex(Functions(MetricArray.reshape(Dim,Dim),BasisArray,Dim).ric())\n",
    "        elif self.Operation == \"Covariant Riemann\":\n",
    "            return smp.latex(Functions(MetricArray.reshape(Dim,Dim),BasisArray,Dim).covriemann())\n",
    "        elif self.Operation == \"Riemann\":\n",
    "            return smp.latex(Functions(MetricArray.reshape(Dim,Dim),BasisArray,Dim).riemann())\n",
    "        elif self.Operation == \"Ricci Scalar\":\n",
    "            return smp.latex(Functions(MetricArray.reshape(Dim,Dim),BasisArray,Dim).ricscalar())\n",
    "        elif self.Operation == \"K-Scalar\":\n",
    "            return smp.latex(Functions(MetricArray.reshape(Dim,Dim),BasisArray,Dim).kscalar())\n",
    "        elif self.Operation == \"CovarientD01\":\n",
    "            return smp.latex(Functions(MetricArray.reshape(Dim,Dim),BasisArray,Dim).CovariantD01())\n",
    "        elif self.Operation == \"CovarientD10\":\n",
    "            return smp.latex(Functions(MetricArray.reshape(Dim,Dim),BasisArray,Dim).CovariantD10())\n",
    "        elif self.Operation == \"CovarientD11\":\n",
    "            return smp.latex(Functions(MetricArray.reshape(Dim,Dim),BasisArray,Dim).CovariantD11())\n",
    "        elif self.Operation == \"CovarientD02\":\n",
    "            return smp.latex(Functions(MetricArray.reshape(Dim,Dim),BasisArray,Dim).CovariantD02())\n",
    "        elif self.Operation == \"CovarientD20\":\n",
    "            return smp.latex(Functions(MetricArray.reshape(Dim,Dim),BasisArray,Dim).CovariantD20())\n",
    "        else:\n",
    "            return \"You have not chosen one yet.\"\n",
    "\n",
    "    def metricStringToLatex(string):\n",
    "        newString = string.replace('[[','').replace('],[','\\\\\\\\').replace(',','&').replace(']]','').replace('**','^')\n",
    "        trigString = newString.replace('theta', '\\\\theta').replace('phi', '\\\\phi').replace('omega', '\\\\omega').replace('sigma', '\\\\sigma')\n",
    "        latexObject = st.latex(r\"\"\"\\begin{{equation}} g_{{\\mu \\nu}} = \\begin{{pmatrix}} {} \\end{{pmatrix}} \\end{{equation}}\"\"\".format(trigString))\n",
    "        return latexObject\n",
    "\n",
    "    def basisStringToLatex(string):\n",
    "        newString = string.replace('[[','').replace('],[','\\\\\\\\').replace(',','&').replace(']]','').replace('**','^')\n",
    "        trigString = newString.replace('theta', '\\\\theta').replace('phi', '\\\\phi').replace('omega', '\\\\omega').replace('sigma', '\\\\sigma')\n",
    "        latexObject = st.latex(r\"\"\"\\begin{{equation}}  \\begin{{pmatrix}} {} \\end{{pmatrix}} \\end{{equation}}\"\"\".format(trigString))\n",
    "        return latexObject\n",
    "\n",
    "    selectBoxConstants = [\"Gamma\",\n",
    "                    \"Derivative\",\n",
    "                    \"Inverse Metric\",\n",
    "                    \"Ricci\",\n",
    "                    \"Covariant Riemann\",\n",
    "                    \"Riemann\",\n",
    "                    \"Ricci Scalar\",\n",
    "                    \"K-Scalar\",\n",
    "                    \"CovarientD01\",\n",
    "                    \"CovarientD10\",\n",
    "                    \"CovarientD11\",\n",
    "                    \"CovarientD02\",\n",
    "                    \"CovarientD20\"]"
   ]
  },
  {
   "cell_type": "code",
   "execution_count": 43,
   "id": "e7d9708f-bf14-407b-8bf5-b30369736f96",
   "metadata": {},
   "outputs": [
    {
     "ename": "SympifyError",
     "evalue": "SympifyError: <function SympyParser.convertToSympyObject at 0x7f98a0d01790>",
     "output_type": "error",
     "traceback": [
      "\u001b[0;31m---------------------------------------------------------------------------\u001b[0m",
      "\u001b[0;31mSympifyError\u001b[0m                              Traceback (most recent call last)",
      "\u001b[0;32m/var/folders/1g/_127qcc13ll334lvd9yl9vdc0000gn/T/ipykernel_25679/3389927405.py\u001b[0m in \u001b[0;36m<module>\u001b[0;34m\u001b[0m\n\u001b[0;32m----> 1\u001b[0;31m \u001b[0mWebAppFunctions\u001b[0m\u001b[0;34m(\u001b[0m\u001b[0mschild\u001b[0m\u001b[0;34m,\u001b[0m \u001b[0;34m'[t, t, theta, phi]'\u001b[0m\u001b[0;34m,\u001b[0m \u001b[0;34m\"Inverse\"\u001b[0m\u001b[0;34m)\u001b[0m\u001b[0;34m.\u001b[0m\u001b[0mcalculation\u001b[0m\u001b[0;34m(\u001b[0m\u001b[0;34m)\u001b[0m\u001b[0;34m\u001b[0m\u001b[0;34m\u001b[0m\u001b[0m\n\u001b[0m",
      "\u001b[0;32m/var/folders/1g/_127qcc13ll334lvd9yl9vdc0000gn/T/ipykernel_25679/295543914.py\u001b[0m in \u001b[0;36mcalculation\u001b[0;34m(self)\u001b[0m\n\u001b[1;32m     35\u001b[0m         \u001b[0mBasisArray\u001b[0m \u001b[0;34m=\u001b[0m \u001b[0msmp\u001b[0m\u001b[0;34m.\u001b[0m\u001b[0mMutableDenseNDimArray\u001b[0m\u001b[0;34m(\u001b[0m\u001b[0mnp\u001b[0m\u001b[0;34m.\u001b[0m\u001b[0mzeros\u001b[0m\u001b[0;34m(\u001b[0m\u001b[0mDim\u001b[0m\u001b[0;34m)\u001b[0m\u001b[0;34m,\u001b[0m\u001b[0;34m(\u001b[0m\u001b[0mDim\u001b[0m\u001b[0;34m)\u001b[0m\u001b[0;34m)\u001b[0m\u001b[0;34m\u001b[0m\u001b[0;34m\u001b[0m\u001b[0m\n\u001b[1;32m     36\u001b[0m         \u001b[0;32mfor\u001b[0m \u001b[0mi\u001b[0m \u001b[0;32min\u001b[0m \u001b[0mrange\u001b[0m\u001b[0;34m(\u001b[0m\u001b[0mDim\u001b[0m\u001b[0;34m*\u001b[0m\u001b[0mDim\u001b[0m\u001b[0;34m)\u001b[0m\u001b[0;34m:\u001b[0m\u001b[0;34m\u001b[0m\u001b[0;34m\u001b[0m\u001b[0m\n\u001b[0;32m---> 37\u001b[0;31m             \u001b[0mMetricArray\u001b[0m\u001b[0;34m[\u001b[0m\u001b[0;34m[\u001b[0m\u001b[0mi\u001b[0m\u001b[0;34m]\u001b[0m\u001b[0;34m]\u001b[0m \u001b[0;34m=\u001b[0m \u001b[0mSympyParser\u001b[0m\u001b[0;34m.\u001b[0m\u001b[0mconvertToSympyObject\u001b[0m\u001b[0;34m\u001b[0m\u001b[0;34m\u001b[0m\u001b[0m\n\u001b[0m\u001b[1;32m     38\u001b[0m             \u001b[0mprint\u001b[0m\u001b[0;34m(\u001b[0m\u001b[0mMetricArray\u001b[0m\u001b[0;34m)\u001b[0m\u001b[0;34m\u001b[0m\u001b[0;34m\u001b[0m\u001b[0m\n\u001b[1;32m     39\u001b[0m         \u001b[0;32mfor\u001b[0m \u001b[0mi\u001b[0m \u001b[0;32min\u001b[0m \u001b[0mrange\u001b[0m\u001b[0;34m(\u001b[0m\u001b[0mDim\u001b[0m\u001b[0;34m)\u001b[0m\u001b[0;34m:\u001b[0m\u001b[0;34m\u001b[0m\u001b[0;34m\u001b[0m\u001b[0m\n",
      "\u001b[0;32m~/opt/anaconda3/lib/python3.9/site-packages/sympy/tensor/array/dense_ndim_array.py\u001b[0m in \u001b[0;36m__setitem__\u001b[0;34m(self, index, value)\u001b[0m\n\u001b[1;32m    193\u001b[0m             \u001b[0mindex\u001b[0m \u001b[0;34m=\u001b[0m \u001b[0mself\u001b[0m\u001b[0;34m.\u001b[0m\u001b[0m_parse_index\u001b[0m\u001b[0;34m(\u001b[0m\u001b[0mindex\u001b[0m\u001b[0;34m)\u001b[0m\u001b[0;34m\u001b[0m\u001b[0;34m\u001b[0m\u001b[0m\n\u001b[1;32m    194\u001b[0m             \u001b[0mself\u001b[0m\u001b[0;34m.\u001b[0m\u001b[0m_setter_iterable_check\u001b[0m\u001b[0;34m(\u001b[0m\u001b[0mvalue\u001b[0m\u001b[0;34m)\u001b[0m\u001b[0;34m\u001b[0m\u001b[0;34m\u001b[0m\u001b[0m\n\u001b[0;32m--> 195\u001b[0;31m             \u001b[0mvalue\u001b[0m \u001b[0;34m=\u001b[0m \u001b[0m_sympify\u001b[0m\u001b[0;34m(\u001b[0m\u001b[0mvalue\u001b[0m\u001b[0;34m)\u001b[0m\u001b[0;34m\u001b[0m\u001b[0;34m\u001b[0m\u001b[0m\n\u001b[0m\u001b[1;32m    196\u001b[0m             \u001b[0mself\u001b[0m\u001b[0;34m.\u001b[0m\u001b[0m_array\u001b[0m\u001b[0;34m[\u001b[0m\u001b[0mindex\u001b[0m\u001b[0;34m]\u001b[0m \u001b[0;34m=\u001b[0m \u001b[0mvalue\u001b[0m\u001b[0;34m\u001b[0m\u001b[0;34m\u001b[0m\u001b[0m\n\u001b[1;32m    197\u001b[0m \u001b[0;34m\u001b[0m\u001b[0m\n",
      "\u001b[0;32m~/opt/anaconda3/lib/python3.9/site-packages/sympy/core/sympify.py\u001b[0m in \u001b[0;36m_sympify\u001b[0;34m(a)\u001b[0m\n\u001b[1;32m    503\u001b[0m \u001b[0;34m\u001b[0m\u001b[0m\n\u001b[1;32m    504\u001b[0m     \"\"\"\n\u001b[0;32m--> 505\u001b[0;31m     \u001b[0;32mreturn\u001b[0m \u001b[0msympify\u001b[0m\u001b[0;34m(\u001b[0m\u001b[0ma\u001b[0m\u001b[0;34m,\u001b[0m \u001b[0mstrict\u001b[0m\u001b[0;34m=\u001b[0m\u001b[0;32mTrue\u001b[0m\u001b[0;34m)\u001b[0m\u001b[0;34m\u001b[0m\u001b[0;34m\u001b[0m\u001b[0m\n\u001b[0m\u001b[1;32m    506\u001b[0m \u001b[0;34m\u001b[0m\u001b[0m\n\u001b[1;32m    507\u001b[0m \u001b[0;34m\u001b[0m\u001b[0m\n",
      "\u001b[0;32m~/opt/anaconda3/lib/python3.9/site-packages/sympy/core/sympify.py\u001b[0m in \u001b[0;36msympify\u001b[0;34m(a, locals, convert_xor, strict, rational, evaluate)\u001b[0m\n\u001b[1;32m    431\u001b[0m \u001b[0;34m\u001b[0m\u001b[0m\n\u001b[1;32m    432\u001b[0m     \u001b[0;32mif\u001b[0m \u001b[0mstrict\u001b[0m\u001b[0;34m:\u001b[0m\u001b[0;34m\u001b[0m\u001b[0;34m\u001b[0m\u001b[0m\n\u001b[0;32m--> 433\u001b[0;31m         \u001b[0;32mraise\u001b[0m \u001b[0mSympifyError\u001b[0m\u001b[0;34m(\u001b[0m\u001b[0ma\u001b[0m\u001b[0;34m)\u001b[0m\u001b[0;34m\u001b[0m\u001b[0;34m\u001b[0m\u001b[0m\n\u001b[0m\u001b[1;32m    434\u001b[0m \u001b[0;34m\u001b[0m\u001b[0m\n\u001b[1;32m    435\u001b[0m     \u001b[0;32mif\u001b[0m \u001b[0miterable\u001b[0m\u001b[0;34m(\u001b[0m\u001b[0ma\u001b[0m\u001b[0;34m)\u001b[0m\u001b[0;34m:\u001b[0m\u001b[0;34m\u001b[0m\u001b[0;34m\u001b[0m\u001b[0m\n",
      "\u001b[0;31mSympifyError\u001b[0m: SympifyError: <function SympyParser.convertToSympyObject at 0x7f98a0d01790>"
     ]
    }
   ],
   "source": [
    "WebAppFunctions(schild, '[t, t, theta, phi]', \"Inverse\").calculation()"
   ]
  },
  {
   "cell_type": "code",
   "execution_count": null,
   "id": "d842fdcc-94a0-4bf0-a8a1-e022cd44f863",
   "metadata": {},
   "outputs": [],
   "source": []
  },
  {
   "cell_type": "code",
   "execution_count": null,
   "id": "03361694-3f5d-4807-8d78-5dbdf0a4861f",
   "metadata": {},
   "outputs": [],
   "source": []
  }
 ],
 "metadata": {
  "kernelspec": {
   "display_name": "Python 3 (ipykernel)",
   "language": "python",
   "name": "python3"
  },
  "language_info": {
   "codemirror_mode": {
    "name": "ipython",
    "version": 3
   },
   "file_extension": ".py",
   "mimetype": "text/x-python",
   "name": "python",
   "nbconvert_exporter": "python",
   "pygments_lexer": "ipython3",
   "version": "3.9.7"
  }
 },
 "nbformat": 4,
 "nbformat_minor": 5
}
